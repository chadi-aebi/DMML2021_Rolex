{
  "nbformat": 4,
  "nbformat_minor": 0,
  "metadata": {
    "colab": {
      "name": "Notebook_Rolex.ipynb",
      "provenance": [],
      "collapsed_sections": [],
      "include_colab_link": true
    },
    "kernelspec": {
      "name": "python3",
      "display_name": "Python 3"
    },
    "language_info": {
      "name": "python"
    }
  },
  "cells": [
    {
      "cell_type": "markdown",
      "metadata": {
        "id": "view-in-github",
        "colab_type": "text"
      },
      "source": [
        "<a href=\"https://colab.research.google.com/github/chadi-aebi/DMML2021_Rolex/blob/main/code/Notebook_Rolex.ipynb\" target=\"_parent\"><img src=\"https://colab.research.google.com/assets/colab-badge.svg\" alt=\"Open In Colab\"/></a>"
      ]
    },
    {
      "cell_type": "markdown",
      "metadata": {
        "id": "Ee1dPZ5x3h76"
      },
      "source": [
        "<h1> UNIL Team Rolex\n",
        "\n",
        "\n"
      ]
    },
    {
      "cell_type": "markdown",
      "source": [
        "In this notebook we will proceed as follows:\n",
        "\n",
        "First we prepare the notebook by importing essential methods and components for text analytics. Then we will start with some preparations such as building a tokenizer with different possible features to apply this later in the classification.\n",
        "\n",
        "Subsequently, we start the text analytics divided by the different classifiers starting with a baseline calculation.\n",
        "Each classifier section starts with a classification without any data preprocessing or other features. Then we tune the hyperparameters for the classifier to find the best parameters. After that, we train models that also implement the preprocessing of data, we try word embeddings and in the end we try out dimensionality reduction and standardisation.\n",
        "\n",
        "The notebook has the following chapters:\n",
        "\n",
        "\n",
        "\n",
        "*   0.1.   Preparation to start working - impor necessary methods etc.\n",
        "*   0.2.   Further preparation for classification\n",
        "\n",
        "\n",
        "1.     Baseline calculation\n",
        "2.     Logistic Regression\n",
        "3.     kNN Classifier\n",
        "4.     Decision Tree\n",
        "5.     Random Forests\n",
        "6.     Linear Support Vector Classification\n",
        "\n",
        "\n"
      ],
      "metadata": {
        "id": "wL9btvP1beMI"
      }
    },
    {
      "cell_type": "markdown",
      "source": [
        "# 0.1 Preparation to start working - import necessary methods etc."
      ],
      "metadata": {
        "id": "3TkfqWbwbecy"
      }
    },
    {
      "cell_type": "code",
      "metadata": {
        "colab": {
          "base_uri": "https://localhost:8080/"
        },
        "id": "gNRi80vlEyt1",
        "outputId": "ae270ed5-2c09-4f4f-9424-d1f3771003d6"
      },
      "source": [
        "#Install and update spacy\n",
        "!pip install -U spacy\n",
        "#Download the french language model\n",
        "!python -m spacy download fr_core_news_sm"
      ],
      "execution_count": 19,
      "outputs": [
        {
          "output_type": "stream",
          "name": "stdout",
          "text": [
            "Requirement already satisfied: spacy in /usr/local/lib/python3.7/dist-packages (3.2.1)\n",
            "Requirement already satisfied: preshed<3.1.0,>=3.0.2 in /usr/local/lib/python3.7/dist-packages (from spacy) (3.0.6)\n",
            "Requirement already satisfied: jinja2 in /usr/local/lib/python3.7/dist-packages (from spacy) (2.11.3)\n",
            "Requirement already satisfied: packaging>=20.0 in /usr/local/lib/python3.7/dist-packages (from spacy) (21.3)\n",
            "Requirement already satisfied: wasabi<1.1.0,>=0.8.1 in /usr/local/lib/python3.7/dist-packages (from spacy) (0.8.2)\n",
            "Requirement already satisfied: murmurhash<1.1.0,>=0.28.0 in /usr/local/lib/python3.7/dist-packages (from spacy) (1.0.6)\n",
            "Requirement already satisfied: thinc<8.1.0,>=8.0.12 in /usr/local/lib/python3.7/dist-packages (from spacy) (8.0.13)\n",
            "Requirement already satisfied: setuptools in /usr/local/lib/python3.7/dist-packages (from spacy) (57.4.0)\n",
            "Requirement already satisfied: numpy>=1.15.0 in /usr/local/lib/python3.7/dist-packages (from spacy) (1.19.5)\n",
            "Requirement already satisfied: blis<0.8.0,>=0.4.0 in /usr/local/lib/python3.7/dist-packages (from spacy) (0.4.1)\n",
            "Requirement already satisfied: tqdm<5.0.0,>=4.38.0 in /usr/local/lib/python3.7/dist-packages (from spacy) (4.62.3)\n",
            "Requirement already satisfied: cymem<2.1.0,>=2.0.2 in /usr/local/lib/python3.7/dist-packages (from spacy) (2.0.6)\n",
            "Requirement already satisfied: typing-extensions<4.0.0.0,>=3.7.4 in /usr/local/lib/python3.7/dist-packages (from spacy) (3.10.0.2)\n",
            "Requirement already satisfied: srsly<3.0.0,>=2.4.1 in /usr/local/lib/python3.7/dist-packages (from spacy) (2.4.2)\n",
            "Requirement already satisfied: pydantic!=1.8,!=1.8.1,<1.9.0,>=1.7.4 in /usr/local/lib/python3.7/dist-packages (from spacy) (1.8.2)\n",
            "Requirement already satisfied: pathy>=0.3.5 in /usr/local/lib/python3.7/dist-packages (from spacy) (0.6.1)\n",
            "Requirement already satisfied: typer<0.5.0,>=0.3.0 in /usr/local/lib/python3.7/dist-packages (from spacy) (0.4.0)\n",
            "Requirement already satisfied: langcodes<4.0.0,>=3.2.0 in /usr/local/lib/python3.7/dist-packages (from spacy) (3.3.0)\n",
            "Requirement already satisfied: spacy-loggers<2.0.0,>=1.0.0 in /usr/local/lib/python3.7/dist-packages (from spacy) (1.0.1)\n",
            "Requirement already satisfied: spacy-legacy<3.1.0,>=3.0.8 in /usr/local/lib/python3.7/dist-packages (from spacy) (3.0.8)\n",
            "Requirement already satisfied: requests<3.0.0,>=2.13.0 in /usr/local/lib/python3.7/dist-packages (from spacy) (2.23.0)\n",
            "Requirement already satisfied: catalogue<2.1.0,>=2.0.6 in /usr/local/lib/python3.7/dist-packages (from spacy) (2.0.6)\n",
            "Requirement already satisfied: zipp>=0.5 in /usr/local/lib/python3.7/dist-packages (from catalogue<2.1.0,>=2.0.6->spacy) (3.6.0)\n",
            "Requirement already satisfied: pyparsing!=3.0.5,>=2.0.2 in /usr/local/lib/python3.7/dist-packages (from packaging>=20.0->spacy) (3.0.6)\n",
            "Requirement already satisfied: smart-open<6.0.0,>=5.0.0 in /usr/local/lib/python3.7/dist-packages (from pathy>=0.3.5->spacy) (5.2.1)\n",
            "Requirement already satisfied: urllib3!=1.25.0,!=1.25.1,<1.26,>=1.21.1 in /usr/local/lib/python3.7/dist-packages (from requests<3.0.0,>=2.13.0->spacy) (1.24.3)\n",
            "Requirement already satisfied: certifi>=2017.4.17 in /usr/local/lib/python3.7/dist-packages (from requests<3.0.0,>=2.13.0->spacy) (2021.10.8)\n",
            "Requirement already satisfied: chardet<4,>=3.0.2 in /usr/local/lib/python3.7/dist-packages (from requests<3.0.0,>=2.13.0->spacy) (3.0.4)\n",
            "Requirement already satisfied: idna<3,>=2.5 in /usr/local/lib/python3.7/dist-packages (from requests<3.0.0,>=2.13.0->spacy) (2.10)\n",
            "Requirement already satisfied: click<9.0.0,>=7.1.1 in /usr/local/lib/python3.7/dist-packages (from typer<0.5.0,>=0.3.0->spacy) (7.1.2)\n",
            "Requirement already satisfied: MarkupSafe>=0.23 in /usr/local/lib/python3.7/dist-packages (from jinja2->spacy) (2.0.1)\n",
            "Collecting fr-core-news-sm==3.2.0\n",
            "  Using cached https://github.com/explosion/spacy-models/releases/download/fr_core_news_sm-3.2.0/fr_core_news_sm-3.2.0-py3-none-any.whl (17.4 MB)\n",
            "Requirement already satisfied: spacy<3.3.0,>=3.2.0 in /usr/local/lib/python3.7/dist-packages (from fr-core-news-sm==3.2.0) (3.2.1)\n",
            "Requirement already satisfied: thinc<8.1.0,>=8.0.12 in /usr/local/lib/python3.7/dist-packages (from spacy<3.3.0,>=3.2.0->fr-core-news-sm==3.2.0) (8.0.13)\n",
            "Requirement already satisfied: pathy>=0.3.5 in /usr/local/lib/python3.7/dist-packages (from spacy<3.3.0,>=3.2.0->fr-core-news-sm==3.2.0) (0.6.1)\n",
            "Requirement already satisfied: wasabi<1.1.0,>=0.8.1 in /usr/local/lib/python3.7/dist-packages (from spacy<3.3.0,>=3.2.0->fr-core-news-sm==3.2.0) (0.8.2)\n",
            "Requirement already satisfied: blis<0.8.0,>=0.4.0 in /usr/local/lib/python3.7/dist-packages (from spacy<3.3.0,>=3.2.0->fr-core-news-sm==3.2.0) (0.4.1)\n",
            "Requirement already satisfied: jinja2 in /usr/local/lib/python3.7/dist-packages (from spacy<3.3.0,>=3.2.0->fr-core-news-sm==3.2.0) (2.11.3)\n",
            "Requirement already satisfied: spacy-legacy<3.1.0,>=3.0.8 in /usr/local/lib/python3.7/dist-packages (from spacy<3.3.0,>=3.2.0->fr-core-news-sm==3.2.0) (3.0.8)\n",
            "Requirement already satisfied: tqdm<5.0.0,>=4.38.0 in /usr/local/lib/python3.7/dist-packages (from spacy<3.3.0,>=3.2.0->fr-core-news-sm==3.2.0) (4.62.3)\n",
            "Requirement already satisfied: cymem<2.1.0,>=2.0.2 in /usr/local/lib/python3.7/dist-packages (from spacy<3.3.0,>=3.2.0->fr-core-news-sm==3.2.0) (2.0.6)\n",
            "Requirement already satisfied: setuptools in /usr/local/lib/python3.7/dist-packages (from spacy<3.3.0,>=3.2.0->fr-core-news-sm==3.2.0) (57.4.0)\n",
            "Requirement already satisfied: pydantic!=1.8,!=1.8.1,<1.9.0,>=1.7.4 in /usr/local/lib/python3.7/dist-packages (from spacy<3.3.0,>=3.2.0->fr-core-news-sm==3.2.0) (1.8.2)\n",
            "Requirement already satisfied: typer<0.5.0,>=0.3.0 in /usr/local/lib/python3.7/dist-packages (from spacy<3.3.0,>=3.2.0->fr-core-news-sm==3.2.0) (0.4.0)\n",
            "Requirement already satisfied: packaging>=20.0 in /usr/local/lib/python3.7/dist-packages (from spacy<3.3.0,>=3.2.0->fr-core-news-sm==3.2.0) (21.3)\n",
            "Requirement already satisfied: srsly<3.0.0,>=2.4.1 in /usr/local/lib/python3.7/dist-packages (from spacy<3.3.0,>=3.2.0->fr-core-news-sm==3.2.0) (2.4.2)\n",
            "Requirement already satisfied: typing-extensions<4.0.0.0,>=3.7.4 in /usr/local/lib/python3.7/dist-packages (from spacy<3.3.0,>=3.2.0->fr-core-news-sm==3.2.0) (3.10.0.2)\n",
            "Requirement already satisfied: catalogue<2.1.0,>=2.0.6 in /usr/local/lib/python3.7/dist-packages (from spacy<3.3.0,>=3.2.0->fr-core-news-sm==3.2.0) (2.0.6)\n",
            "Requirement already satisfied: spacy-loggers<2.0.0,>=1.0.0 in /usr/local/lib/python3.7/dist-packages (from spacy<3.3.0,>=3.2.0->fr-core-news-sm==3.2.0) (1.0.1)\n",
            "Requirement already satisfied: requests<3.0.0,>=2.13.0 in /usr/local/lib/python3.7/dist-packages (from spacy<3.3.0,>=3.2.0->fr-core-news-sm==3.2.0) (2.23.0)\n",
            "Requirement already satisfied: preshed<3.1.0,>=3.0.2 in /usr/local/lib/python3.7/dist-packages (from spacy<3.3.0,>=3.2.0->fr-core-news-sm==3.2.0) (3.0.6)\n",
            "Requirement already satisfied: numpy>=1.15.0 in /usr/local/lib/python3.7/dist-packages (from spacy<3.3.0,>=3.2.0->fr-core-news-sm==3.2.0) (1.19.5)\n",
            "Requirement already satisfied: langcodes<4.0.0,>=3.2.0 in /usr/local/lib/python3.7/dist-packages (from spacy<3.3.0,>=3.2.0->fr-core-news-sm==3.2.0) (3.3.0)\n",
            "Requirement already satisfied: murmurhash<1.1.0,>=0.28.0 in /usr/local/lib/python3.7/dist-packages (from spacy<3.3.0,>=3.2.0->fr-core-news-sm==3.2.0) (1.0.6)\n",
            "Requirement already satisfied: zipp>=0.5 in /usr/local/lib/python3.7/dist-packages (from catalogue<2.1.0,>=2.0.6->spacy<3.3.0,>=3.2.0->fr-core-news-sm==3.2.0) (3.6.0)\n",
            "Requirement already satisfied: pyparsing!=3.0.5,>=2.0.2 in /usr/local/lib/python3.7/dist-packages (from packaging>=20.0->spacy<3.3.0,>=3.2.0->fr-core-news-sm==3.2.0) (3.0.6)\n",
            "Requirement already satisfied: smart-open<6.0.0,>=5.0.0 in /usr/local/lib/python3.7/dist-packages (from pathy>=0.3.5->spacy<3.3.0,>=3.2.0->fr-core-news-sm==3.2.0) (5.2.1)\n",
            "Requirement already satisfied: chardet<4,>=3.0.2 in /usr/local/lib/python3.7/dist-packages (from requests<3.0.0,>=2.13.0->spacy<3.3.0,>=3.2.0->fr-core-news-sm==3.2.0) (3.0.4)\n",
            "Requirement already satisfied: certifi>=2017.4.17 in /usr/local/lib/python3.7/dist-packages (from requests<3.0.0,>=2.13.0->spacy<3.3.0,>=3.2.0->fr-core-news-sm==3.2.0) (2021.10.8)\n",
            "Requirement already satisfied: urllib3!=1.25.0,!=1.25.1,<1.26,>=1.21.1 in /usr/local/lib/python3.7/dist-packages (from requests<3.0.0,>=2.13.0->spacy<3.3.0,>=3.2.0->fr-core-news-sm==3.2.0) (1.24.3)\n",
            "Requirement already satisfied: idna<3,>=2.5 in /usr/local/lib/python3.7/dist-packages (from requests<3.0.0,>=2.13.0->spacy<3.3.0,>=3.2.0->fr-core-news-sm==3.2.0) (2.10)\n",
            "Requirement already satisfied: click<9.0.0,>=7.1.1 in /usr/local/lib/python3.7/dist-packages (from typer<0.5.0,>=0.3.0->spacy<3.3.0,>=3.2.0->fr-core-news-sm==3.2.0) (7.1.2)\n",
            "Requirement already satisfied: MarkupSafe>=0.23 in /usr/local/lib/python3.7/dist-packages (from jinja2->spacy<3.3.0,>=3.2.0->fr-core-news-sm==3.2.0) (2.0.1)\n",
            "\u001b[38;5;2m✔ Download and installation successful\u001b[0m\n",
            "You can now load the package via spacy.load('fr_core_news_sm')\n"
          ]
        }
      ]
    },
    {
      "cell_type": "code",
      "metadata": {
        "id": "Sp-iRswNE44F"
      },
      "source": [
        "import pandas as pd\n",
        "import numpy as np\n",
        "import matplotlib.pyplot as plt\n",
        "import seaborn as sns\n",
        "import spacy\n",
        "import string\n",
        "import csv\n",
        "import time"
      ],
      "execution_count": 20,
      "outputs": []
    },
    {
      "cell_type": "code",
      "metadata": {
        "id": "leHXJLnvC3c2"
      },
      "source": [
        "#Classifier\n",
        "from sklearn.linear_model import LogisticRegression, LogisticRegressionCV\n",
        "from sklearn.ensemble import RandomForestClassifier\n",
        "from sklearn.neighbors import KNeighborsClassifier\n",
        "from sklearn.tree import DecisionTreeClassifier, plot_tree\n",
        "from sklearn.svm import LinearSVC\n",
        "\n",
        "#Other\n",
        "from sklearn.preprocessing import OrdinalEncoder, OneHotEncoder, LabelEncoder, StandardScaler\n",
        "from sklearn.decomposition import PCA\n",
        "from sklearn.model_selection import train_test_split, GridSearchCV, RandomizedSearchCV\n",
        "from sklearn.metrics import confusion_matrix, accuracy_score, precision_score, recall_score, f1_score\n",
        "from sklearn.feature_extraction.text import CountVectorizer, TfidfVectorizer\n",
        "from sklearn.pipeline import Pipeline\n",
        "from sklearn.utils.multiclass import unique_labels\n",
        "from spacy import displacy\n",
        "from spacy.lang.fr.stop_words import STOP_WORDS\n",
        "from spacy.lang.fr import French"
      ],
      "execution_count": 21,
      "outputs": []
    },
    {
      "cell_type": "markdown",
      "metadata": {
        "id": "XBpIhxQR7iuC"
      },
      "source": [
        "# 0.2 Further preparations to starkt with classification\n",
        "\n",
        "Set random_seed, Vectorizers without preprocessing and load the french language model\n",
        "\n"
      ]
    },
    {
      "cell_type": "code",
      "metadata": {
        "id": "pCDvQDBjHb2P"
      },
      "source": [
        "np.random_seed = 0"
      ],
      "execution_count": 22,
      "outputs": []
    },
    {
      "cell_type": "code",
      "metadata": {
        "id": "FS9S8XIjQUa1"
      },
      "source": [
        "#Set TF-IDF and Count Vectorizer without any more specifications\n",
        "tfidf_vector = TfidfVectorizer()\n",
        "#count_vector = CountVectorizer()\n",
        "\n",
        "#with preprocessing\n",
        "#tfidf_vector = TfidfVectorizer(tokenizer=spacy_tokenizer)\n"
      ],
      "execution_count": 23,
      "outputs": []
    },
    {
      "cell_type": "code",
      "metadata": {
        "id": "wzA0kkN1EKG2"
      },
      "source": [
        "#Load the french language model\n",
        "nlp = spacy.load('fr_core_news_sm')"
      ],
      "execution_count": 24,
      "outputs": []
    },
    {
      "cell_type": "code",
      "metadata": {
        "id": "jiLVW789Q1HU"
      },
      "source": [
        "#Import stop words from french language model and puncutations\n",
        "stop_words=spacy.lang.fr.stop_words.STOP_WORDS\n",
        "punctuations = string.punctuation"
      ],
      "execution_count": 25,
      "outputs": []
    },
    {
      "cell_type": "code",
      "metadata": {
        "id": "0efssDo2QJ-O"
      },
      "source": [
        "#Create a tokenizer function that can be used for preprocessing the data for classification - we try out different combinations of the sentence features\n",
        "\n",
        "def spacy_tokenizer(sentence):\n",
        "    # Create token object, which is used to create documents with linguistic annotations.\n",
        "    mytokens = nlp(sentence)\n",
        "\n",
        "    # Lemmatize each token and convert each token into lowercase\n",
        "    mytokens = [ word.lemma_.lower().strip() for word in mytokens ]\n",
        "    ## alternative way\n",
        "    # mytokens = [ word.lemma_.lower().strip() if word.lemma_ != \"-PRON-\" else word.lower_ for word in mytokens ]\n",
        "\n",
        "    # Remove stop words \n",
        "    #mytokens = [ word for word in mytokens if word not in stop_words]\n",
        "\n",
        "    # Remove punctuation\n",
        "    #mytokens = [ word for word in mytokens if word not in punctuations ]\n",
        "\n",
        "    # Remove anonymous dates and people\n",
        "    mytokens = [ word.replace('xx/', '').replace('xxxx/', '').replace('xx', '') for word in mytokens ]\n",
        "    mytokens = [ word for word in mytokens if word not in [\"xxxx\", \"xx\", \"\"]]\n",
        "\n",
        "    # Return preprocessed list of tokens\n",
        "    return mytokens"
      ],
      "execution_count": 26,
      "outputs": []
    },
    {
      "cell_type": "markdown",
      "source": [
        "We found that stopword removal did not lead to better results. This is well possible because by removing frequent and rather simple words you might remove the majority of words that appear in sentences of A1/A2 difficulty. Without those words it will be difficult to differentiate between sentences that are more sophisticated and those that only stay at a very basic level. "
      ],
      "metadata": {
        "id": "4w06MqoqeCRL"
      }
    },
    {
      "cell_type": "code",
      "source": [
        "#Function for model evaluation\n",
        "def evaluate(true, pred):\n",
        "    precision = precision_score(true, pred, average= 'macro')\n",
        "    recall = recall_score(true, pred, average = 'macro')\n",
        "    f1 = f1_score(true, pred, average = 'macro')\n",
        "    #print(f\"CONFUSION MATRIX:\\n{confusion_matrix(true, pred)}\")\n",
        "    print(f\"ACCURACY SCORE:\\n{accuracy_score(true, pred):.4f}\")\n",
        "    print(f\"CLASSIFICATION REPORT:\\n\\tPrecision: {precision:.4f}\\n\\tRecall: {recall:.4f}\\n\\tF1_Score: {f1:.4f}\")\n",
        "\n",
        "\n",
        " # Confusion Matrix\n",
        "\n",
        " # Evaluate model\n",
        "def accuracy_conf_mat(y_test, y_pred):\n",
        "  print(round(accuracy_score(y_test, y_pred), 4))\n",
        "  labels = list(unique_labels(y_test, y_pred))\n",
        "  conf_mat = confusion_matrix(y_test, y_pred, labels = labels)\n",
        "  fig, ax = plt.subplots(figsize=(10,10))\n",
        "  plt.title('Confusion matrix of the classifier')\n",
        "  sns.heatmap(conf_mat, annot=True, fmt='d', xticklabels = labels, yticklabels = labels)\n",
        "  #ax.set_xticklabels([''] + labels)\n",
        "  #ax.set_yticklabels([''] + labels) \n",
        "  plt.ylabel('Actual')\n",
        "  plt.xlabel('Predicted')\n",
        "  plt.show()\n",
        "\n",
        "\n",
        "\n",
        " "
      ],
      "metadata": {
        "id": "jjRObxuTZwsB"
      },
      "execution_count": 27,
      "outputs": []
    },
    {
      "cell_type": "markdown",
      "source": [
        "<h1>  Getting started - text analytics per classifier"
      ],
      "metadata": {
        "id": "5HYObhzWi8Xa"
      }
    },
    {
      "cell_type": "markdown",
      "metadata": {
        "id": "DbxvE-3a4b55"
      },
      "source": [
        "\n",
        "# 1. Baseline\n",
        "\n",
        "First, we start by calculating the baseline."
      ]
    },
    {
      "cell_type": "code",
      "metadata": {
        "id": "d4vHFy3fGozP",
        "colab": {
          "base_uri": "https://localhost:8080/"
        },
        "outputId": "33516cc9-8ae1-40b5-bb85-0fd0c2ff63c2"
      },
      "source": [
        "data=pd.read_csv('https://raw.githubusercontent.com/chadi-aebi/DMML2021_Rolex/main/data/training_data.csv', index_col='id')\n",
        "X = data['sentence']\n",
        "ylabels = data['difficulty']\n",
        "print(ylabels.value_counts(normalize=True))"
      ],
      "execution_count": 28,
      "outputs": [
        {
          "output_type": "stream",
          "name": "stdout",
          "text": [
            "A1    0.169375\n",
            "C2    0.168125\n",
            "C1    0.166250\n",
            "A2    0.165625\n",
            "B1    0.165625\n",
            "B2    0.165000\n",
            "Name: difficulty, dtype: float64\n"
          ]
        }
      ]
    },
    {
      "cell_type": "code",
      "source": [
        "baseline = ylabels.value_counts(normalize = True).max()\n",
        "baseline"
      ],
      "metadata": {
        "colab": {
          "base_uri": "https://localhost:8080/"
        },
        "id": "72ZblPn4OfEA",
        "outputId": "8ac191c7-c588-4d97-dbdc-e490574715be"
      },
      "execution_count": 29,
      "outputs": [
        {
          "output_type": "execute_result",
          "data": {
            "text/plain": [
              "0.169375"
            ]
          },
          "metadata": {},
          "execution_count": 29
        }
      ]
    },
    {
      "cell_type": "markdown",
      "source": [
        "# 2. Logistic Regression\n",
        "<h2> 2.1 Logistic Regression without any data cleaning or tuning"
      ],
      "metadata": {
        "id": "7drQ-3Uzo2XT"
      }
    },
    {
      "cell_type": "markdown",
      "source": [
        "We load the data..."
      ],
      "metadata": {
        "id": "pgAcP-acZ_cL"
      }
    },
    {
      "cell_type": "code",
      "metadata": {
        "colab": {
          "base_uri": "https://localhost:8080/"
        },
        "id": "0ZA9m_yvB_vQ",
        "outputId": "378e23bb-6688-4e7e-ccae-1f8c84da150d"
      },
      "source": [
        "lr_data=pd.read_csv('https://raw.githubusercontent.com/chadi-aebi/DMML2021_Rolex/main/data/training_data.csv', index_col='id')\n",
        "lr_test_df = pd.read_csv('https://raw.githubusercontent.com/chadi-aebi/DMML2021_Rolex/main/data/unlabelled_test_data.csv', index_col='id')\n",
        "lr_data.shape"
      ],
      "execution_count": 30,
      "outputs": [
        {
          "output_type": "execute_result",
          "data": {
            "text/plain": [
              "(4800, 2)"
            ]
          },
          "metadata": {},
          "execution_count": 30
        }
      ]
    },
    {
      "cell_type": "code",
      "source": [
        "lr_data.head()"
      ],
      "metadata": {
        "id": "2PmZ981bYkxe",
        "outputId": "2a245de7-5158-43e5-884b-e508347c9100",
        "colab": {
          "base_uri": "https://localhost:8080/",
          "height": 238
        }
      },
      "execution_count": 31,
      "outputs": [
        {
          "output_type": "execute_result",
          "data": {
            "text/html": [
              "\n",
              "  <div id=\"df-9ab35952-6ca4-44b2-8f36-ac6eddfe150c\">\n",
              "    <div class=\"colab-df-container\">\n",
              "      <div>\n",
              "<style scoped>\n",
              "    .dataframe tbody tr th:only-of-type {\n",
              "        vertical-align: middle;\n",
              "    }\n",
              "\n",
              "    .dataframe tbody tr th {\n",
              "        vertical-align: top;\n",
              "    }\n",
              "\n",
              "    .dataframe thead th {\n",
              "        text-align: right;\n",
              "    }\n",
              "</style>\n",
              "<table border=\"1\" class=\"dataframe\">\n",
              "  <thead>\n",
              "    <tr style=\"text-align: right;\">\n",
              "      <th></th>\n",
              "      <th>sentence</th>\n",
              "      <th>difficulty</th>\n",
              "    </tr>\n",
              "    <tr>\n",
              "      <th>id</th>\n",
              "      <th></th>\n",
              "      <th></th>\n",
              "    </tr>\n",
              "  </thead>\n",
              "  <tbody>\n",
              "    <tr>\n",
              "      <th>0</th>\n",
              "      <td>Les coûts kilométriques réels peuvent diverger...</td>\n",
              "      <td>C1</td>\n",
              "    </tr>\n",
              "    <tr>\n",
              "      <th>1</th>\n",
              "      <td>Le bleu, c'est ma couleur préférée mais je n'a...</td>\n",
              "      <td>A1</td>\n",
              "    </tr>\n",
              "    <tr>\n",
              "      <th>2</th>\n",
              "      <td>Le test de niveau en français est sur le site ...</td>\n",
              "      <td>A1</td>\n",
              "    </tr>\n",
              "    <tr>\n",
              "      <th>3</th>\n",
              "      <td>Est-ce que ton mari est aussi de Boston?</td>\n",
              "      <td>A1</td>\n",
              "    </tr>\n",
              "    <tr>\n",
              "      <th>4</th>\n",
              "      <td>Dans les écoles de commerce, dans les couloirs...</td>\n",
              "      <td>B1</td>\n",
              "    </tr>\n",
              "  </tbody>\n",
              "</table>\n",
              "</div>\n",
              "      <button class=\"colab-df-convert\" onclick=\"convertToInteractive('df-9ab35952-6ca4-44b2-8f36-ac6eddfe150c')\"\n",
              "              title=\"Convert this dataframe to an interactive table.\"\n",
              "              style=\"display:none;\">\n",
              "        \n",
              "  <svg xmlns=\"http://www.w3.org/2000/svg\" height=\"24px\"viewBox=\"0 0 24 24\"\n",
              "       width=\"24px\">\n",
              "    <path d=\"M0 0h24v24H0V0z\" fill=\"none\"/>\n",
              "    <path d=\"M18.56 5.44l.94 2.06.94-2.06 2.06-.94-2.06-.94-.94-2.06-.94 2.06-2.06.94zm-11 1L8.5 8.5l.94-2.06 2.06-.94-2.06-.94L8.5 2.5l-.94 2.06-2.06.94zm10 10l.94 2.06.94-2.06 2.06-.94-2.06-.94-.94-2.06-.94 2.06-2.06.94z\"/><path d=\"M17.41 7.96l-1.37-1.37c-.4-.4-.92-.59-1.43-.59-.52 0-1.04.2-1.43.59L10.3 9.45l-7.72 7.72c-.78.78-.78 2.05 0 2.83L4 21.41c.39.39.9.59 1.41.59.51 0 1.02-.2 1.41-.59l7.78-7.78 2.81-2.81c.8-.78.8-2.07 0-2.86zM5.41 20L4 18.59l7.72-7.72 1.47 1.35L5.41 20z\"/>\n",
              "  </svg>\n",
              "      </button>\n",
              "      \n",
              "  <style>\n",
              "    .colab-df-container {\n",
              "      display:flex;\n",
              "      flex-wrap:wrap;\n",
              "      gap: 12px;\n",
              "    }\n",
              "\n",
              "    .colab-df-convert {\n",
              "      background-color: #E8F0FE;\n",
              "      border: none;\n",
              "      border-radius: 50%;\n",
              "      cursor: pointer;\n",
              "      display: none;\n",
              "      fill: #1967D2;\n",
              "      height: 32px;\n",
              "      padding: 0 0 0 0;\n",
              "      width: 32px;\n",
              "    }\n",
              "\n",
              "    .colab-df-convert:hover {\n",
              "      background-color: #E2EBFA;\n",
              "      box-shadow: 0px 1px 2px rgba(60, 64, 67, 0.3), 0px 1px 3px 1px rgba(60, 64, 67, 0.15);\n",
              "      fill: #174EA6;\n",
              "    }\n",
              "\n",
              "    [theme=dark] .colab-df-convert {\n",
              "      background-color: #3B4455;\n",
              "      fill: #D2E3FC;\n",
              "    }\n",
              "\n",
              "    [theme=dark] .colab-df-convert:hover {\n",
              "      background-color: #434B5C;\n",
              "      box-shadow: 0px 1px 3px 1px rgba(0, 0, 0, 0.15);\n",
              "      filter: drop-shadow(0px 1px 2px rgba(0, 0, 0, 0.3));\n",
              "      fill: #FFFFFF;\n",
              "    }\n",
              "  </style>\n",
              "\n",
              "      <script>\n",
              "        const buttonEl =\n",
              "          document.querySelector('#df-9ab35952-6ca4-44b2-8f36-ac6eddfe150c button.colab-df-convert');\n",
              "        buttonEl.style.display =\n",
              "          google.colab.kernel.accessAllowed ? 'block' : 'none';\n",
              "\n",
              "        async function convertToInteractive(key) {\n",
              "          const element = document.querySelector('#df-9ab35952-6ca4-44b2-8f36-ac6eddfe150c');\n",
              "          const dataTable =\n",
              "            await google.colab.kernel.invokeFunction('convertToInteractive',\n",
              "                                                     [key], {});\n",
              "          if (!dataTable) return;\n",
              "\n",
              "          const docLinkHtml = 'Like what you see? Visit the ' +\n",
              "            '<a target=\"_blank\" href=https://colab.research.google.com/notebooks/data_table.ipynb>data table notebook</a>'\n",
              "            + ' to learn more about interactive tables.';\n",
              "          element.innerHTML = '';\n",
              "          dataTable['output_type'] = 'display_data';\n",
              "          await google.colab.output.renderOutput(dataTable, element);\n",
              "          const docLink = document.createElement('div');\n",
              "          docLink.innerHTML = docLinkHtml;\n",
              "          element.appendChild(docLink);\n",
              "        }\n",
              "      </script>\n",
              "    </div>\n",
              "  </div>\n",
              "  "
            ],
            "text/plain": [
              "                                             sentence difficulty\n",
              "id                                                              \n",
              "0   Les coûts kilométriques réels peuvent diverger...         C1\n",
              "1   Le bleu, c'est ma couleur préférée mais je n'a...         A1\n",
              "2   Le test de niveau en français est sur le site ...         A1\n",
              "3            Est-ce que ton mari est aussi de Boston?         A1\n",
              "4   Dans les écoles de commerce, dans les couloirs...         B1"
            ]
          },
          "metadata": {},
          "execution_count": 31
        }
      ]
    },
    {
      "cell_type": "markdown",
      "source": [
        "..., select the features and train-test-split the data."
      ],
      "metadata": {
        "id": "LbLLdT9RaC75"
      }
    },
    {
      "cell_type": "code",
      "metadata": {
        "id": "3tILch0iP2cj"
      },
      "source": [
        "X_lr = lr_data['sentence']\n",
        "ylabels_lr = lr_data['difficulty']\n",
        "\n",
        "X_train_lr, X_test_lr, y_train_lr, y_test_lr = train_test_split(X_lr, ylabels_lr, test_size=0.2, random_state=0, stratify=ylabels_lr)"
      ],
      "execution_count": 32,
      "outputs": []
    },
    {
      "cell_type": "markdown",
      "source": [
        "Then we define the classifier with its default settings..."
      ],
      "metadata": {
        "id": "fYfcwLCpam1c"
      }
    },
    {
      "cell_type": "code",
      "source": [
        "# Define classifier\n",
        "lreg = LogisticRegression()"
      ],
      "metadata": {
        "id": "miLu_FfflSgQ"
      },
      "execution_count": 33,
      "outputs": []
    },
    {
      "cell_type": "markdown",
      "source": [
        "... and create the pipeline with the Classifier and the TF-IDF vectorizer without tokenization. Then we fit the model to our training data..."
      ],
      "metadata": {
        "id": "phD9QiDYan4-"
      }
    },
    {
      "cell_type": "code",
      "metadata": {
        "id": "Jf3Pp3f9P-Ue",
        "colab": {
          "base_uri": "https://localhost:8080/"
        },
        "outputId": "22e86088-03b0-4ee5-8ea5-61bb50c9993f"
      },
      "source": [
        "# Create pipeline\n",
        "pipe = Pipeline([('vectorizer', tfidf_vector),\n",
        "                 ('classifier', lreg)])\n",
        "\n",
        "# Fit model on training set\n",
        "pipe.fit(X_train_lr, y_train_lr)"
      ],
      "execution_count": 34,
      "outputs": [
        {
          "output_type": "execute_result",
          "data": {
            "text/plain": [
              "Pipeline(steps=[('vectorizer', TfidfVectorizer()),\n",
              "                ('classifier', LogisticRegression())])"
            ]
          },
          "metadata": {},
          "execution_count": 34
        }
      ]
    },
    {
      "cell_type": "markdown",
      "source": [
        "... and make predicitions with this test data."
      ],
      "metadata": {
        "id": "td6YESpUa3_Z"
      }
    },
    {
      "cell_type": "code",
      "metadata": {
        "id": "ggeYhJXwRtFU",
        "colab": {
          "base_uri": "https://localhost:8080/"
        },
        "outputId": "07e25c1c-1dc4-4dee-a793-c92f085c31a4"
      },
      "source": [
        "# Predictions\n",
        "y_pred_lr = pipe.predict(X_test_lr)\n",
        "\n",
        "acc_lr_0 = accuracy_score(y_test_lr,y_pred_lr)\n",
        "evaluate(y_test_lr, y_pred_lr)\n"
      ],
      "execution_count": 35,
      "outputs": [
        {
          "output_type": "stream",
          "name": "stdout",
          "text": [
            "ACCURACY SCORE:\n",
            "0.4604\n",
            "CLASSIFICATION REPORT:\n",
            "\tPrecision: 0.4578\n",
            "\tRecall: 0.4595\n",
            "\tF1_Score: 0.4554\n"
          ]
        }
      ]
    },
    {
      "cell_type": "code",
      "source": [
        "accuracy_conf_mat(y_test_lr, y_pred_lr)\n"
      ],
      "metadata": {
        "id": "rlVXaCHqS8PQ",
        "outputId": "3b60ccce-1146-4209-d1eb-694a908f95ae",
        "colab": {
          "base_uri": "https://localhost:8080/",
          "height": 639
        }
      },
      "execution_count": 36,
      "outputs": [
        {
          "output_type": "stream",
          "name": "stdout",
          "text": [
            "0.4604\n"
          ]
        },
        {
          "output_type": "display_data",
          "data": {
            "image/png": "[encoded data removed]",
            "text/plain": [
              "<Figure size 720x720 with 2 Axes>"
            ]
          },
          "metadata": {
            "needs_background": "light"
          }
        }
      ]
    },
    {
      "cell_type": "markdown",
      "source": [
        "This was a first model without any other features. Let's have a look at some wrong predictions to find some hints what could be improved."
      ],
      "metadata": {
        "id": "nEgUC_jQrMJ9"
      }
    },
    {
      "cell_type": "code",
      "source": [
        "df = pd.DataFrame(X_test_lr, columns=[\"sentence\"])\n",
        "df[\"actual\"] = y_test_lr\n",
        "df[\"predicted\"] = y_pred_lr\n",
        "\n",
        "incorrect = df[df[\"actual\"] != df[\"predicted\"]]\n",
        "incorrect.head()"
      ],
      "metadata": {
        "colab": {
          "base_uri": "https://localhost:8080/",
          "height": 238
        },
        "id": "NrpKDcxtrVLg",
        "outputId": "467e835a-2bf6-41f8-ec4b-ed2e1c1ffe01"
      },
      "execution_count": 37,
      "outputs": [
        {
          "output_type": "execute_result",
          "data": {
            "text/html": [
              "\n",
              "  <div id=\"df-e6f5d125-fb0f-4d3a-a874-9c17869c076d\">\n",
              "    <div class=\"colab-df-container\">\n",
              "      <div>\n",
              "<style scoped>\n",
              "    .dataframe tbody tr th:only-of-type {\n",
              "        vertical-align: middle;\n",
              "    }\n",
              "\n",
              "    .dataframe tbody tr th {\n",
              "        vertical-align: top;\n",
              "    }\n",
              "\n",
              "    .dataframe thead th {\n",
              "        text-align: right;\n",
              "    }\n",
              "</style>\n",
              "<table border=\"1\" class=\"dataframe\">\n",
              "  <thead>\n",
              "    <tr style=\"text-align: right;\">\n",
              "      <th></th>\n",
              "      <th>sentence</th>\n",
              "      <th>actual</th>\n",
              "      <th>predicted</th>\n",
              "    </tr>\n",
              "    <tr>\n",
              "      <th>id</th>\n",
              "      <th></th>\n",
              "      <th></th>\n",
              "      <th></th>\n",
              "    </tr>\n",
              "  </thead>\n",
              "  <tbody>\n",
              "    <tr>\n",
              "      <th>2003</th>\n",
              "      <td>Il est également connu pour ses publicités tél...</td>\n",
              "      <td>C1</td>\n",
              "      <td>B2</td>\n",
              "    </tr>\n",
              "    <tr>\n",
              "      <th>2585</th>\n",
              "      <td>Edgar, étincelant de furie, dominait tous les ...</td>\n",
              "      <td>C1</td>\n",
              "      <td>B2</td>\n",
              "    </tr>\n",
              "    <tr>\n",
              "      <th>2302</th>\n",
              "      <td>Ils sont heureux.</td>\n",
              "      <td>A1</td>\n",
              "      <td>B2</td>\n",
              "    </tr>\n",
              "    <tr>\n",
              "      <th>2958</th>\n",
              "      <td>Les canons renversèrent d'abord à peu près six...</td>\n",
              "      <td>C1</td>\n",
              "      <td>B2</td>\n",
              "    </tr>\n",
              "    <tr>\n",
              "      <th>3862</th>\n",
              "      <td>Parce que la philosophie se trouve de plus en ...</td>\n",
              "      <td>C1</td>\n",
              "      <td>C2</td>\n",
              "    </tr>\n",
              "  </tbody>\n",
              "</table>\n",
              "</div>\n",
              "      <button class=\"colab-df-convert\" onclick=\"convertToInteractive('df-e6f5d125-fb0f-4d3a-a874-9c17869c076d')\"\n",
              "              title=\"Convert this dataframe to an interactive table.\"\n",
              "              style=\"display:none;\">\n",
              "        \n",
              "  <svg xmlns=\"http://www.w3.org/2000/svg\" height=\"24px\"viewBox=\"0 0 24 24\"\n",
              "       width=\"24px\">\n",
              "    <path d=\"M0 0h24v24H0V0z\" fill=\"none\"/>\n",
              "    <path d=\"M18.56 5.44l.94 2.06.94-2.06 2.06-.94-2.06-.94-.94-2.06-.94 2.06-2.06.94zm-11 1L8.5 8.5l.94-2.06 2.06-.94-2.06-.94L8.5 2.5l-.94 2.06-2.06.94zm10 10l.94 2.06.94-2.06 2.06-.94-2.06-.94-.94-2.06-.94 2.06-2.06.94z\"/><path d=\"M17.41 7.96l-1.37-1.37c-.4-.4-.92-.59-1.43-.59-.52 0-1.04.2-1.43.59L10.3 9.45l-7.72 7.72c-.78.78-.78 2.05 0 2.83L4 21.41c.39.39.9.59 1.41.59.51 0 1.02-.2 1.41-.59l7.78-7.78 2.81-2.81c.8-.78.8-2.07 0-2.86zM5.41 20L4 18.59l7.72-7.72 1.47 1.35L5.41 20z\"/>\n",
              "  </svg>\n",
              "      </button>\n",
              "      \n",
              "  <style>\n",
              "    .colab-df-container {\n",
              "      display:flex;\n",
              "      flex-wrap:wrap;\n",
              "      gap: 12px;\n",
              "    }\n",
              "\n",
              "    .colab-df-convert {\n",
              "      background-color: #E8F0FE;\n",
              "      border: none;\n",
              "      border-radius: 50%;\n",
              "      cursor: pointer;\n",
              "      display: none;\n",
              "      fill: #1967D2;\n",
              "      height: 32px;\n",
              "      padding: 0 0 0 0;\n",
              "      width: 32px;\n",
              "    }\n",
              "\n",
              "    .colab-df-convert:hover {\n",
              "      background-color: #E2EBFA;\n",
              "      box-shadow: 0px 1px 2px rgba(60, 64, 67, 0.3), 0px 1px 3px 1px rgba(60, 64, 67, 0.15);\n",
              "      fill: #174EA6;\n",
              "    }\n",
              "\n",
              "    [theme=dark] .colab-df-convert {\n",
              "      background-color: #3B4455;\n",
              "      fill: #D2E3FC;\n",
              "    }\n",
              "\n",
              "    [theme=dark] .colab-df-convert:hover {\n",
              "      background-color: #434B5C;\n",
              "      box-shadow: 0px 1px 3px 1px rgba(0, 0, 0, 0.15);\n",
              "      filter: drop-shadow(0px 1px 2px rgba(0, 0, 0, 0.3));\n",
              "      fill: #FFFFFF;\n",
              "    }\n",
              "  </style>\n",
              "\n",
              "      <script>\n",
              "        const buttonEl =\n",
              "          document.querySelector('#df-e6f5d125-fb0f-4d3a-a874-9c17869c076d button.colab-df-convert');\n",
              "        buttonEl.style.display =\n",
              "          google.colab.kernel.accessAllowed ? 'block' : 'none';\n",
              "\n",
              "        async function convertToInteractive(key) {\n",
              "          const element = document.querySelector('#df-e6f5d125-fb0f-4d3a-a874-9c17869c076d');\n",
              "          const dataTable =\n",
              "            await google.colab.kernel.invokeFunction('convertToInteractive',\n",
              "                                                     [key], {});\n",
              "          if (!dataTable) return;\n",
              "\n",
              "          const docLinkHtml = 'Like what you see? Visit the ' +\n",
              "            '<a target=\"_blank\" href=https://colab.research.google.com/notebooks/data_table.ipynb>data table notebook</a>'\n",
              "            + ' to learn more about interactive tables.';\n",
              "          element.innerHTML = '';\n",
              "          dataTable['output_type'] = 'display_data';\n",
              "          await google.colab.output.renderOutput(dataTable, element);\n",
              "          const docLink = document.createElement('div');\n",
              "          docLink.innerHTML = docLinkHtml;\n",
              "          element.appendChild(docLink);\n",
              "        }\n",
              "      </script>\n",
              "    </div>\n",
              "  </div>\n",
              "  "
            ],
            "text/plain": [
              "                                               sentence actual predicted\n",
              "id                                                                      \n",
              "2003  Il est également connu pour ses publicités tél...     C1        B2\n",
              "2585  Edgar, étincelant de furie, dominait tous les ...     C1        B2\n",
              "2302                                  Ils sont heureux.     A1        B2\n",
              "2958  Les canons renversèrent d'abord à peu près six...     C1        B2\n",
              "3862  Parce que la philosophie se trouve de plus en ...     C1        C2"
            ]
          },
          "metadata": {},
          "execution_count": 37
        }
      ]
    },
    {
      "cell_type": "code",
      "source": [
        "#submission_test_lr = pd.DataFrame(y_pred_lr, columns=['difficulty'])\n",
        "#submission_test_lr"
      ],
      "metadata": {
        "id": "nG_lAVrfgCLc"
      },
      "execution_count": 38,
      "outputs": []
    },
    {
      "cell_type": "code",
      "source": [
        "#submission_test_lr.to_csv('submission_21-12-12.csv')"
      ],
      "metadata": {
        "id": "aXqVq5PWgHqd"
      },
      "execution_count": 39,
      "outputs": []
    },
    {
      "cell_type": "markdown",
      "source": [
        "<h2> 2.2 Logistic Regression with hyperparameters tuning"
      ],
      "metadata": {
        "id": "mXbzubYRpAFR"
      }
    },
    {
      "cell_type": "markdown",
      "source": [
        "In this section we searched for the best hyperparameters to improve our classifiers."
      ],
      "metadata": {
        "id": "Hheo85zWbAEE"
      }
    },
    {
      "cell_type": "code",
      "source": [
        "# Define parameters to test\n",
        "\n",
        "#grid_lr = {\n",
        "#    'C': [1e-5, 1e-4, 1e-3, 1e-2, 1e-1, 1, 10, 100],\n",
        "#    'penalty': ['none', 'l1', 'l2', 'elasticnet'],\n",
        "#    #'max_iter': list(range(100,800,100)),\n",
        "#    'solver': ['newton-cg', 'lbfgs', 'liblinear', 'sag', 'saga']\n",
        "#}\n",
        "\n",
        "# Define and fit model\n",
        "\n",
        "#lreg = LogisticRegression()\n",
        "#lreg_cv = GridSearchCV(lreg, grid_lr, cv=10)\n",
        "#pipe = Pipeline([('vectorizer', tfidf_vector),\n",
        " #                ('classifier', lreg_cv)])\n",
        "\n",
        "#pipe.fit(X_train_lr, y_train_lr)\n",
        "\n",
        "# Print results\n",
        "\n",
        "#print(\"Hyperparameters:\", lreg_cv.best_params_)\n",
        "#y_pred_lr = pipe.predict(X_test_lr)\n",
        "#evaluate(y_test_lr, y_pred_lr)"
      ],
      "metadata": {
        "id": "weEZ4nUcAb2E"
      },
      "execution_count": 40,
      "outputs": []
    },
    {
      "cell_type": "markdown",
      "source": [
        "We saved the hyperparameters and use them for the following predictions."
      ],
      "metadata": {
        "id": "3vvShqFYbGvN"
      }
    },
    {
      "cell_type": "code",
      "source": [
        "#safe best parameters\n",
        "#Hyperparameters= {'C': 10, 'penalty': 'l2', 'solver': 'liblinear'}"
      ],
      "metadata": {
        "id": "n5qjNnn_OJYT"
      },
      "execution_count": 41,
      "outputs": []
    },
    {
      "cell_type": "markdown",
      "source": [
        "<h2> 2.3 Logistic Regression with further methods "
      ],
      "metadata": {
        "id": "h5W6Q_50pLnr"
      }
    },
    {
      "cell_type": "markdown",
      "source": [
        "<h3> 2.3.1 Preprocessing"
      ],
      "metadata": {
        "id": "F6Pcp8IkfdPg"
      }
    },
    {
      "cell_type": "markdown",
      "source": [
        "In this section we extended the TF-IDF Vectorizer with the tokenizer we set at the beginning. By commenting some lines of the tokenizer we could try different settings and in the end keep the best combination."
      ],
      "metadata": {
        "id": "soqoTxPIcN3J"
      }
    },
    {
      "cell_type": "code",
      "source": [
        "tfidf_vec_lr = TfidfVectorizer(tokenizer=spacy_tokenizer)"
      ],
      "metadata": {
        "id": "nN32JGDmNeOj"
      },
      "execution_count": 42,
      "outputs": []
    },
    {
      "cell_type": "code",
      "source": [
        "# Define classifier with best hyperparameters\n",
        "lreg = LogisticRegression(C=10, penalty = 'l2', solver = 'liblinear')"
      ],
      "metadata": {
        "id": "-1Daf_BsYVlM"
      },
      "execution_count": 43,
      "outputs": []
    },
    {
      "cell_type": "code",
      "source": [
        "# Create pipeline\n",
        "pipe = Pipeline([('vectorizer', tfidf_vec_lr),\n",
        "                 ('classifier', lreg)])\n",
        "\n",
        "# Fit model on training set\n",
        "pipe.fit(X_train_lr, y_train_lr)"
      ],
      "metadata": {
        "id": "dU4aRGsfNkMx",
        "outputId": "190da918-a4cf-4c14-cb47-1c9d34731310",
        "colab": {
          "base_uri": "https://localhost:8080/"
        }
      },
      "execution_count": 44,
      "outputs": [
        {
          "output_type": "execute_result",
          "data": {
            "text/plain": [
              "Pipeline(steps=[('vectorizer',\n",
              "                 TfidfVectorizer(tokenizer=<function spacy_tokenizer at 0x7f1ea4d9f830>)),\n",
              "                ('classifier', LogisticRegression(C=10, solver='liblinear'))])"
            ]
          },
          "metadata": {},
          "execution_count": 44
        }
      ]
    },
    {
      "cell_type": "code",
      "source": [
        "# Predictions\n",
        "y_pred_lr = pipe.predict(X_test_lr)\n",
        "\n",
        "#accuracy_score(y_test_lr,y_pred_lr)\n",
        "evaluate(y_test_lr, y_pred_lr)"
      ],
      "metadata": {
        "id": "Ccjxp0RgNn4t",
        "outputId": "5fbd4968-2199-4170-b1a5-9681af8628b1",
        "colab": {
          "base_uri": "https://localhost:8080/"
        }
      },
      "execution_count": 45,
      "outputs": [
        {
          "output_type": "stream",
          "name": "stdout",
          "text": [
            "ACCURACY SCORE:\n",
            "0.4938\n",
            "CLASSIFICATION REPORT:\n",
            "\tPrecision: 0.4899\n",
            "\tRecall: 0.4927\n",
            "\tF1_Score: 0.4899\n"
          ]
        }
      ]
    },
    {
      "cell_type": "markdown",
      "source": [
        "To make the best predictions for the kaggle data set, we take the parameters and settings from our best model and apply fit the model on the whole dataset."
      ],
      "metadata": {
        "id": "NR0416aXky8q"
      }
    },
    {
      "cell_type": "code",
      "source": [
        "# Create pipeline\n",
        "pipe = Pipeline([('vectorizer', tfidf_vec_lr),\n",
        "                 ('classifier', lreg)])\n",
        "\n",
        "# Fit model on whole data set\n",
        "pipe.fit(X_lr, ylabels_lr)"
      ],
      "metadata": {
        "id": "xmlZ2E40N9b1",
        "outputId": "86b196df-4215-4762-b293-8e043f593d61",
        "colab": {
          "base_uri": "https://localhost:8080/"
        }
      },
      "execution_count": 46,
      "outputs": [
        {
          "output_type": "execute_result",
          "data": {
            "text/plain": [
              "Pipeline(steps=[('vectorizer',\n",
              "                 TfidfVectorizer(tokenizer=<function spacy_tokenizer at 0x7f1ea4d9f830>)),\n",
              "                ('classifier', LogisticRegression(C=10, solver='liblinear'))])"
            ]
          },
          "metadata": {},
          "execution_count": 46
        }
      ]
    },
    {
      "cell_type": "code",
      "source": [
        "y_pred_test=pipe.predict(lr_test_df['sentence'])"
      ],
      "metadata": {
        "id": "w3HeE12oOo1z"
      },
      "execution_count": 47,
      "outputs": []
    },
    {
      "cell_type": "markdown",
      "source": [
        "In order to submit the predictions we save the predictions and create a csv file."
      ],
      "metadata": {
        "id": "JWP5FzcXlFaq"
      }
    },
    {
      "cell_type": "code",
      "source": [
        "submission_test = pd.DataFrame(y_pred_test, columns=['difficulty'])\n",
        "#submission_test"
      ],
      "metadata": {
        "id": "DPzps3KgOUnC"
      },
      "execution_count": 48,
      "outputs": []
    },
    {
      "cell_type": "code",
      "source": [
        "submission_test.to_csv('submission_21-12-16_5.csv')"
      ],
      "metadata": {
        "id": "_kbWTxmAOXrr"
      },
      "execution_count": 49,
      "outputs": []
    },
    {
      "cell_type": "markdown",
      "source": [
        "<h3> 2.3.2 Word Embeddings"
      ],
      "metadata": {
        "id": "7RlGv4wtfbFB"
      }
    },
    {
      "cell_type": "markdown",
      "source": [
        "In this part, we use Word Embeddings instead of Tokenization. The code is modeled after the Kaggle course we saw in class. "
      ],
      "metadata": {
        "id": "UsODN9aockRv"
      }
    },
    {
      "cell_type": "code",
      "metadata": {
        "colab": {
          "base_uri": "https://localhost:8080/"
        },
        "outputId": "f09894e9-0f12-4af6-8c50-aeb9c322e291",
        "id": "qpc29nO2YLbt"
      },
      "source": [
        "#Vectorizing - Word Embeddings\n",
        "\n",
        "with nlp.disable_pipes():\n",
        "    doc_vectors = np.array([nlp(sentence).vector for sentence in lr_data.sentence])\n",
        "    \n",
        "doc_vectors.shape\n",
        "\n"
      ],
      "execution_count": 50,
      "outputs": [
        {
          "output_type": "execute_result",
          "data": {
            "text/plain": [
              "(4800, 96)"
            ]
          },
          "metadata": {},
          "execution_count": 50
        }
      ]
    },
    {
      "cell_type": "code",
      "source": [
        "from sklearn.model_selection import train_test_split\n",
        "\n",
        "X_train_lr, X_test_lr, y_train_lr, y_test_lr = train_test_split(doc_vectors, lr_data.difficulty,\n",
        "                                                    test_size=0.2, random_state=0)\n",
        "\n"
      ],
      "metadata": {
        "id": "74FgTRZfYLbv"
      },
      "execution_count": 51,
      "outputs": []
    },
    {
      "cell_type": "code",
      "source": [
        "# Fit model on training set\n",
        "lreg.fit(X_train_lr, y_train_lr)"
      ],
      "metadata": {
        "outputId": "f0bbc6d3-e278-4c23-8d27-dea8331e1c0b",
        "colab": {
          "base_uri": "https://localhost:8080/"
        },
        "id": "s3q9HgldYLbw"
      },
      "execution_count": 52,
      "outputs": [
        {
          "output_type": "execute_result",
          "data": {
            "text/plain": [
              "LogisticRegression(C=10, solver='liblinear')"
            ]
          },
          "metadata": {},
          "execution_count": 52
        }
      ]
    },
    {
      "cell_type": "code",
      "source": [
        "y_pred_lr = lreg.predict(X_test_lr)\n",
        "\n",
        "evaluate(y_test_lr, y_pred_lr)"
      ],
      "metadata": {
        "outputId": "22df3791-8463-4389-9f0d-aced4fd48bc3",
        "colab": {
          "base_uri": "https://localhost:8080/"
        },
        "id": "FLhgqt1qYLby"
      },
      "execution_count": 53,
      "outputs": [
        {
          "output_type": "stream",
          "name": "stdout",
          "text": [
            "ACCURACY SCORE:\n",
            "0.3927\n",
            "CLASSIFICATION REPORT:\n",
            "\tPrecision: 0.3890\n",
            "\tRecall: 0.3938\n",
            "\tF1_Score: 0.3889\n"
          ]
        }
      ]
    },
    {
      "cell_type": "markdown",
      "source": [
        "<h3> 2.3.3 Dimensionality Reduction"
      ],
      "metadata": {
        "id": "hFKj5PD_fVXM"
      }
    },
    {
      "cell_type": "markdown",
      "source": [
        "In this section, we apply standardization and dimensionality reduction and the combination of both."
      ],
      "metadata": {
        "id": "ANWgSzNnjFif"
      }
    },
    {
      "cell_type": "code",
      "source": [
        "pca = PCA(n_components=2800) #n_components can be varied to try out different models"
      ],
      "metadata": {
        "id": "q8dWBab9fZO3"
      },
      "execution_count": 54,
      "outputs": []
    },
    {
      "cell_type": "code",
      "metadata": {
        "id": "QhHZ3Oe4d6Ju"
      },
      "source": [
        "X_lr = lr_data['sentence']\n",
        "ylabels_lr = lr_data['difficulty']\n",
        "\n",
        "X_train_lr, X_test_lr, y_train_lr, y_test_lr = train_test_split(X_lr, ylabels_lr, test_size=0.2, random_state=0, stratify=ylabels_lr)"
      ],
      "execution_count": 55,
      "outputs": []
    },
    {
      "cell_type": "markdown",
      "source": [
        "Fit & transform data without preprocessing ..."
      ],
      "metadata": {
        "id": "g_dFIjgPkF7X"
      }
    },
    {
      "cell_type": "code",
      "source": [
        "#X_train_vec_lr = tfidf_vector.fit_transform(X_train_lr).toarray()\n",
        "#X_test_vec_lr = tfidf_vector.transform(X_test_lr).toarray()\n",
        "#print(X_train_vec_lr.shape)"
      ],
      "metadata": {
        "id": "ATuNK3q1fwGX"
      },
      "execution_count": 56,
      "outputs": []
    },
    {
      "cell_type": "markdown",
      "source": [
        "...or fit & transform data with preprocessing (choose one for further classification)"
      ],
      "metadata": {
        "id": "OEPtVdMPkDdA"
      }
    },
    {
      "cell_type": "code",
      "source": [
        "X_train_vec_lr = tfidf_vec_lr.fit_transform(X_train_lr).toarray()\n",
        "X_test_vec_lr = tfidf_vec_lr.transform(X_test_lr).toarray()\n",
        "print(X_train_vec_lr.shape)"
      ],
      "metadata": {
        "colab": {
          "base_uri": "https://localhost:8080/"
        },
        "outputId": "fd49a93f-105f-4037-acf4-28b3eff7bf88",
        "id": "MIDzYfWKizwz"
      },
      "execution_count": 57,
      "outputs": [
        {
          "output_type": "stream",
          "name": "stdout",
          "text": [
            "(3840, 9602)\n"
          ]
        }
      ]
    },
    {
      "cell_type": "code",
      "source": [
        "#build pipe without Scaler & PCA\n",
        "scaler = StandardScaler()\n",
        "pipe = Pipeline([\n",
        "                 ('lreg', lreg),\n",
        "                 ])\n",
        "\n",
        "# Fit model\n",
        "pipe.fit(X_train_vec_lr, y_train_lr)\n",
        "print('Train Accuracy: ', round(pipe.score(X_train_vec_lr, y_train_lr), 4))\n",
        "print('Test Accuracy: ', round(pipe.score(X_test_vec_lr, y_test_lr), 4))"
      ],
      "metadata": {
        "id": "PeNEE4iIf6s-",
        "colab": {
          "base_uri": "https://localhost:8080/"
        },
        "outputId": "0d6b7870-5c63-4964-ba02-ec17e4fbef4c"
      },
      "execution_count": 58,
      "outputs": [
        {
          "output_type": "stream",
          "name": "stdout",
          "text": [
            "Train Accuracy:  0.9732\n",
            "Test Accuracy:  0.4938\n"
          ]
        }
      ]
    },
    {
      "cell_type": "code",
      "source": [
        "#build pipe with  StandardScaler\n",
        "scaler = StandardScaler()\n",
        "pipe = Pipeline([\n",
        "                 ('scaler', scaler),\n",
        "                 ('lreg', lreg),\n",
        "                 ])\n",
        "\n",
        "# Fit model\n",
        "pipe.fit(X_train_vec_lr, y_train_lr)\n",
        "print('Train Accuracy: ', round(pipe.score(X_train_vec_lr, y_train_lr), 4))\n",
        "print('Test Accuracy: ', round(pipe.score(X_test_vec_lr, y_test_lr), 4))"
      ],
      "metadata": {
        "id": "Z6KEJ87CgMnE",
        "colab": {
          "base_uri": "https://localhost:8080/"
        },
        "outputId": "795edec7-717f-4a5f-80d3-a8999d00bba5"
      },
      "execution_count": 59,
      "outputs": [
        {
          "output_type": "stream",
          "name": "stdout",
          "text": [
            "Train Accuracy:  0.999\n",
            "Test Accuracy:  0.3969\n"
          ]
        }
      ]
    },
    {
      "cell_type": "code",
      "source": [
        "#build pipe with PCA \n",
        "pipe = Pipeline([\n",
        "                 ('pca', pca),\n",
        "                 ('lreg', lreg),\n",
        "                 ])\n",
        "\n",
        "# Fit model\n",
        "\n",
        "pipe.fit(X_train_vec_lr, y_train_lr)\n",
        "print('Train Accuracy: ', round(pipe.score(X_train_vec_lr, y_train_lr), 4))\n",
        "print('Test Accuracy: ', round(pipe.score(X_test_vec_lr, y_test_lr), 4))"
      ],
      "metadata": {
        "id": "RmSXgfaogbvC",
        "colab": {
          "base_uri": "https://localhost:8080/"
        },
        "outputId": "2fe203be-f957-4764-e056-960e21203d9d"
      },
      "execution_count": 60,
      "outputs": [
        {
          "output_type": "stream",
          "name": "stdout",
          "text": [
            "Train Accuracy:  0.9607\n",
            "Test Accuracy:  0.4948\n"
          ]
        }
      ]
    },
    {
      "cell_type": "code",
      "source": [
        "#build pipe with PCA & StandardScaler\n",
        "\n",
        "pipe = Pipeline([\n",
        "                 ('scaler', scaler),\n",
        "                 ('pca', pca),\n",
        "                 ('lreg', lreg),\n",
        "                 ])\n",
        "\n",
        "# Fit model\n",
        "\n",
        "pipe.fit(X_train_vec_lr, y_train_lr)\n",
        "print('Train Accuracy: ', round(pipe.score(X_train_vec_lr, y_train_lr), 4))\n",
        "print('Test Accuracy: ', round(pipe.score(X_test_vec_lr, y_test_lr), 4))"
      ],
      "metadata": {
        "id": "HE_xoFmFgn7J",
        "colab": {
          "base_uri": "https://localhost:8080/"
        },
        "outputId": "4fc574e4-d7e2-4837-8798-1a9a84ffb8a1"
      },
      "execution_count": 61,
      "outputs": [
        {
          "output_type": "stream",
          "name": "stdout",
          "text": [
            "Train Accuracy:  0.999\n",
            "Test Accuracy:  0.4125\n"
          ]
        }
      ]
    },
    {
      "cell_type": "markdown",
      "source": [
        "The following parts are structured the same way but the classifier changes. The given explanation for the code is therefore more or less still valid for the following sections."
      ],
      "metadata": {
        "id": "t_D1CBQajNQY"
      }
    },
    {
      "cell_type": "markdown",
      "metadata": {
        "id": "cJp_X2jV6lP4"
      },
      "source": [
        "# 3. kNN\n",
        "<h2> 3.1 kNN without any data cleaning or tuning\n",
        " "
      ]
    },
    {
      "cell_type": "code",
      "metadata": {
        "id": "KmCSWQGs68Eq"
      },
      "source": [
        "knn_data=pd.read_csv('https://raw.githubusercontent.com/chadi-aebi/DMML2021_Rolex/main/data/training_data.csv', index_col='id')\n",
        "knn_test_df = pd.read_csv('https://raw.githubusercontent.com/chadi-aebi/DMML2021_Rolex/main/data/unlabelled_test_data.csv', index_col='id')"
      ],
      "execution_count": 62,
      "outputs": []
    },
    {
      "cell_type": "code",
      "metadata": {
        "id": "HPjANU9g7LiI"
      },
      "source": [
        "X_knn = knn_data['sentence']\n",
        "ylabels_knn = knn_data['difficulty']\n",
        "\n",
        "X_train_knn, X_test_knn, y_train_knn, y_test_knn = train_test_split(X_knn, ylabels_knn, test_size=0.2, random_state=0, stratify=ylabels_knn)"
      ],
      "execution_count": 63,
      "outputs": []
    },
    {
      "cell_type": "code",
      "source": [
        "# Define classifier\n",
        "knn = KNeighborsClassifier()\n"
      ],
      "metadata": {
        "id": "X65tlM6cl1UP"
      },
      "execution_count": 64,
      "outputs": []
    },
    {
      "cell_type": "code",
      "metadata": {
        "id": "Ys-DfQ9Qg358",
        "colab": {
          "base_uri": "https://localhost:8080/"
        },
        "outputId": "d88872a4-ea58-49e9-c63e-b8e01da64264"
      },
      "source": [
        "# Create pipeline\n",
        "pipe = Pipeline([('vectorizer', tfidf_vector),\n",
        "                 ('classifier', knn)])\n",
        "\n",
        "# Fit model on training set\n",
        "pipe.fit(X_train_knn, y_train_knn)"
      ],
      "execution_count": 65,
      "outputs": [
        {
          "output_type": "execute_result",
          "data": {
            "text/plain": [
              "Pipeline(steps=[('vectorizer', TfidfVectorizer()),\n",
              "                ('classifier', KNeighborsClassifier())])"
            ]
          },
          "metadata": {},
          "execution_count": 65
        }
      ]
    },
    {
      "cell_type": "code",
      "metadata": {
        "id": "MPglJHd8gsVc",
        "colab": {
          "base_uri": "https://localhost:8080/"
        },
        "outputId": "a9ee14e6-6819-4982-fc2d-37a1a4660ed2"
      },
      "source": [
        "y_pred_knn = pipe.predict(X_test_knn)\n",
        "\n",
        "acc_knn_0 = accuracy_score(y_test_knn,y_pred_knn)\n",
        "evaluate(y_test_knn, y_pred_knn)"
      ],
      "execution_count": 66,
      "outputs": [
        {
          "output_type": "stream",
          "name": "stdout",
          "text": [
            "ACCURACY SCORE:\n",
            "0.3156\n",
            "CLASSIFICATION REPORT:\n",
            "\tPrecision: 0.3823\n",
            "\tRecall: 0.3137\n",
            "\tF1_Score: 0.2913\n"
          ]
        }
      ]
    },
    {
      "cell_type": "code",
      "source": [
        "accuracy_conf_mat(y_test_knn, y_pred_knn)"
      ],
      "metadata": {
        "id": "n7QVM1URhoyP",
        "outputId": "e5c1a2cf-d5c7-43ba-a08a-daf9f24d97e7",
        "colab": {
          "base_uri": "https://localhost:8080/",
          "height": 639
        }
      },
      "execution_count": 67,
      "outputs": [
        {
          "output_type": "stream",
          "name": "stdout",
          "text": [
            "0.3156\n"
          ]
        },
        {
          "output_type": "display_data",
          "data": {
            "image/png": "[encoded data removed]",
            "text/plain": [
              "<Figure size 720x720 with 2 Axes>"
            ]
          },
          "metadata": {
            "needs_background": "light"
          }
        }
      ]
    },
    {
      "cell_type": "markdown",
      "source": [
        "<h2> 3.2 kNN with hyperparameter tuning\n"
      ],
      "metadata": {
        "id": "E9TvPasnpxAF"
      }
    },
    {
      "cell_type": "code",
      "source": [
        "# Define parameters to test\n",
        "\n",
        "#grid_knn = {'n_neighbors':np.arange(1,100),\n",
        " #       'p':np.arange(1,3),\n",
        " #       'weights':['uniform','distance']\n",
        " #      }\n",
        "\n",
        "# Define and fit model\n",
        "\n",
        "#knn = KNeighborsClassifier()\n",
        "#knn_cv = GridSearchCV(knn, grid, cv=10)\n",
        "#pipe = Pipeline([('vectorizer', tfidf_vector),\n",
        " #                ('classifier', knn_cv)])\n",
        "\n",
        "#pipe.fit(X_train_knn, y_train_knn)\n",
        "\n",
        "# Print results\n",
        "\n",
        "#print(\"Hyperparameters:\", knn_cv.best_params_)\n",
        "#y_pred_knn = pipe.predict(X_test_knn)\n",
        "#evaluate(y_test_knn, y_pred_knn)"
      ],
      "metadata": {
        "id": "4XN_daqtn_36"
      },
      "execution_count": 68,
      "outputs": []
    },
    {
      "cell_type": "code",
      "source": [
        "#bestparams_knn = {'n_neighbors': 82, 'p': 2, 'weights': 'distance'}"
      ],
      "metadata": {
        "id": "VqiIDe_tuXZV"
      },
      "execution_count": 69,
      "outputs": []
    },
    {
      "cell_type": "markdown",
      "source": [
        "<h2> 3.3 kNN with further methods"
      ],
      "metadata": {
        "id": "iMRoTJgxp2vZ"
      }
    },
    {
      "cell_type": "markdown",
      "source": [
        "<h3> 3.3.1 Preprocessing"
      ],
      "metadata": {
        "id": "Lwa2zJYUli44"
      }
    },
    {
      "cell_type": "code",
      "source": [
        "#Define classifier with best parameters\n",
        "knn = KNeighborsClassifier(n_neighbors= 82, weights= 'distance')"
      ],
      "metadata": {
        "id": "dncB-Z4vXl7c"
      },
      "execution_count": 70,
      "outputs": []
    },
    {
      "cell_type": "code",
      "source": [
        "tfidf_vec_knn = TfidfVectorizer(tokenizer=spacy_tokenizer)"
      ],
      "metadata": {
        "id": "nR0awg_kKBDB"
      },
      "execution_count": 73,
      "outputs": []
    },
    {
      "cell_type": "code",
      "source": [
        "# Create pipeline\n",
        "pipe = Pipeline([('vectorizer', tfidf_vec_knn),\n",
        "                 ('classifier', knn)])\n",
        "\n",
        "# Fit model on training set\n",
        "pipe.fit(X_train_knn, y_train_knn)"
      ],
      "metadata": {
        "colab": {
          "base_uri": "https://localhost:8080/"
        },
        "outputId": "f149191f-146a-4061-c4dc-8bc2e9e281fa",
        "id": "dHTpmohvKBDD"
      },
      "execution_count": 74,
      "outputs": [
        {
          "output_type": "execute_result",
          "data": {
            "text/plain": [
              "Pipeline(steps=[('vectorizer',\n",
              "                 TfidfVectorizer(tokenizer=<function spacy_tokenizer at 0x7f1ea4d9f830>)),\n",
              "                ('classifier',\n",
              "                 KNeighborsClassifier(n_neighbors=82, weights='distance'))])"
            ]
          },
          "metadata": {},
          "execution_count": 74
        }
      ]
    },
    {
      "cell_type": "code",
      "source": [
        "# Predictions\n",
        "y_pred_knn = pipe.predict(X_test_knn)\n",
        "\n",
        "evaluate(y_test_knn, y_pred_knn)"
      ],
      "metadata": {
        "colab": {
          "base_uri": "https://localhost:8080/"
        },
        "outputId": "f1a07aa5-7151-4ae9-adf9-1df4681cc8cb",
        "id": "CPahV5I_KBDE"
      },
      "execution_count": 75,
      "outputs": [
        {
          "output_type": "stream",
          "name": "stdout",
          "text": [
            "ACCURACY SCORE:\n",
            "0.3594\n",
            "CLASSIFICATION REPORT:\n",
            "\tPrecision: 0.4144\n",
            "\tRecall: 0.3577\n",
            "\tF1_Score: 0.3053\n"
          ]
        }
      ]
    },
    {
      "cell_type": "markdown",
      "source": [
        "<h3> 3.3.2 Word Embeddings"
      ],
      "metadata": {
        "id": "e07_-cDOlrUq"
      }
    },
    {
      "cell_type": "code",
      "metadata": {
        "colab": {
          "base_uri": "https://localhost:8080/"
        },
        "outputId": "3f6043cd-cf43-4561-e7ba-f9cb7399eaab",
        "id": "soVJLmmEXX81"
      },
      "source": [
        "#Vectorizing - Word Embeddings\n",
        "\n",
        "with nlp.disable_pipes():\n",
        "    doc_vectors = np.array([nlp(sentence).vector for sentence in knn_data.sentence])\n",
        "    \n",
        "doc_vectors.shape\n",
        "\n"
      ],
      "execution_count": 76,
      "outputs": [
        {
          "output_type": "execute_result",
          "data": {
            "text/plain": [
              "(4800, 96)"
            ]
          },
          "metadata": {},
          "execution_count": 76
        }
      ]
    },
    {
      "cell_type": "code",
      "source": [
        "from sklearn.model_selection import train_test_split\n",
        "\n",
        "X_train_knn, X_test_knn, y_train_knn, y_test_knn = train_test_split(doc_vectors, knn_data.difficulty,\n",
        "                                                    test_size=0.2, random_state=0)\n",
        "\n"
      ],
      "metadata": {
        "id": "8tU4aFhxXX85"
      },
      "execution_count": 77,
      "outputs": []
    },
    {
      "cell_type": "code",
      "source": [
        "# Fit model on training set\n",
        "knn.fit(X_train_knn, y_train_knn)"
      ],
      "metadata": {
        "outputId": "8c2d413e-033f-4152-d8e2-97309ea97ac3",
        "colab": {
          "base_uri": "https://localhost:8080/"
        },
        "id": "MlQtb4MhXX87"
      },
      "execution_count": 78,
      "outputs": [
        {
          "output_type": "execute_result",
          "data": {
            "text/plain": [
              "KNeighborsClassifier(n_neighbors=82, weights='distance')"
            ]
          },
          "metadata": {},
          "execution_count": 78
        }
      ]
    },
    {
      "cell_type": "code",
      "source": [
        "y_pred_knn = knn.predict(X_test_knn)\n",
        "\n",
        "evaluate(y_test_knn, y_pred_knn)"
      ],
      "metadata": {
        "outputId": "250675cb-fd07-4bd5-d826-79a88cbedc53",
        "colab": {
          "base_uri": "https://localhost:8080/"
        },
        "id": "pKJNKWXGXX89"
      },
      "execution_count": 79,
      "outputs": [
        {
          "output_type": "stream",
          "name": "stdout",
          "text": [
            "ACCURACY SCORE:\n",
            "0.2615\n",
            "CLASSIFICATION REPORT:\n",
            "\tPrecision: 0.3307\n",
            "\tRecall: 0.2588\n",
            "\tF1_Score: 0.2252\n"
          ]
        }
      ]
    },
    {
      "cell_type": "markdown",
      "source": [
        "<h3> 3.3.3 Dimensionality Reduction"
      ],
      "metadata": {
        "id": "JC2JGEHNlum0"
      }
    },
    {
      "cell_type": "code",
      "source": [
        "pca = PCA(n_components=200) #n_components can be varied to try out different models"
      ],
      "metadata": {
        "id": "yKiXFBeAmF7F"
      },
      "execution_count": 80,
      "outputs": []
    },
    {
      "cell_type": "code",
      "metadata": {
        "id": "DiAb3k01d_JM"
      },
      "source": [
        "X_knn = knn_data['sentence']\n",
        "ylabels_knn = knn_data['difficulty']\n",
        "\n",
        "X_train_knn, X_test_knn, y_train_knn, y_test_knn = train_test_split(X_knn, ylabels_knn, test_size=0.2, random_state=0, stratify=ylabels_knn)"
      ],
      "execution_count": 81,
      "outputs": []
    },
    {
      "cell_type": "code",
      "source": [
        "X_train_vec_knn = tfidf_vector.fit_transform(X_train_knn).toarray()\n",
        "X_test_vec_knn = tfidf_vector.transform(X_test_knn).toarray()\n",
        "print(X_train_vec_knn.shape)"
      ],
      "metadata": {
        "outputId": "35283df6-a22d-4343-a741-d96a61e1040d",
        "colab": {
          "base_uri": "https://localhost:8080/"
        },
        "id": "LbN0__1kmF7G"
      },
      "execution_count": 82,
      "outputs": [
        {
          "output_type": "stream",
          "name": "stdout",
          "text": [
            "(3840, 12903)\n"
          ]
        }
      ]
    },
    {
      "cell_type": "code",
      "source": [
        "#build pipe without Scaler & PCA\n",
        "scaler = StandardScaler()\n",
        "pipe = Pipeline([\n",
        "                 ('knn', knn),\n",
        "                 ])\n",
        "\n",
        "# Fit model\n",
        "pipe.fit(X_train_vec_knn, y_train_knn)\n",
        "print('Train Accuracy: ', round(pipe.score(X_train_vec_knn, y_train_knn), 4))\n",
        "print('Test Accuracy: ', round(pipe.score(X_test_vec_knn, y_test_knn), 4))"
      ],
      "metadata": {
        "outputId": "2649b67f-269f-4591-93ce-f13eebc2b351",
        "colab": {
          "base_uri": "https://localhost:8080/"
        },
        "id": "g4Z_UnJTlyQm"
      },
      "execution_count": 83,
      "outputs": [
        {
          "output_type": "stream",
          "name": "stdout",
          "text": [
            "Train Accuracy:  0.9992\n",
            "Test Accuracy:  0.3354\n"
          ]
        }
      ]
    },
    {
      "cell_type": "code",
      "source": [
        "#build pipe with  StandardScaler\n",
        "scaler = StandardScaler()\n",
        "pipe = Pipeline([\n",
        "                 ('scaler', scaler),\n",
        "                 ('knn', knn),\n",
        "                 ])\n",
        "\n",
        "# Fit model\n",
        "pipe.fit(X_train_vec_knn, y_train_knn)\n",
        "print('Train Accuracy: ', round(pipe.score(X_train_vec_knn, y_train_knn), 4))\n",
        "print('Test Accuracy: ', round(pipe.score(X_test_vec_knn, y_test_knn), 4))"
      ],
      "metadata": {
        "id": "1bwqJb6jlyQo",
        "colab": {
          "base_uri": "https://localhost:8080/"
        },
        "outputId": "93b1e256-d9b2-4bc3-81ef-c97a1bc42396"
      },
      "execution_count": 84,
      "outputs": [
        {
          "output_type": "stream",
          "name": "stdout",
          "text": [
            "Train Accuracy:  0.9992\n",
            "Test Accuracy:  0.1719\n"
          ]
        }
      ]
    },
    {
      "cell_type": "code",
      "source": [
        "#build pipe with PCA \n",
        "pipe = Pipeline([\n",
        "                 ('pca', pca),\n",
        "                 ('knn', knn),\n",
        "                 ])\n",
        "\n",
        "\n",
        "# Fit model\n",
        "pipe.fit(X_train_vec_knn, y_train_knn)\n",
        "print('Train Accuracy: ', round(pipe.score(X_train_vec_knn, y_train_knn), 4))\n",
        "print('Test Accuracy: ', round(pipe.score(X_test_vec_knn, y_test_knn), 4))"
      ],
      "metadata": {
        "id": "L1CW1RzxlyQq",
        "colab": {
          "base_uri": "https://localhost:8080/"
        },
        "outputId": "e7f19d65-7747-4479-bad4-0fdbaffbb2d4"
      },
      "execution_count": 85,
      "outputs": [
        {
          "output_type": "stream",
          "name": "stdout",
          "text": [
            "Train Accuracy:  0.999\n",
            "Test Accuracy:  0.2427\n"
          ]
        }
      ]
    },
    {
      "cell_type": "code",
      "source": [
        "#build pipe with PCA & StandardScaler\n",
        "\n",
        "pipe = Pipeline([\n",
        "                 ('scaler', scaler),\n",
        "                 ('pca', pca),\n",
        "                 ('knn', knn),\n",
        "                 ])\n",
        "\n",
        "# Fit model\n",
        "pipe.fit(X_train_vec_knn, y_train_knn)\n",
        "print('Train Accuracy: ', round(pipe.score(X_train_vec_knn, y_train_knn), 4))\n",
        "print('Test Accuracy: ', round(pipe.score(X_test_vec_knn, y_test_knn), 4))"
      ],
      "metadata": {
        "id": "bKQ4lwWqlyQs",
        "colab": {
          "base_uri": "https://localhost:8080/"
        },
        "outputId": "c74a1e91-5626-4766-e74b-e35ddbe34ab5"
      },
      "execution_count": 86,
      "outputs": [
        {
          "output_type": "stream",
          "name": "stdout",
          "text": [
            "Train Accuracy:  0.9987\n",
            "Test Accuracy:  0.1948\n"
          ]
        }
      ]
    },
    {
      "cell_type": "markdown",
      "metadata": {
        "id": "VYol3GFa6wzs"
      },
      "source": [
        "# 4. Decision Tree\n",
        "<h2> 4.1 Decision Tree without any data cleaning"
      ]
    },
    {
      "cell_type": "code",
      "metadata": {
        "id": "7VcEoDF-6_rZ"
      },
      "source": [
        "tree_data=pd.read_csv('https://raw.githubusercontent.com/chadi-aebi/DMML2021_Rolex/main/data/training_data.csv', index_col='id')\n",
        "tree_test_df = pd.read_csv('https://raw.githubusercontent.com/chadi-aebi/DMML2021_Rolex/main/data/unlabelled_test_data.csv', index_col='id')"
      ],
      "execution_count": 87,
      "outputs": []
    },
    {
      "cell_type": "code",
      "metadata": {
        "id": "oSPymGOk7PfG"
      },
      "source": [
        "X_tree = tree_data['sentence']\n",
        "ylabels_tree = tree_data['difficulty']\n",
        "\n",
        "X_train_tree, X_test_tree, y_train_tree, y_test_tree = train_test_split(X_tree, ylabels_tree, test_size=0.2, random_state=0, stratify=ylabels_tree)"
      ],
      "execution_count": 88,
      "outputs": []
    },
    {
      "cell_type": "code",
      "source": [
        "# Define classifier\n",
        "tree = DecisionTreeClassifier()"
      ],
      "metadata": {
        "id": "zWfElWrvm15t"
      },
      "execution_count": 89,
      "outputs": []
    },
    {
      "cell_type": "code",
      "metadata": {
        "id": "8sFIl3VHjWZk",
        "colab": {
          "base_uri": "https://localhost:8080/"
        },
        "outputId": "8b89fee9-e072-4d13-9867-fab7aafdb9e8"
      },
      "source": [
        "\n",
        "# Create pipeline\n",
        "pipe = Pipeline([('vectorizer', tfidf_vector),\n",
        "                 ('classifier', tree)])\n",
        "\n",
        "# Fit model on training set\n",
        "pipe.fit(X_train_tree, y_train_tree)"
      ],
      "execution_count": 90,
      "outputs": [
        {
          "output_type": "execute_result",
          "data": {
            "text/plain": [
              "Pipeline(steps=[('vectorizer', TfidfVectorizer()),\n",
              "                ('classifier', DecisionTreeClassifier())])"
            ]
          },
          "metadata": {},
          "execution_count": 90
        }
      ]
    },
    {
      "cell_type": "code",
      "metadata": {
        "id": "RGPV-iKDifr_",
        "colab": {
          "base_uri": "https://localhost:8080/"
        },
        "outputId": "53d68e3a-9521-4811-fecb-1120014b9ebc"
      },
      "source": [
        "y_pred_tree = pipe.predict(X_test_tree)\n",
        "\n",
        "acc_tree_0 = accuracy_score(y_test_tree,y_pred_tree)\n",
        "evaluate(y_test_tree, y_pred_tree)"
      ],
      "execution_count": 91,
      "outputs": [
        {
          "output_type": "stream",
          "name": "stdout",
          "text": [
            "ACCURACY SCORE:\n",
            "0.3010\n",
            "CLASSIFICATION REPORT:\n",
            "\tPrecision: 0.2958\n",
            "\tRecall: 0.3003\n",
            "\tF1_Score: 0.2960\n"
          ]
        }
      ]
    },
    {
      "cell_type": "code",
      "source": [
        "accuracy_conf_mat(y_test_tree, y_pred_tree)"
      ],
      "metadata": {
        "id": "5e8OdI3lht-A",
        "outputId": "18ae0295-ad52-4b64-f3f3-c1f437b7a648",
        "colab": {
          "base_uri": "https://localhost:8080/",
          "height": 639
        }
      },
      "execution_count": 92,
      "outputs": [
        {
          "output_type": "stream",
          "name": "stdout",
          "text": [
            "0.301\n"
          ]
        },
        {
          "output_type": "display_data",
          "data": {
            "image/png": "[encoded data removed]",
            "text/plain": [
              "<Figure size 720x720 with 2 Axes>"
            ]
          },
          "metadata": {
            "needs_background": "light"
          }
        }
      ]
    },
    {
      "cell_type": "markdown",
      "source": [
        "<h2> 4.2 Decision Tree with hyperparameter tuning"
      ],
      "metadata": {
        "id": "B53JCf7GqIHD"
      }
    },
    {
      "cell_type": "code",
      "source": [
        "# Grid Search - hyperparameter tuning\n",
        "\n",
        "\n",
        "# Define parameters to test\n",
        "#grid_tree ={\"criterion\" : [\"gini\", \"entropy\"],\n",
        "#            \"splitter\":[\"best\",\"random\"],\n",
        "#            \"max_depth\" : [1,5,20,50,100, None],\n",
        "#           \"min_samples_leaf\":[1,5,20,50,100, None],\n",
        "#           \"max_features\":[\"auto\",\"log2\",\"sqrt\",None],\n",
        "#           \"max_leaf_nodes\":[None,10,50,100] }\n",
        "\n",
        "# Define and fit model\n",
        "#tree = tree = DecisionTreeClassifier()\n",
        "#tree_cv = GridSearchCV(tree, grid_tree, cv=10)\n",
        "#pipe = Pipeline([('vectorizer', tfidf_vector),\n",
        "#                 ('classifier', tree_cv)])\n",
        "\n",
        "#pipe.fit(X_train_tree, y_train_tree)\n",
        "\n",
        "# Print results\n",
        "#print(\"Hyperparameters:\", tree_cv.best_params_)\n",
        "#y_pred_tree = pipe.predict(X_test_tree)\n",
        "#evaluate(y_test_tree, y_pred_tree)"
      ],
      "metadata": {
        "id": "vWKVW9MsqCOB"
      },
      "execution_count": 93,
      "outputs": []
    },
    {
      "cell_type": "markdown",
      "source": [
        "We save the best parameters from the GridSearch to use it for further models:"
      ],
      "metadata": {
        "id": "_f2kKxaNx83u"
      }
    },
    {
      "cell_type": "code",
      "source": [
        "#bestparams_tree = {'criterion': 'gini', 'max_depth': 20, 'max_features': None, 'max_leaf_nodes': 100, 'min_samples_leaf': 1, 'splitter': 'best'}"
      ],
      "metadata": {
        "id": "37yCmPd-wVhf"
      },
      "execution_count": 94,
      "outputs": []
    },
    {
      "cell_type": "markdown",
      "source": [
        "<h2> 4.3 Decision Tree with further methods"
      ],
      "metadata": {
        "id": "Z4cvQtWaqMgs"
      }
    },
    {
      "cell_type": "markdown",
      "source": [
        "<h3> 4.3.1 Preprocessing\n"
      ],
      "metadata": {
        "id": "w5BmhwQTme4g"
      }
    },
    {
      "cell_type": "code",
      "source": [
        "tfidf_vec_tree = TfidfVectorizer(tokenizer=spacy_tokenizer)"
      ],
      "metadata": {
        "id": "szhY96mrxGea"
      },
      "execution_count": 95,
      "outputs": []
    },
    {
      "cell_type": "code",
      "source": [
        "# Define classifier with best params\n",
        "tree = DecisionTreeClassifier(criterion = 'gini', max_depth = 20, max_features = None, max_leaf_nodes= 100, min_samples_leaf = 1, splitter = 'best')\n"
      ],
      "metadata": {
        "id": "E32C0uiowi8X"
      },
      "execution_count": 96,
      "outputs": []
    },
    {
      "cell_type": "code",
      "source": [
        "# Create pipeline\n",
        "pipe = Pipeline([('vectorizer', tfidf_vec_tree),\n",
        "                 ('classifier', tree)])\n",
        "\n",
        "# Fit model on training set\n",
        "pipe.fit(X_train_tree, y_train_tree)"
      ],
      "metadata": {
        "colab": {
          "base_uri": "https://localhost:8080/"
        },
        "id": "lOh9FXOHXGv7",
        "outputId": "0246a880-7c88-48ee-8468-c8ed74ab27e4"
      },
      "execution_count": 97,
      "outputs": [
        {
          "output_type": "execute_result",
          "data": {
            "text/plain": [
              "Pipeline(steps=[('vectorizer',\n",
              "                 TfidfVectorizer(tokenizer=<function spacy_tokenizer at 0x7f1ea4d9f830>)),\n",
              "                ('classifier',\n",
              "                 DecisionTreeClassifier(max_depth=20, max_leaf_nodes=100))])"
            ]
          },
          "metadata": {},
          "execution_count": 97
        }
      ]
    },
    {
      "cell_type": "code",
      "source": [
        "# Predictions\n",
        "y_pred_tree = pipe.predict(X_test_tree)\n",
        "\n",
        "evaluate(y_test_tree, y_pred_tree)"
      ],
      "metadata": {
        "colab": {
          "base_uri": "https://localhost:8080/"
        },
        "id": "WqJwKV1Hxv8t",
        "outputId": "65ce4b63-154c-4c0a-8004-6a77cb63bdad"
      },
      "execution_count": 98,
      "outputs": [
        {
          "output_type": "stream",
          "name": "stdout",
          "text": [
            "ACCURACY SCORE:\n",
            "0.3281\n",
            "CLASSIFICATION REPORT:\n",
            "\tPrecision: 0.3383\n",
            "\tRecall: 0.3274\n",
            "\tF1_Score: 0.3215\n"
          ]
        }
      ]
    },
    {
      "cell_type": "markdown",
      "source": [
        "<h3> 4.3.2 Word embedding\n"
      ],
      "metadata": {
        "id": "eT2DTFqDmjH1"
      }
    },
    {
      "cell_type": "code",
      "metadata": {
        "colab": {
          "base_uri": "https://localhost:8080/"
        },
        "outputId": "fb8abadf-e04e-4a25-be87-008c29f63068",
        "id": "csRdtKxtW74V"
      },
      "source": [
        "#Vectorizing - Word Embeddings\n",
        "\n",
        "with nlp.disable_pipes():\n",
        "    doc_vectors = np.array([nlp(sentence).vector for sentence in tree_data.sentence])\n",
        "    \n",
        "doc_vectors.shape\n",
        "\n"
      ],
      "execution_count": 99,
      "outputs": [
        {
          "output_type": "execute_result",
          "data": {
            "text/plain": [
              "(4800, 96)"
            ]
          },
          "metadata": {},
          "execution_count": 99
        }
      ]
    },
    {
      "cell_type": "code",
      "source": [
        "from sklearn.model_selection import train_test_split\n",
        "\n",
        "X_train_tree, X_test_tree, y_train_tree, y_test_tree = train_test_split(doc_vectors, tree_data.difficulty,\n",
        "                                                    test_size=0.2, random_state=0)\n",
        "\n"
      ],
      "metadata": {
        "id": "m6YwUAs6W74X"
      },
      "execution_count": 100,
      "outputs": []
    },
    {
      "cell_type": "code",
      "source": [
        "# Fit model on training set\n",
        "tree.fit(X_train_tree, y_train_tree)"
      ],
      "metadata": {
        "outputId": "c2e08bea-17dc-4ce3-c866-022b0df8f77b",
        "colab": {
          "base_uri": "https://localhost:8080/"
        },
        "id": "DJm5OuCpW74Y"
      },
      "execution_count": 101,
      "outputs": [
        {
          "output_type": "execute_result",
          "data": {
            "text/plain": [
              "DecisionTreeClassifier(max_depth=20, max_leaf_nodes=100)"
            ]
          },
          "metadata": {},
          "execution_count": 101
        }
      ]
    },
    {
      "cell_type": "code",
      "source": [
        "y_pred_tree = tree.predict(X_test_tree)\n",
        "\n",
        "evaluate(y_test_tree, y_pred_tree)"
      ],
      "metadata": {
        "outputId": "0dfb0ca5-642a-4890-e261-7b8969e8d076",
        "colab": {
          "base_uri": "https://localhost:8080/"
        },
        "id": "Odfi-C-EW74a"
      },
      "execution_count": 102,
      "outputs": [
        {
          "output_type": "stream",
          "name": "stdout",
          "text": [
            "ACCURACY SCORE:\n",
            "0.3115\n",
            "CLASSIFICATION REPORT:\n",
            "\tPrecision: 0.3129\n",
            "\tRecall: 0.3108\n",
            "\tF1_Score: 0.3090\n"
          ]
        }
      ]
    },
    {
      "cell_type": "markdown",
      "source": [
        "<h3> 4.3.3 Dimensionality Reduction"
      ],
      "metadata": {
        "id": "fqXWyJ4Dmp7q"
      }
    },
    {
      "cell_type": "code",
      "source": [
        "pca = PCA(n_components=200) #n_components can be varied to try out different models"
      ],
      "metadata": {
        "id": "SI6deZ4ImzJD"
      },
      "execution_count": 103,
      "outputs": []
    },
    {
      "cell_type": "code",
      "metadata": {
        "id": "8lvLlLvYeDUF"
      },
      "source": [
        "X_tree = tree_data['sentence']\n",
        "ylabels_tree = tree_data['difficulty']\n",
        "\n",
        "X_train_tree, X_test_tree, y_train_tree, y_test_tree = train_test_split(X_tree, ylabels_tree, test_size=0.2, random_state=0, stratify=ylabels_tree)"
      ],
      "execution_count": 104,
      "outputs": []
    },
    {
      "cell_type": "code",
      "source": [
        "X_train_vec_tree = tfidf_vector.fit_transform(X_train_tree).toarray()\n",
        "X_test_vec_tree = tfidf_vector.transform(X_test_tree).toarray()\n",
        "print(X_train_vec_tree.shape)"
      ],
      "metadata": {
        "outputId": "74efc581-f79a-42cf-f589-ce86e5b89414",
        "colab": {
          "base_uri": "https://localhost:8080/"
        },
        "id": "xzXxgI0gmzJG"
      },
      "execution_count": 105,
      "outputs": [
        {
          "output_type": "stream",
          "name": "stdout",
          "text": [
            "(3840, 12903)\n"
          ]
        }
      ]
    },
    {
      "cell_type": "code",
      "source": [
        "#build pipe without Scaler & PCA\n",
        "scaler = StandardScaler()\n",
        "pipe = Pipeline([\n",
        "                 ('tree', tree),\n",
        "                 ])\n",
        "\n",
        "# Fit model\n",
        "pipe.fit(X_train_vec_tree, y_train_tree)\n",
        "print('Train Accuracy: ', round(pipe.score(X_train_vec_tree, y_train_tree), 4))\n",
        "print('Test Accuracy: ', round(pipe.score(X_test_vec_tree, y_test_tree), 4))"
      ],
      "metadata": {
        "outputId": "e84696cb-fd4b-4016-f44c-d4a2e47963c5",
        "colab": {
          "base_uri": "https://localhost:8080/"
        },
        "id": "FQWNeBZtmzJI"
      },
      "execution_count": 106,
      "outputs": [
        {
          "output_type": "stream",
          "name": "stdout",
          "text": [
            "Train Accuracy:  0.4612\n",
            "Test Accuracy:  0.3281\n"
          ]
        }
      ]
    },
    {
      "cell_type": "code",
      "source": [
        "#build pipe with  StandardScaler\n",
        "scaler = StandardScaler()\n",
        "pipe = Pipeline([\n",
        "                 ('scaler', scaler),\n",
        "                 ('tree', tree),\n",
        "                 ])\n",
        "# Fit model\n",
        "pipe.fit(X_train_vec_tree, y_train_tree)\n",
        "print('Train Accuracy: ', round(pipe.score(X_train_vec_tree, y_train_tree), 4))\n",
        "print('Test Accuracy: ', round(pipe.score(X_test_vec_tree, y_test_tree), 4))"
      ],
      "metadata": {
        "colab": {
          "base_uri": "https://localhost:8080/"
        },
        "id": "63lmb9XGmzJK",
        "outputId": "f8413523-2b22-42f2-c9ab-a2de497c7bfd"
      },
      "execution_count": 107,
      "outputs": [
        {
          "output_type": "stream",
          "name": "stdout",
          "text": [
            "Train Accuracy:  0.4617\n",
            "Test Accuracy:  0.3229\n"
          ]
        }
      ]
    },
    {
      "cell_type": "code",
      "source": [
        "#build pipe with PCA \n",
        "pipe = Pipeline([\n",
        "                 ('pca', pca),\n",
        "                 ('tree', tree),\n",
        "                 ])\n",
        "\n",
        "\n",
        "# Fit model\n",
        "pipe.fit(X_train_vec_tree, y_train_tree)\n",
        "print('Train Accuracy: ', round(pipe.score(X_train_vec_tree, y_train_tree), 4))\n",
        "print('Test Accuracy: ', round(pipe.score(X_test_vec_tree, y_test_tree), 4))"
      ],
      "metadata": {
        "colab": {
          "base_uri": "https://localhost:8080/"
        },
        "id": "xlx1jX9kmzJK",
        "outputId": "60584f94-99a4-404a-8096-9e3d55fe7949"
      },
      "execution_count": 108,
      "outputs": [
        {
          "output_type": "stream",
          "name": "stdout",
          "text": [
            "Train Accuracy:  0.5148\n",
            "Test Accuracy:  0.3073\n"
          ]
        }
      ]
    },
    {
      "cell_type": "code",
      "source": [
        "#build pipe with PCA & StandardScaler\n",
        "\n",
        "pipe = Pipeline([\n",
        "                 ('scaler', scaler),\n",
        "                 ('pca', pca),\n",
        "                 ('tree', tree),\n",
        "                 ])\n",
        "\n",
        "# Fit model\n",
        "pipe.fit(X_train_vec_tree, y_train_tree)\n",
        "print('Train Accuracy: ', round(pipe.score(X_train_vec_tree, y_train_tree), 4))\n",
        "print('Test Accuracy: ', round(pipe.score(X_test_vec_tree, y_test_tree), 4))"
      ],
      "metadata": {
        "colab": {
          "base_uri": "https://localhost:8080/"
        },
        "id": "XX8dynk5mzJL",
        "outputId": "989deedc-d45b-4294-d489-f17d482617e4"
      },
      "execution_count": 109,
      "outputs": [
        {
          "output_type": "stream",
          "name": "stdout",
          "text": [
            "Train Accuracy:  0.5438\n",
            "Test Accuracy:  0.3094\n"
          ]
        }
      ]
    },
    {
      "cell_type": "markdown",
      "metadata": {
        "id": "zg-NDltT62B0"
      },
      "source": [
        "# 5. Random Forest\n",
        "<h2> 5.1 Random Forest without any data cleaning\n"
      ]
    },
    {
      "cell_type": "code",
      "metadata": {
        "id": "m_IMuTls7C1j"
      },
      "source": [
        "rf_data=pd.read_csv('https://raw.githubusercontent.com/chadi-aebi/DMML2021_Rolex/main/data/training_data.csv', index_col='id')\n",
        "rf_test_df = pd.read_csv('https://raw.githubusercontent.com/chadi-aebi/DMML2021_Rolex/main/data/unlabelled_test_data.csv', index_col='id')\n",
        "#rf_test_df.head()"
      ],
      "execution_count": 110,
      "outputs": []
    },
    {
      "cell_type": "code",
      "metadata": {
        "id": "QkFia3ER7Ygu"
      },
      "source": [
        "X_rf = rf_data['sentence']\n",
        "ylabels_rf = rf_data['difficulty']\n",
        "\n",
        "X_train_rf, X_test_rf, y_train_rf, y_test_rf = train_test_split(X_rf, ylabels_rf, test_size=0.2, random_state=0, stratify=ylabels_rf)"
      ],
      "execution_count": 111,
      "outputs": []
    },
    {
      "cell_type": "code",
      "source": [
        "X_train_rf_df = pd.DataFrame(X_train_rf)"
      ],
      "metadata": {
        "id": "dka8IrRm6dar"
      },
      "execution_count": 112,
      "outputs": []
    },
    {
      "cell_type": "code",
      "metadata": {
        "id": "x0MTWwJkhh5p"
      },
      "source": [
        "# Define classifier\n",
        "rfc = RandomForestClassifier()"
      ],
      "execution_count": 113,
      "outputs": []
    },
    {
      "cell_type": "code",
      "metadata": {
        "id": "6c3bxy72SC3d",
        "colab": {
          "base_uri": "https://localhost:8080/"
        },
        "outputId": "12b5ab72-a3b1-4df7-af01-505c3f6f44eb"
      },
      "source": [
        "# Create pipeline with tfidf\n",
        "pipe = Pipeline([('vectorizer', tfidf_vector),\n",
        "                 ('classifier', rfc)])\n",
        "\n",
        "# Fit model on training set\n",
        "pipe.fit(X_train_rf, y_train_rf)"
      ],
      "execution_count": 114,
      "outputs": [
        {
          "output_type": "execute_result",
          "data": {
            "text/plain": [
              "Pipeline(steps=[('vectorizer', TfidfVectorizer()),\n",
              "                ('classifier', RandomForestClassifier())])"
            ]
          },
          "metadata": {},
          "execution_count": 114
        }
      ]
    },
    {
      "cell_type": "code",
      "source": [
        "y_pred_rf = pipe.predict(X_test_rf)\n",
        "\n",
        "acc_rf_0 = accuracy_score(y_test_rf,y_pred_rf)\n",
        "evaluate(y_test_rf, y_pred_rf)"
      ],
      "metadata": {
        "id": "6J2i2Fppq4L-",
        "outputId": "d331efe2-5e7d-4bd0-a697-383d64ca977c",
        "colab": {
          "base_uri": "https://localhost:8080/"
        }
      },
      "execution_count": 115,
      "outputs": [
        {
          "output_type": "stream",
          "name": "stdout",
          "text": [
            "ACCURACY SCORE:\n",
            "0.3854\n",
            "CLASSIFICATION REPORT:\n",
            "\tPrecision: 0.3788\n",
            "\tRecall: 0.3840\n",
            "\tF1_Score: 0.3704\n"
          ]
        }
      ]
    },
    {
      "cell_type": "code",
      "source": [
        "accuracy_conf_mat(y_test_rf, y_pred_rf)"
      ],
      "metadata": {
        "id": "DoB6r2kWhz5-",
        "outputId": "5d54bda3-dbbe-4b18-c8e6-50a977fa6389",
        "colab": {
          "base_uri": "https://localhost:8080/",
          "height": 639
        }
      },
      "execution_count": 116,
      "outputs": [
        {
          "output_type": "stream",
          "name": "stdout",
          "text": [
            "0.3854\n"
          ]
        },
        {
          "output_type": "display_data",
          "data": {
            "image/png": "[encoded data removed]",
            "text/plain": [
              "<Figure size 720x720 with 2 Axes>"
            ]
          },
          "metadata": {
            "needs_background": "light"
          }
        }
      ]
    },
    {
      "cell_type": "markdown",
      "source": [
        "<h2> 5.2 Random Forest with Hyperparameter Tuning"
      ],
      "metadata": {
        "id": "S8l4EDfrqcez"
      }
    },
    {
      "cell_type": "markdown",
      "source": [
        "In contrast to the other classifiers, we also tried RandomizedSearchCV for the Hyperparameter Tuning in this case. "
      ],
      "metadata": {
        "id": "ixe8BPL2b9hN"
      }
    },
    {
      "cell_type": "code",
      "metadata": {
        "id": "uG3X64vahNoI"
      },
      "source": [
        "#Tuning Hyperparameters with RandomizedSearchCV\n",
        "\n",
        "# Number of trees in random forest\n",
        "#n_estimators = [int(x) for x in np.linspace(start = 500, stop = 2000, num = 10)]\n",
        "\n",
        "# Number of features to consider at every split\n",
        "#max_features = ['auto', 'sqrt']\n",
        "\n",
        "# Maximum number of levels in tree\n",
        "#max_depth = [int(x) for x in np.linspace(10, 110, num = 11)]\n",
        "#max_depth.append(None)\n",
        "\n",
        "# Minimum number of samples required to split a node\n",
        "#min_samples_split = [2, 5, 10]\n",
        "\n",
        "# Minimum number of samples required at each leaf node\n",
        "#min_samples_leaf = [1, 2, 4]\n",
        "\n",
        "# Method of selecting samples for training each tree\n",
        "#bootstrap = [True, False]\n",
        "\n",
        "# Create the grid\n",
        "#grid_rf = {'n_estimators': n_estimators,\n",
        "#               'max_features': max_features,\n",
        "#               'max_depth': max_depth,\n",
        "#               'min_samples_split': min_samples_split,\n",
        "#               'min_samples_leaf': min_samples_leaf,\n",
        "#               'bootstrap': bootstrap}\n",
        "\n",
        "#print(random_grid)"
      ],
      "execution_count": 117,
      "outputs": []
    },
    {
      "cell_type": "code",
      "metadata": {
        "id": "UmbrlJcrhU8Y"
      },
      "source": [
        "#Crossvalidation with RandomizedSearchCV\n",
        "#rf_random = RandomizedSearchCV(estimator = rfc, param_distributions = random_grid_rf, n_iter = 10, cv = 5, verbose=2, random_state=0, n_jobs = -1)\n",
        "\n",
        "# Create pipeline with tfidf\n",
        "#pipe = Pipeline([('vectorizer', tfidf_vector),\n",
        " #                ('classifier', rf_random)])\n",
        "\n",
        "# Fit model on training set\n",
        "#pipe.fit(X_train_rf, y_train_rf)"
      ],
      "execution_count": 118,
      "outputs": []
    },
    {
      "cell_type": "code",
      "metadata": {
        "id": "Kipbly2yiLDe"
      },
      "source": [
        "#Save and display best parameters\n",
        "#best_param_1 = (bootstrap=False,\n",
        "# max_depth= 70,\n",
        "# max_features= 'auto',\n",
        "# min_samples_leaf= 1,\n",
        "# min_samples_split= 10,\n",
        "# n_estimators= 1166)"
      ],
      "execution_count": 119,
      "outputs": []
    },
    {
      "cell_type": "markdown",
      "source": [
        "<h2> 5.3 Random Forest with further methods"
      ],
      "metadata": {
        "id": "D_e5qIOAqq9b"
      }
    },
    {
      "cell_type": "markdown",
      "source": [
        "<h3> 5.3.1 Preprocessing"
      ],
      "metadata": {
        "id": "kmVABUvzrOyX"
      }
    },
    {
      "cell_type": "code",
      "metadata": {
        "id": "gwkMbWKPlyiY"
      },
      "source": [
        "tfidf_vec_rf = TfidfVectorizer(tokenizer=spacy_tokenizer)"
      ],
      "execution_count": 120,
      "outputs": []
    },
    {
      "cell_type": "code",
      "source": [
        "# Define classifier with best params - 07.12.2021 #2\n",
        "rfc = RandomForestClassifier(bootstrap=False,\n",
        " max_depth= 70,\n",
        " max_features= 'auto',\n",
        " min_samples_leaf= 1,\n",
        " min_samples_split= 10,\n",
        " n_estimators= 1166)"
      ],
      "metadata": {
        "id": "pP08OpFIOIoX"
      },
      "execution_count": 121,
      "outputs": []
    },
    {
      "cell_type": "code",
      "source": [
        "# Create pipeline with tfidf (Use whole dataset)\n",
        "pipe = Pipeline([('vectorizer', tfidf_vec_rf),\n",
        "                 ('classifier', rfc)])\n",
        "\n",
        "# Fit model on whole set\n",
        "pipe.fit(X_rf, ylabels_rf)"
      ],
      "metadata": {
        "id": "WSlZFnhxIOqJ",
        "outputId": "711ea5da-0c50-4790-d1ee-81cc418c659f",
        "colab": {
          "base_uri": "https://localhost:8080/"
        }
      },
      "execution_count": 122,
      "outputs": [
        {
          "output_type": "execute_result",
          "data": {
            "text/plain": [
              "Pipeline(steps=[('vectorizer',\n",
              "                 TfidfVectorizer(tokenizer=<function spacy_tokenizer at 0x7f1ea4d9f830>)),\n",
              "                ('classifier',\n",
              "                 RandomForestClassifier(bootstrap=False, max_depth=70,\n",
              "                                        min_samples_split=10,\n",
              "                                        n_estimators=1166))])"
            ]
          },
          "metadata": {},
          "execution_count": 122
        }
      ]
    },
    {
      "cell_type": "code",
      "source": [
        "# Create pipeline with tfidf\n",
        "pipe = Pipeline([('vectorizer', tfidf_vec_rf),\n",
        "                 ('classifier', rfc)])\n",
        "\n",
        "# Fit model on training set\n",
        "pipe.fit(X_train_rf, y_train_rf)"
      ],
      "metadata": {
        "id": "zQPTFI9lzjwr",
        "outputId": "e6b33290-efac-4885-f139-6a4158c31b73",
        "colab": {
          "base_uri": "https://localhost:8080/"
        }
      },
      "execution_count": 123,
      "outputs": [
        {
          "output_type": "execute_result",
          "data": {
            "text/plain": [
              "Pipeline(steps=[('vectorizer',\n",
              "                 TfidfVectorizer(tokenizer=<function spacy_tokenizer at 0x7f1ea4d9f830>)),\n",
              "                ('classifier',\n",
              "                 RandomForestClassifier(bootstrap=False, max_depth=70,\n",
              "                                        min_samples_split=10,\n",
              "                                        n_estimators=1166))])"
            ]
          },
          "metadata": {},
          "execution_count": 123
        }
      ]
    },
    {
      "cell_type": "code",
      "metadata": {
        "id": "I1tDTARLjbnd",
        "outputId": "83c56223-3807-4027-fa48-132f9ffed16b",
        "colab": {
          "base_uri": "https://localhost:8080/"
        }
      },
      "source": [
        "y_pred_rf = pipe.predict(X_test_rf)\n",
        "\n",
        "#accuracy_score(y_test_rf,y_pred_rf)\n",
        "evaluate(y_test_rf, y_pred_rf)"
      ],
      "execution_count": 124,
      "outputs": [
        {
          "output_type": "stream",
          "name": "stdout",
          "text": [
            "ACCURACY SCORE:\n",
            "0.4688\n",
            "CLASSIFICATION REPORT:\n",
            "\tPrecision: 0.4593\n",
            "\tRecall: 0.4674\n",
            "\tF1_Score: 0.4580\n"
          ]
        }
      ]
    },
    {
      "cell_type": "code",
      "metadata": {
        "id": "FFIi0cuR_0Bh"
      },
      "source": [
        "#y_pred_test=pipe.predict(rf_test_df['sentence'])\n"
      ],
      "execution_count": 125,
      "outputs": []
    },
    {
      "cell_type": "code",
      "metadata": {
        "id": "Wv3TWRkWC02p"
      },
      "source": [
        "#submission_test = pd.DataFrame(y_pred_test, columns=['difficulty'])\n",
        "#submission_test"
      ],
      "execution_count": 126,
      "outputs": []
    },
    {
      "cell_type": "code",
      "metadata": {
        "id": "aFMazOxqCbAO"
      },
      "source": [
        "\n",
        "#submission_test.to_csv('submission_21-12-13_2.csv')"
      ],
      "execution_count": 127,
      "outputs": []
    },
    {
      "cell_type": "markdown",
      "source": [
        "<h3> 5.3.2 Word Embeddings"
      ],
      "metadata": {
        "id": "6VQWY5NrrHFI"
      }
    },
    {
      "cell_type": "code",
      "metadata": {
        "id": "bIrshLbcI1mk",
        "outputId": "aa399993-ad9c-4489-a458-9e7742269d09",
        "colab": {
          "base_uri": "https://localhost:8080/"
        }
      },
      "source": [
        "#Vectorizing - Word Embeddings\n",
        "\n",
        "with nlp.disable_pipes():\n",
        "    doc_vectors = np.array([nlp(sentence).vector for sentence in rf_data.sentence])\n",
        "    \n",
        "doc_vectors.shape\n",
        "\n"
      ],
      "execution_count": 128,
      "outputs": [
        {
          "output_type": "execute_result",
          "data": {
            "text/plain": [
              "(4800, 96)"
            ]
          },
          "metadata": {},
          "execution_count": 128
        }
      ]
    },
    {
      "cell_type": "code",
      "source": [
        "from sklearn.model_selection import train_test_split\n",
        "\n",
        "X_train_rf, X_test_rf, y_train_rf, y_test_rf = train_test_split(doc_vectors, rf_data.difficulty,\n",
        "                                                    test_size=0.2, random_state=0)\n",
        "\n"
      ],
      "metadata": {
        "id": "qhDT6-RJT0rP"
      },
      "execution_count": 129,
      "outputs": []
    },
    {
      "cell_type": "code",
      "source": [
        "# Fit model on training set\n",
        "rfc.fit(X_train_rf, y_train_rf)"
      ],
      "metadata": {
        "colab": {
          "base_uri": "https://localhost:8080/"
        },
        "id": "Z2f31HiaVNq3",
        "outputId": "5c96386f-2ab4-402a-e416-7d37f0c19259"
      },
      "execution_count": 130,
      "outputs": [
        {
          "output_type": "execute_result",
          "data": {
            "text/plain": [
              "RandomForestClassifier(bootstrap=False, max_depth=70, min_samples_split=10,\n",
              "                       n_estimators=1166)"
            ]
          },
          "metadata": {},
          "execution_count": 130
        }
      ]
    },
    {
      "cell_type": "code",
      "source": [
        "y_pred_rf = rfc.predict(X_test_rf)\n",
        "\n",
        "evaluate(y_test_rf, y_pred_rf)"
      ],
      "metadata": {
        "colab": {
          "base_uri": "https://localhost:8080/"
        },
        "id": "4klckEeUVR1Q",
        "outputId": "5d2ce6ae-8eb1-45b3-ca70-a32056bc6706"
      },
      "execution_count": 131,
      "outputs": [
        {
          "output_type": "stream",
          "name": "stdout",
          "text": [
            "ACCURACY SCORE:\n",
            "0.3854\n",
            "CLASSIFICATION REPORT:\n",
            "\tPrecision: 0.3867\n",
            "\tRecall: 0.3861\n",
            "\tF1_Score: 0.3834\n"
          ]
        }
      ]
    },
    {
      "cell_type": "markdown",
      "source": [
        "<h3> 5.3.3 Dimensionality Reduction"
      ],
      "metadata": {
        "id": "xEVmT3aGsvkS"
      }
    },
    {
      "cell_type": "code",
      "metadata": {
        "id": "ZFsQtcUMIpim"
      },
      "source": [
        "pca = PCA(n_components=200) #n_components can be varied to try out different models"
      ],
      "execution_count": 132,
      "outputs": []
    },
    {
      "cell_type": "code",
      "metadata": {
        "id": "evMidJmPeMJ7"
      },
      "source": [
        "X_rf = rf_data['sentence']\n",
        "ylabels_rf = rf_data['difficulty']\n",
        "\n",
        "X_train_rf, X_test_rf, y_train_rf, y_test_rf = train_test_split(X_rf, ylabels_rf, test_size=0.2, random_state=0, stratify=ylabels_rf)"
      ],
      "execution_count": 133,
      "outputs": []
    },
    {
      "cell_type": "code",
      "source": [
        "X_train_vec_rf = tfidf_vector.fit_transform(X_train_rf).toarray()\n",
        "X_test_vec_rf = tfidf_vector.transform(X_test_rf).toarray()\n",
        "print(X_train_vec_rf.shape)"
      ],
      "metadata": {
        "id": "Cp6Tg7tzs1fC",
        "outputId": "5a5c8c96-637f-49a7-fc0c-7dcb62eb2bde",
        "colab": {
          "base_uri": "https://localhost:8080/"
        }
      },
      "execution_count": 134,
      "outputs": [
        {
          "output_type": "stream",
          "name": "stdout",
          "text": [
            "(3840, 12903)\n"
          ]
        }
      ]
    },
    {
      "cell_type": "code",
      "source": [
        "#build pipe without Scaler & PCA\n",
        "scaler = StandardScaler()\n",
        "pipe = Pipeline([\n",
        "                 ('rfc', rfc),\n",
        "                 ])\n",
        "\n",
        "# Fit model\n",
        "start = time.time()\n",
        "pipe.fit(X_train_vec_rf, y_train_rf)\n",
        "end = time.time()\n",
        "print('Time: ', round(end-start, 4))\n",
        "print('Train Accuracy: ', round(pipe.score(X_train_vec_rf, y_train_rf), 4))\n",
        "print('Test Accuracy: ', round(pipe.score(X_test_vec_rf, y_test_rf), 4))"
      ],
      "metadata": {
        "id": "prCEfZefzFaf",
        "outputId": "ca86f231-9ef9-4a70-946c-0afa7043567d",
        "colab": {
          "base_uri": "https://localhost:8080/"
        }
      },
      "execution_count": 135,
      "outputs": [
        {
          "output_type": "stream",
          "name": "stdout",
          "text": [
            "Time:  267.6787\n",
            "Train Accuracy:  0.9896\n",
            "Test Accuracy:  0.4208\n"
          ]
        }
      ]
    },
    {
      "cell_type": "code",
      "source": [
        "#build pipe with  StandardScaler\n",
        "scaler = StandardScaler()\n",
        "pipe = Pipeline([\n",
        "                 ('scaler', scaler),\n",
        "                 ('rfc', rfc),\n",
        "                 ])\n",
        "\n",
        "# Fit model\n",
        "start = time.time()\n",
        "pipe.fit(X_train_vec_rf, y_train_rf)\n",
        "end = time.time()\n",
        "print('Time: ', round(end-start, 4))\n",
        "print('Train Accuracy: ', round(pipe.score(X_train_vec_rf, y_train_rf), 4))\n",
        "print('Test Accuracy: ', round(pipe.score(X_test_vec_rf, y_test_rf), 4))"
      ],
      "metadata": {
        "id": "BfARcuclvVQx",
        "outputId": "c3f171df-1ea4-43b6-9994-c40c393b6d8a",
        "colab": {
          "base_uri": "https://localhost:8080/"
        }
      },
      "execution_count": 136,
      "outputs": [
        {
          "output_type": "stream",
          "name": "stdout",
          "text": [
            "Time:  266.8453\n",
            "Train Accuracy:  0.9885\n",
            "Test Accuracy:  0.4188\n"
          ]
        }
      ]
    },
    {
      "cell_type": "code",
      "source": [
        "#build pipe with PCA \n",
        "pipe = Pipeline([\n",
        "                 ('pca', pca),\n",
        "                 ('rfc', rfc),\n",
        "                 ])\n",
        "\n",
        "# Fit model\n",
        "start = time.time()\n",
        "pipe.fit(X_train_vec_rf, y_train_rf)\n",
        "end = time.time()\n",
        "print('Time: ', round(end-start, 4))\n",
        "print('Train Accuracy: ', round(pipe.score(X_train_vec_rf, y_train_rf), 4))\n",
        "print('Test Accuracy: ', round(pipe.score(X_test_vec_rf, y_test_rf), 4))"
      ],
      "metadata": {
        "id": "RTI2CafMtD9x",
        "outputId": "dd7d162a-0f78-44c7-c9cc-6d2a3eafde42",
        "colab": {
          "base_uri": "https://localhost:8080/"
        }
      },
      "execution_count": 137,
      "outputs": [
        {
          "output_type": "stream",
          "name": "stdout",
          "text": [
            "Time:  132.3986\n",
            "Train Accuracy:  0.9984\n",
            "Test Accuracy:  0.4042\n"
          ]
        }
      ]
    },
    {
      "cell_type": "code",
      "source": [
        "#build pipe with PCA & StandardScaler\n",
        "\n",
        "pipe = Pipeline([\n",
        "                 ('scaler', scaler),\n",
        "                 ('pca', pca),\n",
        "                 ('rfc', rfc),\n",
        "                 ])\n",
        "\n",
        "# Fit model\n",
        "start = time.time()\n",
        "pipe.fit(X_train_vec_rf, y_train_rf)\n",
        "end = time.time()\n",
        "print('Time: ', round(end-start, 4))\n",
        "print('Train Accuracy: ', round(pipe.score(X_train_vec_rf, y_train_rf), 4))\n",
        "print('Test Accuracy: ', round(pipe.score(X_test_vec_rf, y_test_rf), 4))"
      ],
      "metadata": {
        "id": "WInkSWaAuI5X",
        "outputId": "7eeb00f0-2c90-4986-a369-9d8550987ce8",
        "colab": {
          "base_uri": "https://localhost:8080/"
        }
      },
      "execution_count": 138,
      "outputs": [
        {
          "output_type": "stream",
          "name": "stdout",
          "text": [
            "Time:  121.5104\n",
            "Train Accuracy:  0.9982\n",
            "Test Accuracy:  0.3927\n"
          ]
        }
      ]
    },
    {
      "cell_type": "markdown",
      "source": [
        "# 6. Linear Support Vector Classification\n",
        "<h2> 6.1 LinearSVC without any data cleaning"
      ],
      "metadata": {
        "id": "rkwceP7z6AwD"
      }
    },
    {
      "cell_type": "code",
      "metadata": {
        "id": "iKbIfED5-rGf"
      },
      "source": [
        "svc_data=pd.read_csv('https://raw.githubusercontent.com/chadi-aebi/DMML2021_Rolex/main/data/training_data.csv', index_col='id')\n",
        "svc_test_df = pd.read_csv('https://raw.githubusercontent.com/chadi-aebi/DMML2021_Rolex/main/data/unlabelled_test_data.csv', index_col='id')\n"
      ],
      "execution_count": 139,
      "outputs": []
    },
    {
      "cell_type": "code",
      "metadata": {
        "id": "z2uCUzcV-rGi"
      },
      "source": [
        "X_svc = svc_data['sentence']\n",
        "ylabels_svc = svc_data['difficulty']\n",
        "\n",
        "X_train_svc, X_test_svc, y_train_svc, y_test_svc = train_test_split(X_svc, ylabels_svc, test_size=0.2, random_state=0, stratify=ylabels_svc)"
      ],
      "execution_count": 140,
      "outputs": []
    },
    {
      "cell_type": "code",
      "source": [
        "X_train_svc_df = pd.DataFrame(X_train_svc)"
      ],
      "metadata": {
        "id": "RnKyzFO7-rGi"
      },
      "execution_count": 141,
      "outputs": []
    },
    {
      "cell_type": "code",
      "metadata": {
        "id": "G60yfcj1-rGj"
      },
      "source": [
        "# Define classifier\n",
        "svc = LinearSVC()\n",
        "# svc = LinearSVC(random_state=1, dual=False, max_iter=10000)"
      ],
      "execution_count": 142,
      "outputs": []
    },
    {
      "cell_type": "code",
      "metadata": {
        "colab": {
          "base_uri": "https://localhost:8080/"
        },
        "outputId": "4db968ad-bf51-4ae0-b45f-c1153ba3d02e",
        "id": "VE9V5CFB-rGk"
      },
      "source": [
        "# Create pipeline with tfidf\n",
        "pipe = Pipeline([('vectorizer', tfidf_vector),\n",
        "                 ('classifier', svc)])\n",
        "\n",
        "# Fit model on training set\n",
        "pipe.fit(X_train_svc, y_train_svc)"
      ],
      "execution_count": 143,
      "outputs": [
        {
          "output_type": "execute_result",
          "data": {
            "text/plain": [
              "Pipeline(steps=[('vectorizer', TfidfVectorizer()), ('classifier', LinearSVC())])"
            ]
          },
          "metadata": {},
          "execution_count": 143
        }
      ]
    },
    {
      "cell_type": "code",
      "source": [
        "y_pred_svc = pipe.predict(X_test_svc)\n",
        "\n",
        "acc_svc_0 = accuracy_score(y_test_svc,y_pred_svc)\n",
        "evaluate(y_test_svc, y_pred_svc)"
      ],
      "metadata": {
        "outputId": "8d2f3995-90a0-4ae3-de6a-9a932d3e77f1",
        "colab": {
          "base_uri": "https://localhost:8080/"
        },
        "id": "U7zNG1eG-rGl"
      },
      "execution_count": 144,
      "outputs": [
        {
          "output_type": "stream",
          "name": "stdout",
          "text": [
            "ACCURACY SCORE:\n",
            "0.4615\n",
            "CLASSIFICATION REPORT:\n",
            "\tPrecision: 0.4565\n",
            "\tRecall: 0.4604\n",
            "\tF1_Score: 0.4557\n"
          ]
        }
      ]
    },
    {
      "cell_type": "code",
      "source": [
        "accuracy_conf_mat(y_test_svc, y_pred_svc)"
      ],
      "metadata": {
        "id": "Hes9HPfbh3o-",
        "outputId": "c25b2097-7480-469b-ea6a-1a7c468ecc9b",
        "colab": {
          "base_uri": "https://localhost:8080/",
          "height": 639
        }
      },
      "execution_count": 145,
      "outputs": [
        {
          "output_type": "stream",
          "name": "stdout",
          "text": [
            "0.4615\n"
          ]
        },
        {
          "output_type": "display_data",
          "data": {
            "image/png": "[encoded data removed]",
            "text/plain": [
              "<Figure size 720x720 with 2 Axes>"
            ]
          },
          "metadata": {
            "needs_background": "light"
          }
        }
      ]
    },
    {
      "cell_type": "markdown",
      "source": [
        "<h2> LinearSVC with Hyperparameter Tuning"
      ],
      "metadata": {
        "id": "5t24-OMJAVNk"
      }
    },
    {
      "cell_type": "code",
      "source": [
        "# Define parameters to test\n",
        "\n",
        "\n",
        "#grid_svc = [ {'C': [1, 10, 100, 1000], \n",
        "#              'penalty': ['l1', 'l2'], \n",
        "#              'loss': ['hinge','squared_hinge'], \n",
        "#             # 'dual' : ['false', 'true'], \n",
        "#              'max_iter' : [100, 1000, 10000]}]\n",
        "\n",
        "#second round\n",
        "#grid_svc = [ {\n",
        "            #'C': [1, 10, 100, 1000], \n",
        "            #  'penalty': ['l1', 'l2'], \n",
        "            #  'loss': ['hinge','squared_hinge'], \n",
        "             # 'dual' : ['false', 'true'], \n",
        "#              'max_iter' : [1, 100, 300, 500, 700, 900]}]\n",
        "\n",
        "# Define and fit model\n",
        "\n",
        "#svc = LogisticSVC()\n",
        "#svc_cv = GridSearchCV(svc, grid_svc, cv=10)\n",
        "#pipe = Pipeline([('vectorizer', tfidf_vector),\n",
        " #                ('classifier', svc_cv)])\n",
        "\n",
        "#pipe.fit(X_train_svc, y_train_svc)\n",
        "\n",
        "# Print results\n",
        "\n",
        "#print(\"Hyperparameters:\", svc_cv.best_params_)\n",
        "#y_pred_svc = pipe.predict(X_test_svc)\n",
        "#evaluate(y_test_svc, y_pred_svc)"
      ],
      "metadata": {
        "id": "bvv8kt1CA4WW"
      },
      "execution_count": 147,
      "outputs": []
    },
    {
      "cell_type": "code",
      "source": [
        "#safe best parameters\n",
        "#Hyperparameters= {'C': 1, 'loss': 'squared_hinge', 'max_iter': 100, 'penalty': 'l2'}"
      ],
      "metadata": {
        "id": "jJQr3-9-A4Wa"
      },
      "execution_count": 148,
      "outputs": []
    },
    {
      "cell_type": "markdown",
      "source": [
        "<h2> 6.3 LinearSVC with further methods\n",
        "<h3> 6.3.1 Preprocessing"
      ],
      "metadata": {
        "id": "dflHJzozBX0b"
      }
    },
    {
      "cell_type": "code",
      "metadata": {
        "id": "_0s1QMvaBmZZ"
      },
      "source": [
        "tfidf_vec_svc = TfidfVectorizer(tokenizer=spacy_tokenizer)"
      ],
      "execution_count": 149,
      "outputs": []
    },
    {
      "cell_type": "code",
      "source": [
        "# Define classifier with best params - \n",
        "svc = LinearSVC(C = 1, loss = 'squared_hinge', max_iter= 100)"
      ],
      "metadata": {
        "id": "MuuLGLCzBmZa"
      },
      "execution_count": 150,
      "outputs": []
    },
    {
      "cell_type": "code",
      "source": [
        "# Create pipeline with tfidf \n",
        "pipe = Pipeline([('vectorizer', tfidf_vec_svc),\n",
        "                 ('classifier', svc)])\n",
        "\n",
        "# Fit model on training set\n",
        "pipe.fit(X_train_svc, y_train_svc)"
      ],
      "metadata": {
        "colab": {
          "base_uri": "https://localhost:8080/"
        },
        "id": "9g14eTUeBmZc",
        "outputId": "cd78e1a5-634e-422a-d7cf-aa2a5bf0d894"
      },
      "execution_count": 151,
      "outputs": [
        {
          "output_type": "execute_result",
          "data": {
            "text/plain": [
              "Pipeline(steps=[('vectorizer',\n",
              "                 TfidfVectorizer(tokenizer=<function spacy_tokenizer at 0x7f1ea4d9f830>)),\n",
              "                ('classifier', LinearSVC(C=1, max_iter=100))])"
            ]
          },
          "metadata": {},
          "execution_count": 151
        }
      ]
    },
    {
      "cell_type": "code",
      "metadata": {
        "colab": {
          "base_uri": "https://localhost:8080/"
        },
        "id": "UFtTLoTPBmZe",
        "outputId": "207dfff1-efbe-454a-f283-642105569cc1"
      },
      "source": [
        "y_pred_svc = pipe.predict(X_test_svc)\n",
        "\n",
        "evaluate(y_test_svc, y_pred_svc)"
      ],
      "execution_count": 152,
      "outputs": [
        {
          "output_type": "stream",
          "name": "stdout",
          "text": [
            "ACCURACY SCORE:\n",
            "0.4833\n",
            "CLASSIFICATION REPORT:\n",
            "\tPrecision: 0.4783\n",
            "\tRecall: 0.4822\n",
            "\tF1_Score: 0.4787\n"
          ]
        }
      ]
    },
    {
      "cell_type": "code",
      "source": [
        "# Create pipeline with tfidf\n",
        "pipe = Pipeline([('vectorizer', tfidf_vec_svc),\n",
        "                 ('classifier', svc)])\n",
        "\n",
        "# Fit model on whole data set\n",
        "pipe.fit(X_svc, ylabels_svc)"
      ],
      "metadata": {
        "colab": {
          "base_uri": "https://localhost:8080/"
        },
        "id": "sj7gkoQtBmZd",
        "outputId": "98f394ff-8ef1-43d7-d4a8-19c83deb11a6"
      },
      "execution_count": 153,
      "outputs": [
        {
          "output_type": "execute_result",
          "data": {
            "text/plain": [
              "Pipeline(steps=[('vectorizer',\n",
              "                 TfidfVectorizer(tokenizer=<function spacy_tokenizer at 0x7f1ea4d9f830>)),\n",
              "                ('classifier', LinearSVC(C=1, max_iter=100))])"
            ]
          },
          "metadata": {},
          "execution_count": 153
        }
      ]
    },
    {
      "cell_type": "code",
      "source": [
        "y_pred_test=pipe.predict(svc_test_df['sentence'])"
      ],
      "metadata": {
        "id": "u8L7L3BvJaHr"
      },
      "execution_count": 154,
      "outputs": []
    },
    {
      "cell_type": "code",
      "source": [
        "submission_test_svc = pd.DataFrame(y_pred_test, columns=['difficulty'])\n",
        "#submission_test_svc"
      ],
      "metadata": {
        "id": "iGfS2UPiI_MB"
      },
      "execution_count": 155,
      "outputs": []
    },
    {
      "cell_type": "code",
      "source": [
        "submission_test_svc.to_csv('submission_21-12-16.csv')"
      ],
      "metadata": {
        "id": "6MSaBm2HI_MD"
      },
      "execution_count": 156,
      "outputs": []
    },
    {
      "cell_type": "markdown",
      "source": [
        "<h3> 6.3.2 Word Embedding"
      ],
      "metadata": {
        "id": "m8t3ls46GObg"
      }
    },
    {
      "cell_type": "code",
      "metadata": {
        "colab": {
          "base_uri": "https://localhost:8080/"
        },
        "id": "uvNhL0a5GRoy",
        "outputId": "ff7f59e1-761e-4f83-d6cb-c967a5c721c0"
      },
      "source": [
        "#Vectorizing - Word Embeddings\n",
        "\n",
        "with nlp.disable_pipes():\n",
        "    doc_vectors = np.array([nlp(sentence).vector for sentence in svc_data.sentence])\n",
        "    \n",
        "doc_vectors.shape\n",
        "\n"
      ],
      "execution_count": 157,
      "outputs": [
        {
          "output_type": "execute_result",
          "data": {
            "text/plain": [
              "(4800, 96)"
            ]
          },
          "metadata": {},
          "execution_count": 157
        }
      ]
    },
    {
      "cell_type": "code",
      "source": [
        "from sklearn.model_selection import train_test_split\n",
        "\n",
        "X_train_svc, X_test_svc, y_train_svc, y_test_svc = train_test_split(doc_vectors, svc_data.difficulty,\n",
        "                                                    test_size=0.2, random_state=0)\n",
        "\n"
      ],
      "metadata": {
        "id": "0q8Q_zRnGRo1"
      },
      "execution_count": 158,
      "outputs": []
    },
    {
      "cell_type": "code",
      "source": [
        "# Fit model on training set\n",
        "svc.fit(X_train_svc, y_train_svc)"
      ],
      "metadata": {
        "colab": {
          "base_uri": "https://localhost:8080/"
        },
        "outputId": "966ea662-3d38-4247-e335-02d8565f8c4c",
        "id": "7AiX-wt2GRo2"
      },
      "execution_count": 159,
      "outputs": [
        {
          "output_type": "stream",
          "name": "stderr",
          "text": [
            "/usr/local/lib/python3.7/dist-packages/sklearn/svm/_base.py:1208: ConvergenceWarning: Liblinear failed to converge, increase the number of iterations.\n",
            "  ConvergenceWarning,\n"
          ]
        },
        {
          "output_type": "execute_result",
          "data": {
            "text/plain": [
              "LinearSVC(C=1, max_iter=100)"
            ]
          },
          "metadata": {},
          "execution_count": 159
        }
      ]
    },
    {
      "cell_type": "code",
      "source": [
        "y_pred_svc = svc.predict(X_test_svc)\n",
        "\n",
        "evaluate(y_test_svc, y_pred_svc)"
      ],
      "metadata": {
        "colab": {
          "base_uri": "https://localhost:8080/"
        },
        "outputId": "07fceba3-3bd1-4d51-a28c-7dd0d44a2177",
        "id": "forpiHjLGRo3"
      },
      "execution_count": 160,
      "outputs": [
        {
          "output_type": "stream",
          "name": "stdout",
          "text": [
            "ACCURACY SCORE:\n",
            "0.3281\n",
            "CLASSIFICATION REPORT:\n",
            "\tPrecision: 0.3595\n",
            "\tRecall: 0.3256\n",
            "\tF1_Score: 0.3112\n"
          ]
        }
      ]
    },
    {
      "cell_type": "markdown",
      "source": [
        "<h3> 6.3.3 Dimensionality Reduction"
      ],
      "metadata": {
        "id": "mj9kEEmcGoxb"
      }
    },
    {
      "cell_type": "code",
      "metadata": {
        "id": "8or-lex0HJOX"
      },
      "source": [
        "pca = PCA(n_components=3000) #n_components can be varied to try out different models"
      ],
      "execution_count": 161,
      "outputs": []
    },
    {
      "cell_type": "code",
      "metadata": {
        "id": "VuUd5qYsHJOZ"
      },
      "source": [
        "X_svc = svc_data['sentence']\n",
        "ylabels_svc = svc_data['difficulty']\n",
        "\n",
        "X_train_svc, X_test_svc, y_train_svc, y_test_svc = train_test_split(X_svc, ylabels_svc, test_size=0.2, random_state=0, stratify=ylabels_svc)"
      ],
      "execution_count": 162,
      "outputs": []
    },
    {
      "cell_type": "code",
      "source": [
        "#X_train_vec_svc = tfidf_vector.fit_transform(X_train_svc).toarray()\n",
        "#X_test_vec_svc = tfidf_vector.transform(X_test_svc).toarray()\n",
        "#print(X_train_vec_svc.shape)"
      ],
      "metadata": {
        "id": "t2nZfLsFHJOc"
      },
      "execution_count": 163,
      "outputs": []
    },
    {
      "cell_type": "code",
      "source": [
        "X_train_vec_svc = tfidf_vec_svc.fit_transform(X_train_svc).toarray()\n",
        "X_test_vec_svc = tfidf_vec_svc.transform(X_test_svc).toarray()\n",
        "print(X_train_vec_svc.shape)"
      ],
      "metadata": {
        "colab": {
          "base_uri": "https://localhost:8080/"
        },
        "outputId": "8c0abf33-adb6-4455-9dc9-0d82f4143af3",
        "id": "qODPbm1ZKsM5"
      },
      "execution_count": 164,
      "outputs": [
        {
          "output_type": "stream",
          "name": "stdout",
          "text": [
            "(3840, 9602)\n"
          ]
        }
      ]
    },
    {
      "cell_type": "code",
      "source": [
        "#build pipe without Scaler & PCA\n",
        "scaler = StandardScaler()\n",
        "pipe = Pipeline([\n",
        "                 ('svc', svc),\n",
        "                 ])\n",
        "\n",
        "# Fit model\n",
        "pipe.fit(X_train_vec_svc, y_train_svc)\n",
        "print('Train Accuracy: ', round(pipe.score(X_train_vec_svc, y_train_svc), 4))\n",
        "print('Test Accuracy: ', round(pipe.score(X_test_vec_svc, y_test_svc), 4))"
      ],
      "metadata": {
        "colab": {
          "base_uri": "https://localhost:8080/"
        },
        "id": "7pq_8TVSHJOd",
        "outputId": "6f35d686-6600-4262-b30c-00df728a2484"
      },
      "execution_count": 165,
      "outputs": [
        {
          "output_type": "stream",
          "name": "stdout",
          "text": [
            "Train Accuracy:  0.9747\n",
            "Test Accuracy:  0.4833\n"
          ]
        }
      ]
    },
    {
      "cell_type": "code",
      "source": [
        "#build pipe with  StandardScaler\n",
        "scaler = StandardScaler()\n",
        "pipe = Pipeline([\n",
        "                 ('scaler', scaler),\n",
        "                 ('svc', svc),\n",
        "                 ])\n",
        "\n",
        "# Fit model\n",
        "pipe.fit(X_train_vec_svc, y_train_svc)\n",
        "print('Train Accuracy: ', round(pipe.score(X_train_vec_svc, y_train_svc), 4))\n",
        "print('Test Accuracy: ', round(pipe.score(X_test_vec_svc, y_test_svc), 4))"
      ],
      "metadata": {
        "colab": {
          "base_uri": "https://localhost:8080/"
        },
        "id": "oHyVCXM9HJOe",
        "outputId": "6f58d44b-2aca-428e-b526-c255eea7db2a"
      },
      "execution_count": 166,
      "outputs": [
        {
          "output_type": "stream",
          "name": "stderr",
          "text": [
            "/usr/local/lib/python3.7/dist-packages/sklearn/svm/_base.py:1208: ConvergenceWarning: Liblinear failed to converge, increase the number of iterations.\n",
            "  ConvergenceWarning,\n"
          ]
        },
        {
          "output_type": "stream",
          "name": "stdout",
          "text": [
            "Train Accuracy:  0.9982\n",
            "Test Accuracy:  0.3615\n"
          ]
        }
      ]
    },
    {
      "cell_type": "code",
      "source": [
        "#build pipe with PCA \n",
        "pipe = Pipeline([\n",
        "                 ('pca', pca),\n",
        "                 ('svc', svc),\n",
        "                 ])\n",
        "\n",
        "# Fit model\n",
        "pipe.fit(X_train_vec_svc, y_train_svc)\n",
        "print('Train Accuracy: ', round(pipe.score(X_train_vec_svc, y_train_svc), 4))\n",
        "print('Test Accuracy: ', round(pipe.score(X_test_vec_svc, y_test_svc), 4))"
      ],
      "metadata": {
        "colab": {
          "base_uri": "https://localhost:8080/"
        },
        "id": "qlC7K1ESHJOf",
        "outputId": "ee738d21-27f8-419d-e4b0-f4dd156ca0bd"
      },
      "execution_count": 167,
      "outputs": [
        {
          "output_type": "stream",
          "name": "stdout",
          "text": [
            "Train Accuracy:  0.9641\n",
            "Test Accuracy:  0.4885\n"
          ]
        }
      ]
    },
    {
      "cell_type": "code",
      "source": [
        "#build pipe with PCA & StandardScaler\n",
        "\n",
        "pipe = Pipeline([\n",
        "                 ('scaler', scaler),\n",
        "                 ('pca', pca),\n",
        "                 ('svc', svc),\n",
        "                 ])\n",
        "\n",
        "# Fit model\n",
        "pipe.fit(X_train_vec_svc, y_train_svc)\n",
        "print('Train Accuracy: ', round(pipe.score(X_train_vec_svc, y_train_svc), 4))\n",
        "print('Test Accuracy: ', round(pipe.score(X_test_vec_svc, y_test_svc), 4))"
      ],
      "metadata": {
        "colab": {
          "base_uri": "https://localhost:8080/"
        },
        "id": "L70WxPxmHJOg",
        "outputId": "014e2b04-d32a-472a-cec0-650a871f070f"
      },
      "execution_count": 168,
      "outputs": [
        {
          "output_type": "stream",
          "name": "stderr",
          "text": [
            "/usr/local/lib/python3.7/dist-packages/sklearn/svm/_base.py:1208: ConvergenceWarning: Liblinear failed to converge, increase the number of iterations.\n",
            "  ConvergenceWarning,\n"
          ]
        },
        {
          "output_type": "stream",
          "name": "stdout",
          "text": [
            "Train Accuracy:  0.9896\n",
            "Test Accuracy:  0.374\n"
          ]
        }
      ]
    },
    {
      "cell_type": "code",
      "source": [
        "#Submission with whole data set"
      ],
      "metadata": {
        "id": "Hm6QFmuO6vuS"
      },
      "execution_count": null,
      "outputs": []
    },
    {
      "cell_type": "code",
      "source": [
        "X_train_vec_svc = tfidf_vec_svc.fit_transform(X_svc).toarray()\n",
        "X_test_vec_svc = tfidf_vec_svc.transform(svc_test_df['sentence']).toarray()\n",
        "print(X_train_vec_svc.shape)"
      ],
      "metadata": {
        "colab": {
          "base_uri": "https://localhost:8080/"
        },
        "outputId": "aa8a5880-56fc-4b2d-9922-81752003ab65",
        "id": "_m77ULEg6v8a"
      },
      "execution_count": 169,
      "outputs": [
        {
          "output_type": "stream",
          "name": "stdout",
          "text": [
            "(4800, 10770)\n"
          ]
        }
      ]
    },
    {
      "cell_type": "code",
      "source": [
        "#build pipe with PCA \n",
        "pipe = Pipeline([\n",
        "                 ('pca', pca),\n",
        "                 ('svc', svc),\n",
        "                 ])\n",
        "\n",
        "# Fit model\n",
        "pipe.fit(X_train_vec_svc, ylabels_svc)"
      ],
      "metadata": {
        "colab": {
          "base_uri": "https://localhost:8080/"
        },
        "outputId": "95a55f86-d824-42f6-8291-a78f58d36cf4",
        "id": "AiILr1Xy625d"
      },
      "execution_count": 170,
      "outputs": [
        {
          "output_type": "execute_result",
          "data": {
            "text/plain": [
              "Pipeline(steps=[('pca', PCA(n_components=3000)),\n",
              "                ('svc', LinearSVC(C=1, max_iter=100))])"
            ]
          },
          "metadata": {},
          "execution_count": 170
        }
      ]
    },
    {
      "cell_type": "code",
      "source": [
        "y_pred_test=pipe.predict(X_test_vec_svc)"
      ],
      "metadata": {
        "id": "ZEh08A_I7CRu"
      },
      "execution_count": 172,
      "outputs": []
    },
    {
      "cell_type": "code",
      "source": [
        "submission_test = pd.DataFrame(y_pred_test, columns=['difficulty'])\n",
        "#submission_test"
      ],
      "metadata": {
        "id": "pe3cHY7E7CRv"
      },
      "execution_count": 173,
      "outputs": []
    },
    {
      "cell_type": "code",
      "source": [
        "submission_test.to_csv('submission_21-12-17_1.csv')"
      ],
      "metadata": {
        "id": "Iv3-h2rE7CRw"
      },
      "execution_count": 174,
      "outputs": []
    },
    {
      "cell_type": "code",
      "source": [
        ""
      ],
      "metadata": {
        "id": "tyPM1sld8ho1"
      },
      "execution_count": null,
      "outputs": []
    }
  ]
}