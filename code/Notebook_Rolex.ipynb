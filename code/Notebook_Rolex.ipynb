{
  "nbformat": 4,
  "nbformat_minor": 0,
  "metadata": {
    "colab": {
      "name": "Notebook_Rolex.ipynb",
      "provenance": [],
      "collapsed_sections": [],
      "include_colab_link": true
    },
    "kernelspec": {
      "name": "python3",
      "display_name": "Python 3"
    },
    "language_info": {
      "name": "python"
    }
  },
  "cells": [
    {
      "cell_type": "markdown",
      "metadata": {
        "id": "view-in-github",
        "colab_type": "text"
      },
      "source": [
        "<a href=\"https://colab.research.google.com/github/chadi-aebi/DMML2021_Rolex/blob/main/code/Notebook_Rolex.ipynb\" target=\"_parent\"><img src=\"https://colab.research.google.com/assets/colab-badge.svg\" alt=\"Open In Colab\"/></a>"
      ]
    },
    {
      "cell_type": "markdown",
      "metadata": {
        "id": "Ee1dPZ5x3h76"
      },
      "source": [
        "<h1> UNIL Team Rolex\n",
        "\n",
        "\n"
      ]
    },
    {
      "cell_type": "markdown",
      "source": [
        "In this notebook we will proceed as follows:\n",
        "\n",
        "First we prepare the notebook by importing essential methods and components for text analytics. Then we will start with some preparations such as building a tokenizer with different possible features to apply this later in the classification.\n",
        "\n",
        "Subsequently, we start the text analytics divided by the different classifiers starting with a baseline calculation.\n",
        "Each classifier section starts with a classification without any data preprocessing or other features. Then we tune the hyperparameters for the classifier to find the best parameters. After that, we train models that also implement the preprocessing of data, we try word embeddings and in the end we try out dimensionality reduction and standardisation.\n",
        "\n",
        "The notebook has the following chapters:\n",
        "\n",
        "\n",
        "\n",
        "*   0.1.   Preparation to start working - impor necessary methods etc.\n",
        "*   0.2.   Further preparation for classification\n",
        "\n",
        "\n",
        "1.     Baseline calculation\n",
        "2.     Logistic Regression\n",
        "3.     kNN Classifier\n",
        "4.     Decision Tree\n",
        "5.     Random Forests\n",
        "6.     Linear Support Vector Classification\n",
        "7.     Summary of the Notebook\n",
        "\n",
        "\n",
        "Note: if you want to run the whole code in the Notebook you might want to comment the lines of Dimensionality Reduction (X.3.3) because this takes up quite some time. Hyperparameter Tuning is already commented so you see the code but it's not automatically executed. \n",
        "\n",
        "\n"
      ],
      "metadata": {
        "id": "wL9btvP1beMI"
      }
    },
    {
      "cell_type": "markdown",
      "source": [
        "# 0.1 Preparation to start working - import necessary methods etc."
      ],
      "metadata": {
        "id": "3TkfqWbwbecy"
      }
    },
    {
      "cell_type": "code",
      "metadata": {
        "id": "gNRi80vlEyt1",
        "colab": {
          "base_uri": "https://localhost:8080/"
        },
        "outputId": "aadba135-5cb9-4d55-84ab-a68b39fe8d31"
      },
      "source": [
        "#Install and update spacy\n",
        "!pip install -U spacy\n",
        "#Download the french language model\n",
        "!python -m spacy download fr_core_news_sm"
      ],
      "execution_count": 1,
      "outputs": [
        {
          "output_type": "stream",
          "name": "stdout",
          "text": [
            "Requirement already satisfied: spacy in /usr/local/lib/python3.7/dist-packages (2.2.4)\n",
            "Collecting spacy\n",
            "  Downloading spacy-3.2.1-cp37-cp37m-manylinux_2_17_x86_64.manylinux2014_x86_64.whl (6.0 MB)\n",
            "\u001b[K     |████████████████████████████████| 6.0 MB 4.3 MB/s \n",
            "\u001b[?25hRequirement already satisfied: cymem<2.1.0,>=2.0.2 in /usr/local/lib/python3.7/dist-packages (from spacy) (2.0.6)\n",
            "Collecting pathy>=0.3.5\n",
            "  Downloading pathy-0.6.1-py3-none-any.whl (42 kB)\n",
            "\u001b[K     |████████████████████████████████| 42 kB 1.2 MB/s \n",
            "\u001b[?25hRequirement already satisfied: typing-extensions<4.0.0.0,>=3.7.4 in /usr/local/lib/python3.7/dist-packages (from spacy) (3.10.0.2)\n",
            "Collecting pydantic!=1.8,!=1.8.1,<1.9.0,>=1.7.4\n",
            "  Downloading pydantic-1.8.2-cp37-cp37m-manylinux2014_x86_64.whl (10.1 MB)\n",
            "\u001b[K     |████████████████████████████████| 10.1 MB 22.8 MB/s \n",
            "\u001b[?25hCollecting spacy-loggers<2.0.0,>=1.0.0\n",
            "  Downloading spacy_loggers-1.0.1-py3-none-any.whl (7.0 kB)\n",
            "Requirement already satisfied: packaging>=20.0 in /usr/local/lib/python3.7/dist-packages (from spacy) (21.3)\n",
            "Requirement already satisfied: requests<3.0.0,>=2.13.0 in /usr/local/lib/python3.7/dist-packages (from spacy) (2.23.0)\n",
            "Requirement already satisfied: blis<0.8.0,>=0.4.0 in /usr/local/lib/python3.7/dist-packages (from spacy) (0.4.1)\n",
            "Collecting langcodes<4.0.0,>=3.2.0\n",
            "  Downloading langcodes-3.3.0-py3-none-any.whl (181 kB)\n",
            "\u001b[K     |████████████████████████████████| 181 kB 47.8 MB/s \n",
            "\u001b[?25hCollecting srsly<3.0.0,>=2.4.1\n",
            "  Downloading srsly-2.4.2-cp37-cp37m-manylinux_2_17_x86_64.manylinux2014_x86_64.whl (451 kB)\n",
            "\u001b[K     |████████████████████████████████| 451 kB 45.7 MB/s \n",
            "\u001b[?25hCollecting typer<0.5.0,>=0.3.0\n",
            "  Downloading typer-0.4.0-py3-none-any.whl (27 kB)\n",
            "Requirement already satisfied: preshed<3.1.0,>=3.0.2 in /usr/local/lib/python3.7/dist-packages (from spacy) (3.0.6)\n",
            "Collecting thinc<8.1.0,>=8.0.12\n",
            "  Downloading thinc-8.0.13-cp37-cp37m-manylinux_2_17_x86_64.manylinux2014_x86_64.whl (628 kB)\n",
            "\u001b[K     |████████████████████████████████| 628 kB 49.3 MB/s \n",
            "\u001b[?25hRequirement already satisfied: tqdm<5.0.0,>=4.38.0 in /usr/local/lib/python3.7/dist-packages (from spacy) (4.62.3)\n",
            "Collecting catalogue<2.1.0,>=2.0.6\n",
            "  Downloading catalogue-2.0.6-py3-none-any.whl (17 kB)\n",
            "Requirement already satisfied: numpy>=1.15.0 in /usr/local/lib/python3.7/dist-packages (from spacy) (1.19.5)\n",
            "Requirement already satisfied: wasabi<1.1.0,>=0.8.1 in /usr/local/lib/python3.7/dist-packages (from spacy) (0.8.2)\n",
            "Requirement already satisfied: murmurhash<1.1.0,>=0.28.0 in /usr/local/lib/python3.7/dist-packages (from spacy) (1.0.6)\n",
            "Collecting spacy-legacy<3.1.0,>=3.0.8\n",
            "  Downloading spacy_legacy-3.0.8-py2.py3-none-any.whl (14 kB)\n",
            "Requirement already satisfied: setuptools in /usr/local/lib/python3.7/dist-packages (from spacy) (57.4.0)\n",
            "Requirement already satisfied: jinja2 in /usr/local/lib/python3.7/dist-packages (from spacy) (2.11.3)\n",
            "Requirement already satisfied: zipp>=0.5 in /usr/local/lib/python3.7/dist-packages (from catalogue<2.1.0,>=2.0.6->spacy) (3.6.0)\n",
            "Requirement already satisfied: pyparsing!=3.0.5,>=2.0.2 in /usr/local/lib/python3.7/dist-packages (from packaging>=20.0->spacy) (3.0.6)\n",
            "Requirement already satisfied: smart-open<6.0.0,>=5.0.0 in /usr/local/lib/python3.7/dist-packages (from pathy>=0.3.5->spacy) (5.2.1)\n",
            "Requirement already satisfied: urllib3!=1.25.0,!=1.25.1,<1.26,>=1.21.1 in /usr/local/lib/python3.7/dist-packages (from requests<3.0.0,>=2.13.0->spacy) (1.24.3)\n",
            "Requirement already satisfied: certifi>=2017.4.17 in /usr/local/lib/python3.7/dist-packages (from requests<3.0.0,>=2.13.0->spacy) (2021.10.8)\n",
            "Requirement already satisfied: chardet<4,>=3.0.2 in /usr/local/lib/python3.7/dist-packages (from requests<3.0.0,>=2.13.0->spacy) (3.0.4)\n",
            "Requirement already satisfied: idna<3,>=2.5 in /usr/local/lib/python3.7/dist-packages (from requests<3.0.0,>=2.13.0->spacy) (2.10)\n",
            "Requirement already satisfied: click<9.0.0,>=7.1.1 in /usr/local/lib/python3.7/dist-packages (from typer<0.5.0,>=0.3.0->spacy) (7.1.2)\n",
            "Requirement already satisfied: MarkupSafe>=0.23 in /usr/local/lib/python3.7/dist-packages (from jinja2->spacy) (2.0.1)\n",
            "Installing collected packages: catalogue, typer, srsly, pydantic, thinc, spacy-loggers, spacy-legacy, pathy, langcodes, spacy\n",
            "  Attempting uninstall: catalogue\n",
            "    Found existing installation: catalogue 1.0.0\n",
            "    Uninstalling catalogue-1.0.0:\n",
            "      Successfully uninstalled catalogue-1.0.0\n",
            "  Attempting uninstall: srsly\n",
            "    Found existing installation: srsly 1.0.5\n",
            "    Uninstalling srsly-1.0.5:\n",
            "      Successfully uninstalled srsly-1.0.5\n",
            "  Attempting uninstall: thinc\n",
            "    Found existing installation: thinc 7.4.0\n",
            "    Uninstalling thinc-7.4.0:\n",
            "      Successfully uninstalled thinc-7.4.0\n",
            "  Attempting uninstall: spacy\n",
            "    Found existing installation: spacy 2.2.4\n",
            "    Uninstalling spacy-2.2.4:\n",
            "      Successfully uninstalled spacy-2.2.4\n",
            "Successfully installed catalogue-2.0.6 langcodes-3.3.0 pathy-0.6.1 pydantic-1.8.2 spacy-3.2.1 spacy-legacy-3.0.8 spacy-loggers-1.0.1 srsly-2.4.2 thinc-8.0.13 typer-0.4.0\n",
            "Collecting fr-core-news-sm==3.2.0\n",
            "  Downloading https://github.com/explosion/spacy-models/releases/download/fr_core_news_sm-3.2.0/fr_core_news_sm-3.2.0-py3-none-any.whl (17.4 MB)\n",
            "\u001b[K     |████████████████████████████████| 17.4 MB 1.5 MB/s \n",
            "\u001b[?25hRequirement already satisfied: spacy<3.3.0,>=3.2.0 in /usr/local/lib/python3.7/dist-packages (from fr-core-news-sm==3.2.0) (3.2.1)\n",
            "Requirement already satisfied: catalogue<2.1.0,>=2.0.6 in /usr/local/lib/python3.7/dist-packages (from spacy<3.3.0,>=3.2.0->fr-core-news-sm==3.2.0) (2.0.6)\n",
            "Requirement already satisfied: preshed<3.1.0,>=3.0.2 in /usr/local/lib/python3.7/dist-packages (from spacy<3.3.0,>=3.2.0->fr-core-news-sm==3.2.0) (3.0.6)\n",
            "Requirement already satisfied: cymem<2.1.0,>=2.0.2 in /usr/local/lib/python3.7/dist-packages (from spacy<3.3.0,>=3.2.0->fr-core-news-sm==3.2.0) (2.0.6)\n",
            "Requirement already satisfied: requests<3.0.0,>=2.13.0 in /usr/local/lib/python3.7/dist-packages (from spacy<3.3.0,>=3.2.0->fr-core-news-sm==3.2.0) (2.23.0)\n",
            "Requirement already satisfied: packaging>=20.0 in /usr/local/lib/python3.7/dist-packages (from spacy<3.3.0,>=3.2.0->fr-core-news-sm==3.2.0) (21.3)\n",
            "Requirement already satisfied: pydantic!=1.8,!=1.8.1,<1.9.0,>=1.7.4 in /usr/local/lib/python3.7/dist-packages (from spacy<3.3.0,>=3.2.0->fr-core-news-sm==3.2.0) (1.8.2)\n",
            "Requirement already satisfied: srsly<3.0.0,>=2.4.1 in /usr/local/lib/python3.7/dist-packages (from spacy<3.3.0,>=3.2.0->fr-core-news-sm==3.2.0) (2.4.2)\n",
            "Requirement already satisfied: setuptools in /usr/local/lib/python3.7/dist-packages (from spacy<3.3.0,>=3.2.0->fr-core-news-sm==3.2.0) (57.4.0)\n",
            "Requirement already satisfied: langcodes<4.0.0,>=3.2.0 in /usr/local/lib/python3.7/dist-packages (from spacy<3.3.0,>=3.2.0->fr-core-news-sm==3.2.0) (3.3.0)\n",
            "Requirement already satisfied: wasabi<1.1.0,>=0.8.1 in /usr/local/lib/python3.7/dist-packages (from spacy<3.3.0,>=3.2.0->fr-core-news-sm==3.2.0) (0.8.2)\n",
            "Requirement already satisfied: pathy>=0.3.5 in /usr/local/lib/python3.7/dist-packages (from spacy<3.3.0,>=3.2.0->fr-core-news-sm==3.2.0) (0.6.1)\n",
            "Requirement already satisfied: numpy>=1.15.0 in /usr/local/lib/python3.7/dist-packages (from spacy<3.3.0,>=3.2.0->fr-core-news-sm==3.2.0) (1.19.5)\n",
            "Requirement already satisfied: tqdm<5.0.0,>=4.38.0 in /usr/local/lib/python3.7/dist-packages (from spacy<3.3.0,>=3.2.0->fr-core-news-sm==3.2.0) (4.62.3)\n",
            "Requirement already satisfied: murmurhash<1.1.0,>=0.28.0 in /usr/local/lib/python3.7/dist-packages (from spacy<3.3.0,>=3.2.0->fr-core-news-sm==3.2.0) (1.0.6)\n",
            "Requirement already satisfied: thinc<8.1.0,>=8.0.12 in /usr/local/lib/python3.7/dist-packages (from spacy<3.3.0,>=3.2.0->fr-core-news-sm==3.2.0) (8.0.13)\n",
            "Requirement already satisfied: spacy-loggers<2.0.0,>=1.0.0 in /usr/local/lib/python3.7/dist-packages (from spacy<3.3.0,>=3.2.0->fr-core-news-sm==3.2.0) (1.0.1)\n",
            "Requirement already satisfied: blis<0.8.0,>=0.4.0 in /usr/local/lib/python3.7/dist-packages (from spacy<3.3.0,>=3.2.0->fr-core-news-sm==3.2.0) (0.4.1)\n",
            "Requirement already satisfied: typing-extensions<4.0.0.0,>=3.7.4 in /usr/local/lib/python3.7/dist-packages (from spacy<3.3.0,>=3.2.0->fr-core-news-sm==3.2.0) (3.10.0.2)\n",
            "Requirement already satisfied: typer<0.5.0,>=0.3.0 in /usr/local/lib/python3.7/dist-packages (from spacy<3.3.0,>=3.2.0->fr-core-news-sm==3.2.0) (0.4.0)\n",
            "Requirement already satisfied: spacy-legacy<3.1.0,>=3.0.8 in /usr/local/lib/python3.7/dist-packages (from spacy<3.3.0,>=3.2.0->fr-core-news-sm==3.2.0) (3.0.8)\n",
            "Requirement already satisfied: jinja2 in /usr/local/lib/python3.7/dist-packages (from spacy<3.3.0,>=3.2.0->fr-core-news-sm==3.2.0) (2.11.3)\n",
            "Requirement already satisfied: zipp>=0.5 in /usr/local/lib/python3.7/dist-packages (from catalogue<2.1.0,>=2.0.6->spacy<3.3.0,>=3.2.0->fr-core-news-sm==3.2.0) (3.6.0)\n",
            "Requirement already satisfied: pyparsing!=3.0.5,>=2.0.2 in /usr/local/lib/python3.7/dist-packages (from packaging>=20.0->spacy<3.3.0,>=3.2.0->fr-core-news-sm==3.2.0) (3.0.6)\n",
            "Requirement already satisfied: smart-open<6.0.0,>=5.0.0 in /usr/local/lib/python3.7/dist-packages (from pathy>=0.3.5->spacy<3.3.0,>=3.2.0->fr-core-news-sm==3.2.0) (5.2.1)\n",
            "Requirement already satisfied: urllib3!=1.25.0,!=1.25.1,<1.26,>=1.21.1 in /usr/local/lib/python3.7/dist-packages (from requests<3.0.0,>=2.13.0->spacy<3.3.0,>=3.2.0->fr-core-news-sm==3.2.0) (1.24.3)\n",
            "Requirement already satisfied: certifi>=2017.4.17 in /usr/local/lib/python3.7/dist-packages (from requests<3.0.0,>=2.13.0->spacy<3.3.0,>=3.2.0->fr-core-news-sm==3.2.0) (2021.10.8)\n",
            "Requirement already satisfied: idna<3,>=2.5 in /usr/local/lib/python3.7/dist-packages (from requests<3.0.0,>=2.13.0->spacy<3.3.0,>=3.2.0->fr-core-news-sm==3.2.0) (2.10)\n",
            "Requirement already satisfied: chardet<4,>=3.0.2 in /usr/local/lib/python3.7/dist-packages (from requests<3.0.0,>=2.13.0->spacy<3.3.0,>=3.2.0->fr-core-news-sm==3.2.0) (3.0.4)\n",
            "Requirement already satisfied: click<9.0.0,>=7.1.1 in /usr/local/lib/python3.7/dist-packages (from typer<0.5.0,>=0.3.0->spacy<3.3.0,>=3.2.0->fr-core-news-sm==3.2.0) (7.1.2)\n",
            "Requirement already satisfied: MarkupSafe>=0.23 in /usr/local/lib/python3.7/dist-packages (from jinja2->spacy<3.3.0,>=3.2.0->fr-core-news-sm==3.2.0) (2.0.1)\n",
            "Installing collected packages: fr-core-news-sm\n",
            "Successfully installed fr-core-news-sm-3.2.0\n",
            "\u001b[38;5;2m✔ Download and installation successful\u001b[0m\n",
            "You can now load the package via spacy.load('fr_core_news_sm')\n"
          ]
        }
      ]
    },
    {
      "cell_type": "code",
      "metadata": {
        "id": "Sp-iRswNE44F"
      },
      "source": [
        "import pandas as pd\n",
        "import numpy as np\n",
        "import matplotlib.pyplot as plt\n",
        "import seaborn as sns\n",
        "import spacy\n",
        "import string\n",
        "import csv\n",
        "import time"
      ],
      "execution_count": 2,
      "outputs": []
    },
    {
      "cell_type": "code",
      "metadata": {
        "id": "leHXJLnvC3c2"
      },
      "source": [
        "#Classifier\n",
        "from sklearn.linear_model import LogisticRegression, LogisticRegressionCV\n",
        "from sklearn.ensemble import RandomForestClassifier\n",
        "from sklearn.neighbors import KNeighborsClassifier\n",
        "from sklearn.tree import DecisionTreeClassifier, plot_tree\n",
        "from sklearn.svm import LinearSVC\n",
        "\n",
        "#Other\n",
        "from sklearn.preprocessing import OrdinalEncoder, OneHotEncoder, LabelEncoder, StandardScaler\n",
        "from sklearn.decomposition import PCA\n",
        "from sklearn.model_selection import train_test_split, GridSearchCV, RandomizedSearchCV\n",
        "from sklearn.metrics import confusion_matrix, accuracy_score, precision_score, recall_score, f1_score\n",
        "from sklearn.feature_extraction.text import CountVectorizer, TfidfVectorizer\n",
        "from sklearn.pipeline import Pipeline\n",
        "from sklearn.utils.multiclass import unique_labels\n",
        "from spacy import displacy\n",
        "from spacy.lang.fr.stop_words import STOP_WORDS\n",
        "from spacy.lang.fr import French"
      ],
      "execution_count": 3,
      "outputs": []
    },
    {
      "cell_type": "markdown",
      "metadata": {
        "id": "XBpIhxQR7iuC"
      },
      "source": [
        "# 0.2 Further preparations to start with classification\n",
        "\n",
        "Set random_seed, Vectorizers without preprocessing and load the french language model\n",
        "\n"
      ]
    },
    {
      "cell_type": "code",
      "metadata": {
        "id": "pCDvQDBjHb2P"
      },
      "source": [
        "np.random.seed = 0"
      ],
      "execution_count": 4,
      "outputs": []
    },
    {
      "cell_type": "code",
      "metadata": {
        "id": "FS9S8XIjQUa1"
      },
      "source": [
        "#Set TF-IDF and Count Vectorizer without any more specifications\n",
        "tfidf_vector = TfidfVectorizer()\n",
        "#count_vector = CountVectorizer()\n",
        "\n",
        "#with preprocessing\n",
        "#tfidf_vector = TfidfVectorizer(tokenizer=spacy_tokenizer)\n"
      ],
      "execution_count": 5,
      "outputs": []
    },
    {
      "cell_type": "code",
      "metadata": {
        "id": "wzA0kkN1EKG2"
      },
      "source": [
        "#Load the french language model\n",
        "nlp = spacy.load('fr_core_news_sm')"
      ],
      "execution_count": 6,
      "outputs": []
    },
    {
      "cell_type": "code",
      "metadata": {
        "id": "jiLVW789Q1HU"
      },
      "source": [
        "#Import stop words from french language model and puncutations\n",
        "stop_words=spacy.lang.fr.stop_words.STOP_WORDS\n",
        "punctuations = string.punctuation"
      ],
      "execution_count": 7,
      "outputs": []
    },
    {
      "cell_type": "code",
      "metadata": {
        "id": "0efssDo2QJ-O"
      },
      "source": [
        "#Create a tokenizer function that can be used for preprocessing the data for classification - we try out different combinations of the sentence features\n",
        "\n",
        "def spacy_tokenizer(sentence):\n",
        "    # Create token object, which is used to create documents with linguistic annotations.\n",
        "    mytokens = nlp(sentence)\n",
        "\n",
        "    # Lemmatize each token and convert each token into lowercase\n",
        "    mytokens = [ word.lemma_.lower().strip() for word in mytokens ]\n",
        "\n",
        "    # Remove stop words \n",
        "    #mytokens = [ word for word in mytokens if word not in stop_words]\n",
        "\n",
        "    # Remove punctuation\n",
        "    #mytokens = [ word for word in mytokens if word not in punctuations ]\n",
        "\n",
        "    # Remove anonymous dates and people\n",
        "    mytokens = [ word.replace('xx/', '').replace('xxxx/', '').replace('xx', '') for word in mytokens ]\n",
        "    mytokens = [ word for word in mytokens if word not in [\"xxxx\", \"xx\", \"\"]]\n",
        "\n",
        "    # Return preprocessed list of tokens\n",
        "    return mytokens"
      ],
      "execution_count": 8,
      "outputs": []
    },
    {
      "cell_type": "markdown",
      "source": [
        "We found that stopword removal did not lead to better results. This is well possible because by removing frequent and rather simple words you might remove the majority of words that appear in sentences of A1/A2 difficulty. Without those words it will be difficult to differentiate between sentences that are more sophisticated and those that only stay at a very basic level. "
      ],
      "metadata": {
        "id": "4w06MqoqeCRL"
      }
    },
    {
      "cell_type": "code",
      "source": [
        "#Function for model evaluation\n",
        "def evaluate(true, pred):\n",
        "    precision = precision_score(true, pred, average= 'macro')\n",
        "    recall = recall_score(true, pred, average = 'macro')\n",
        "    f1 = f1_score(true, pred, average = 'macro')\n",
        "    print(f\"ACCURACY SCORE:\\n{accuracy_score(true, pred):.4f}\")\n",
        "    print(f\"CLASSIFICATION REPORT:\\n\\tPrecision: {precision:.4f}\\n\\tRecall: {recall:.4f}\\n\\tF1_Score: {f1:.4f}\")\n",
        "\n",
        "\n",
        " # Confusion Matrix\n",
        "\n",
        " # Evaluate model\n",
        "def accuracy_conf_mat(y_test, y_pred):\n",
        "  print(round(accuracy_score(y_test, y_pred), 4))\n",
        "  labels = list(unique_labels(y_test, y_pred))\n",
        "  conf_mat = confusion_matrix(y_test, y_pred, labels = labels)\n",
        "  fig, ax = plt.subplots(figsize=(10,10))\n",
        "  plt.title('Confusion matrix of the classifier')\n",
        "  sns.heatmap(conf_mat, annot=True, fmt='d', xticklabels = labels, yticklabels = labels)\n",
        "  plt.ylabel('Actual')\n",
        "  plt.xlabel('Predicted')\n",
        "  plt.show()\n",
        "\n",
        "\n",
        "\n",
        " "
      ],
      "metadata": {
        "id": "jjRObxuTZwsB"
      },
      "execution_count": 9,
      "outputs": []
    },
    {
      "cell_type": "markdown",
      "source": [
        "<h1>  Getting started - text analytics per classifier"
      ],
      "metadata": {
        "id": "5HYObhzWi8Xa"
      }
    },
    {
      "cell_type": "markdown",
      "metadata": {
        "id": "DbxvE-3a4b55"
      },
      "source": [
        "\n",
        "# 1. Baseline\n",
        "\n",
        "First, we start by calculating the baseline."
      ]
    },
    {
      "cell_type": "code",
      "metadata": {
        "id": "d4vHFy3fGozP",
        "colab": {
          "base_uri": "https://localhost:8080/"
        },
        "outputId": "0a38af97-1380-41dd-f1df-500d0feda4d2"
      },
      "source": [
        "data=pd.read_csv('https://raw.githubusercontent.com/chadi-aebi/DMML2021_Rolex/main/data/training_data.csv', index_col='id')\n",
        "X = data['sentence']\n",
        "ylabels = data['difficulty']\n",
        "print(ylabels.value_counts(normalize=True))"
      ],
      "execution_count": 10,
      "outputs": [
        {
          "output_type": "stream",
          "name": "stdout",
          "text": [
            "A1    0.169375\n",
            "C2    0.168125\n",
            "C1    0.166250\n",
            "B1    0.165625\n",
            "A2    0.165625\n",
            "B2    0.165000\n",
            "Name: difficulty, dtype: float64\n"
          ]
        }
      ]
    },
    {
      "cell_type": "code",
      "source": [
        "baseline = ylabels.value_counts(normalize = True).max()\n",
        "baseline"
      ],
      "metadata": {
        "id": "72ZblPn4OfEA",
        "colab": {
          "base_uri": "https://localhost:8080/"
        },
        "outputId": "27098bee-bd9a-4653-df78-6fc7e902c547"
      },
      "execution_count": 11,
      "outputs": [
        {
          "output_type": "execute_result",
          "data": {
            "text/plain": [
              "0.169375"
            ]
          },
          "metadata": {},
          "execution_count": 11
        }
      ]
    },
    {
      "cell_type": "markdown",
      "source": [
        "# 2. Logistic Regression\n",
        "<h2> 2.1 Logistic Regression without any data cleaning or tuning"
      ],
      "metadata": {
        "id": "7drQ-3Uzo2XT"
      }
    },
    {
      "cell_type": "markdown",
      "source": [
        "We load the data..."
      ],
      "metadata": {
        "id": "pgAcP-acZ_cL"
      }
    },
    {
      "cell_type": "code",
      "metadata": {
        "id": "0ZA9m_yvB_vQ",
        "colab": {
          "base_uri": "https://localhost:8080/"
        },
        "outputId": "0ec58255-3f91-4a7a-e6d9-5caabfa8f6c9"
      },
      "source": [
        "lr_data=pd.read_csv('https://raw.githubusercontent.com/chadi-aebi/DMML2021_Rolex/main/data/training_data.csv', index_col='id')\n",
        "lr_test_df = pd.read_csv('https://raw.githubusercontent.com/chadi-aebi/DMML2021_Rolex/main/data/unlabelled_test_data.csv', index_col='id')\n",
        "lr_data.shape"
      ],
      "execution_count": 12,
      "outputs": [
        {
          "output_type": "execute_result",
          "data": {
            "text/plain": [
              "(4800, 2)"
            ]
          },
          "metadata": {},
          "execution_count": 12
        }
      ]
    },
    {
      "cell_type": "code",
      "source": [
        "lr_data.head()"
      ],
      "metadata": {
        "id": "2PmZ981bYkxe",
        "colab": {
          "base_uri": "https://localhost:8080/",
          "height": 238
        },
        "outputId": "4e4b92bc-9d34-4c89-d620-f99a4e24ca06"
      },
      "execution_count": 13,
      "outputs": [
        {
          "output_type": "execute_result",
          "data": {
            "text/html": [
              "\n",
              "  <div id=\"df-140ab816-055f-434c-befa-88bbff9cd83a\">\n",
              "    <div class=\"colab-df-container\">\n",
              "      <div>\n",
              "<style scoped>\n",
              "    .dataframe tbody tr th:only-of-type {\n",
              "        vertical-align: middle;\n",
              "    }\n",
              "\n",
              "    .dataframe tbody tr th {\n",
              "        vertical-align: top;\n",
              "    }\n",
              "\n",
              "    .dataframe thead th {\n",
              "        text-align: right;\n",
              "    }\n",
              "</style>\n",
              "<table border=\"1\" class=\"dataframe\">\n",
              "  <thead>\n",
              "    <tr style=\"text-align: right;\">\n",
              "      <th></th>\n",
              "      <th>sentence</th>\n",
              "      <th>difficulty</th>\n",
              "    </tr>\n",
              "    <tr>\n",
              "      <th>id</th>\n",
              "      <th></th>\n",
              "      <th></th>\n",
              "    </tr>\n",
              "  </thead>\n",
              "  <tbody>\n",
              "    <tr>\n",
              "      <th>0</th>\n",
              "      <td>Les coûts kilométriques réels peuvent diverger...</td>\n",
              "      <td>C1</td>\n",
              "    </tr>\n",
              "    <tr>\n",
              "      <th>1</th>\n",
              "      <td>Le bleu, c'est ma couleur préférée mais je n'a...</td>\n",
              "      <td>A1</td>\n",
              "    </tr>\n",
              "    <tr>\n",
              "      <th>2</th>\n",
              "      <td>Le test de niveau en français est sur le site ...</td>\n",
              "      <td>A1</td>\n",
              "    </tr>\n",
              "    <tr>\n",
              "      <th>3</th>\n",
              "      <td>Est-ce que ton mari est aussi de Boston?</td>\n",
              "      <td>A1</td>\n",
              "    </tr>\n",
              "    <tr>\n",
              "      <th>4</th>\n",
              "      <td>Dans les écoles de commerce, dans les couloirs...</td>\n",
              "      <td>B1</td>\n",
              "    </tr>\n",
              "  </tbody>\n",
              "</table>\n",
              "</div>\n",
              "      <button class=\"colab-df-convert\" onclick=\"convertToInteractive('df-140ab816-055f-434c-befa-88bbff9cd83a')\"\n",
              "              title=\"Convert this dataframe to an interactive table.\"\n",
              "              style=\"display:none;\">\n",
              "        \n",
              "  <svg xmlns=\"http://www.w3.org/2000/svg\" height=\"24px\"viewBox=\"0 0 24 24\"\n",
              "       width=\"24px\">\n",
              "    <path d=\"M0 0h24v24H0V0z\" fill=\"none\"/>\n",
              "    <path d=\"M18.56 5.44l.94 2.06.94-2.06 2.06-.94-2.06-.94-.94-2.06-.94 2.06-2.06.94zm-11 1L8.5 8.5l.94-2.06 2.06-.94-2.06-.94L8.5 2.5l-.94 2.06-2.06.94zm10 10l.94 2.06.94-2.06 2.06-.94-2.06-.94-.94-2.06-.94 2.06-2.06.94z\"/><path d=\"M17.41 7.96l-1.37-1.37c-.4-.4-.92-.59-1.43-.59-.52 0-1.04.2-1.43.59L10.3 9.45l-7.72 7.72c-.78.78-.78 2.05 0 2.83L4 21.41c.39.39.9.59 1.41.59.51 0 1.02-.2 1.41-.59l7.78-7.78 2.81-2.81c.8-.78.8-2.07 0-2.86zM5.41 20L4 18.59l7.72-7.72 1.47 1.35L5.41 20z\"/>\n",
              "  </svg>\n",
              "      </button>\n",
              "      \n",
              "  <style>\n",
              "    .colab-df-container {\n",
              "      display:flex;\n",
              "      flex-wrap:wrap;\n",
              "      gap: 12px;\n",
              "    }\n",
              "\n",
              "    .colab-df-convert {\n",
              "      background-color: #E8F0FE;\n",
              "      border: none;\n",
              "      border-radius: 50%;\n",
              "      cursor: pointer;\n",
              "      display: none;\n",
              "      fill: #1967D2;\n",
              "      height: 32px;\n",
              "      padding: 0 0 0 0;\n",
              "      width: 32px;\n",
              "    }\n",
              "\n",
              "    .colab-df-convert:hover {\n",
              "      background-color: #E2EBFA;\n",
              "      box-shadow: 0px 1px 2px rgba(60, 64, 67, 0.3), 0px 1px 3px 1px rgba(60, 64, 67, 0.15);\n",
              "      fill: #174EA6;\n",
              "    }\n",
              "\n",
              "    [theme=dark] .colab-df-convert {\n",
              "      background-color: #3B4455;\n",
              "      fill: #D2E3FC;\n",
              "    }\n",
              "\n",
              "    [theme=dark] .colab-df-convert:hover {\n",
              "      background-color: #434B5C;\n",
              "      box-shadow: 0px 1px 3px 1px rgba(0, 0, 0, 0.15);\n",
              "      filter: drop-shadow(0px 1px 2px rgba(0, 0, 0, 0.3));\n",
              "      fill: #FFFFFF;\n",
              "    }\n",
              "  </style>\n",
              "\n",
              "      <script>\n",
              "        const buttonEl =\n",
              "          document.querySelector('#df-140ab816-055f-434c-befa-88bbff9cd83a button.colab-df-convert');\n",
              "        buttonEl.style.display =\n",
              "          google.colab.kernel.accessAllowed ? 'block' : 'none';\n",
              "\n",
              "        async function convertToInteractive(key) {\n",
              "          const element = document.querySelector('#df-140ab816-055f-434c-befa-88bbff9cd83a');\n",
              "          const dataTable =\n",
              "            await google.colab.kernel.invokeFunction('convertToInteractive',\n",
              "                                                     [key], {});\n",
              "          if (!dataTable) return;\n",
              "\n",
              "          const docLinkHtml = 'Like what you see? Visit the ' +\n",
              "            '<a target=\"_blank\" href=https://colab.research.google.com/notebooks/data_table.ipynb>data table notebook</a>'\n",
              "            + ' to learn more about interactive tables.';\n",
              "          element.innerHTML = '';\n",
              "          dataTable['output_type'] = 'display_data';\n",
              "          await google.colab.output.renderOutput(dataTable, element);\n",
              "          const docLink = document.createElement('div');\n",
              "          docLink.innerHTML = docLinkHtml;\n",
              "          element.appendChild(docLink);\n",
              "        }\n",
              "      </script>\n",
              "    </div>\n",
              "  </div>\n",
              "  "
            ],
            "text/plain": [
              "                                             sentence difficulty\n",
              "id                                                              \n",
              "0   Les coûts kilométriques réels peuvent diverger...         C1\n",
              "1   Le bleu, c'est ma couleur préférée mais je n'a...         A1\n",
              "2   Le test de niveau en français est sur le site ...         A1\n",
              "3            Est-ce que ton mari est aussi de Boston?         A1\n",
              "4   Dans les écoles de commerce, dans les couloirs...         B1"
            ]
          },
          "metadata": {},
          "execution_count": 13
        }
      ]
    },
    {
      "cell_type": "markdown",
      "source": [
        "..., select the features and train-test-split the data."
      ],
      "metadata": {
        "id": "LbLLdT9RaC75"
      }
    },
    {
      "cell_type": "code",
      "metadata": {
        "id": "3tILch0iP2cj"
      },
      "source": [
        "X_lr = lr_data['sentence']\n",
        "ylabels_lr = lr_data['difficulty']\n",
        "\n",
        "X_train_lr, X_test_lr, y_train_lr, y_test_lr = train_test_split(X_lr, ylabels_lr, test_size=0.2, random_state=0, stratify=ylabels_lr)"
      ],
      "execution_count": 14,
      "outputs": []
    },
    {
      "cell_type": "markdown",
      "source": [
        "Then we define the classifier with its default settings..."
      ],
      "metadata": {
        "id": "fYfcwLCpam1c"
      }
    },
    {
      "cell_type": "code",
      "source": [
        "# Define classifier\n",
        "lreg = LogisticRegression()"
      ],
      "metadata": {
        "id": "miLu_FfflSgQ"
      },
      "execution_count": 15,
      "outputs": []
    },
    {
      "cell_type": "markdown",
      "source": [
        "... and create the pipeline with the Classifier and the TF-IDF vectorizer without tokenization. Then we fit the model to our training data..."
      ],
      "metadata": {
        "id": "phD9QiDYan4-"
      }
    },
    {
      "cell_type": "code",
      "metadata": {
        "id": "Jf3Pp3f9P-Ue",
        "colab": {
          "base_uri": "https://localhost:8080/"
        },
        "outputId": "1f1b5869-0a2a-4d6e-9df2-1fddddbf71e9"
      },
      "source": [
        "# Create pipeline\n",
        "pipe = Pipeline([('vectorizer', tfidf_vector),\n",
        "                 ('classifier', lreg)])\n",
        "\n",
        "# Fit model on training set\n",
        "pipe.fit(X_train_lr, y_train_lr)"
      ],
      "execution_count": 16,
      "outputs": [
        {
          "output_type": "execute_result",
          "data": {
            "text/plain": [
              "Pipeline(steps=[('vectorizer', TfidfVectorizer()),\n",
              "                ('classifier', LogisticRegression())])"
            ]
          },
          "metadata": {},
          "execution_count": 16
        }
      ]
    },
    {
      "cell_type": "markdown",
      "source": [
        "... and make predicitions with this test data."
      ],
      "metadata": {
        "id": "td6YESpUa3_Z"
      }
    },
    {
      "cell_type": "code",
      "metadata": {
        "id": "ggeYhJXwRtFU",
        "colab": {
          "base_uri": "https://localhost:8080/"
        },
        "outputId": "fddaa51d-41f8-4b25-fac6-fb5c8b9c8df3"
      },
      "source": [
        "# Predictions\n",
        "y_pred_lr = pipe.predict(X_test_lr)\n",
        "\n",
        "acc_lr_0 = accuracy_score(y_test_lr,y_pred_lr)\n",
        "evaluate(y_test_lr, y_pred_lr)\n"
      ],
      "execution_count": 17,
      "outputs": [
        {
          "output_type": "stream",
          "name": "stdout",
          "text": [
            "ACCURACY SCORE:\n",
            "0.4604\n",
            "CLASSIFICATION REPORT:\n",
            "\tPrecision: 0.4578\n",
            "\tRecall: 0.4595\n",
            "\tF1_Score: 0.4554\n"
          ]
        }
      ]
    },
    {
      "cell_type": "code",
      "source": [
        "accuracy_conf_mat(y_test_lr, y_pred_lr)\n"
      ],
      "metadata": {
        "id": "rlVXaCHqS8PQ",
        "colab": {
          "base_uri": "https://localhost:8080/",
          "height": 639
        },
        "outputId": "925b4c0c-4df3-4665-c200-00b7f6deb7c9"
      },
      "execution_count": 18,
      "outputs": [
        {
          "output_type": "stream",
          "name": "stdout",
          "text": [
            "0.4604\n"
          ]
        },
        {
          "output_type": "display_data",
          "data": {
            "image/png": "[encoded data removed]",
            "text/plain": [
              "<Figure size 720x720 with 2 Axes>"
            ]
          },
          "metadata": {
            "needs_background": "light"
          }
        }
      ]
    },
    {
      "cell_type": "markdown",
      "source": [
        "This was a first model without any other features. Let's have a look at some wrong predictions to find some hints what could be improved."
      ],
      "metadata": {
        "id": "nEgUC_jQrMJ9"
      }
    },
    {
      "cell_type": "code",
      "source": [
        "df = pd.DataFrame(X_test_lr, columns=[\"sentence\"])\n",
        "df[\"actual\"] = y_test_lr\n",
        "df[\"predicted\"] = y_pred_lr\n",
        "\n",
        "incorrect = df[df[\"actual\"] != df[\"predicted\"]]\n",
        "incorrect.head(20)"
      ],
      "metadata": {
        "id": "NrpKDcxtrVLg",
        "colab": {
          "base_uri": "https://localhost:8080/",
          "height": 708
        },
        "outputId": "94c80851-303a-43c1-b6fa-7d3ec9a8eacd"
      },
      "execution_count": 19,
      "outputs": [
        {
          "output_type": "execute_result",
          "data": {
            "text/html": [
              "\n",
              "  <div id=\"df-1ab82504-bac5-452a-9307-edad613494c4\">\n",
              "    <div class=\"colab-df-container\">\n",
              "      <div>\n",
              "<style scoped>\n",
              "    .dataframe tbody tr th:only-of-type {\n",
              "        vertical-align: middle;\n",
              "    }\n",
              "\n",
              "    .dataframe tbody tr th {\n",
              "        vertical-align: top;\n",
              "    }\n",
              "\n",
              "    .dataframe thead th {\n",
              "        text-align: right;\n",
              "    }\n",
              "</style>\n",
              "<table border=\"1\" class=\"dataframe\">\n",
              "  <thead>\n",
              "    <tr style=\"text-align: right;\">\n",
              "      <th></th>\n",
              "      <th>sentence</th>\n",
              "      <th>actual</th>\n",
              "      <th>predicted</th>\n",
              "    </tr>\n",
              "    <tr>\n",
              "      <th>id</th>\n",
              "      <th></th>\n",
              "      <th></th>\n",
              "      <th></th>\n",
              "    </tr>\n",
              "  </thead>\n",
              "  <tbody>\n",
              "    <tr>\n",
              "      <th>2003</th>\n",
              "      <td>Il est également connu pour ses publicités tél...</td>\n",
              "      <td>C1</td>\n",
              "      <td>B2</td>\n",
              "    </tr>\n",
              "    <tr>\n",
              "      <th>2585</th>\n",
              "      <td>Edgar, étincelant de furie, dominait tous les ...</td>\n",
              "      <td>C1</td>\n",
              "      <td>B2</td>\n",
              "    </tr>\n",
              "    <tr>\n",
              "      <th>2302</th>\n",
              "      <td>Ils sont heureux.</td>\n",
              "      <td>A1</td>\n",
              "      <td>B2</td>\n",
              "    </tr>\n",
              "    <tr>\n",
              "      <th>2958</th>\n",
              "      <td>Les canons renversèrent d'abord à peu près six...</td>\n",
              "      <td>C1</td>\n",
              "      <td>B2</td>\n",
              "    </tr>\n",
              "    <tr>\n",
              "      <th>3862</th>\n",
              "      <td>Parce que la philosophie se trouve de plus en ...</td>\n",
              "      <td>C1</td>\n",
              "      <td>C2</td>\n",
              "    </tr>\n",
              "    <tr>\n",
              "      <th>2429</th>\n",
              "      <td>Le gouvernement veut lutter contre la fraude d...</td>\n",
              "      <td>C2</td>\n",
              "      <td>C1</td>\n",
              "    </tr>\n",
              "    <tr>\n",
              "      <th>4230</th>\n",
              "      <td>Près de la pagode Sule, dans le centre de Rang...</td>\n",
              "      <td>C1</td>\n",
              "      <td>C2</td>\n",
              "    </tr>\n",
              "    <tr>\n",
              "      <th>4347</th>\n",
              "      <td>Voilà qui serait en effet de nature à simplifi...</td>\n",
              "      <td>B2</td>\n",
              "      <td>C2</td>\n",
              "    </tr>\n",
              "    <tr>\n",
              "      <th>3909</th>\n",
              "      <td>Les articulations sont en haut la hanche, au m...</td>\n",
              "      <td>B1</td>\n",
              "      <td>C1</td>\n",
              "    </tr>\n",
              "    <tr>\n",
              "      <th>1148</th>\n",
              "      <td>Dans le sac, il y a un téléphone, des clés, un...</td>\n",
              "      <td>A1</td>\n",
              "      <td>B1</td>\n",
              "    </tr>\n",
              "    <tr>\n",
              "      <th>1035</th>\n",
              "      <td>Les rythmes de vie, les coutumes vestimentaire...</td>\n",
              "      <td>C1</td>\n",
              "      <td>B2</td>\n",
              "    </tr>\n",
              "    <tr>\n",
              "      <th>3266</th>\n",
              "      <td>J'ai postulé le mois dernier mais ma candidatu...</td>\n",
              "      <td>B1</td>\n",
              "      <td>A2</td>\n",
              "    </tr>\n",
              "    <tr>\n",
              "      <th>2532</th>\n",
              "      <td>On eût dit qu'en faisant remarquer leurs ridic...</td>\n",
              "      <td>C2</td>\n",
              "      <td>B1</td>\n",
              "    </tr>\n",
              "    <tr>\n",
              "      <th>4384</th>\n",
              "      <td>Pourquoi le gouvernement a-t-il décidé une ext...</td>\n",
              "      <td>B2</td>\n",
              "      <td>A2</td>\n",
              "    </tr>\n",
              "    <tr>\n",
              "      <th>2300</th>\n",
              "      <td>L'Auberge du Presbytère nous attendait, chambr...</td>\n",
              "      <td>C2</td>\n",
              "      <td>C1</td>\n",
              "    </tr>\n",
              "    <tr>\n",
              "      <th>2381</th>\n",
              "      <td>Avec l'argent, notre professeur va acheter de ...</td>\n",
              "      <td>A2</td>\n",
              "      <td>C1</td>\n",
              "    </tr>\n",
              "    <tr>\n",
              "      <th>3156</th>\n",
              "      <td>Les maisons neuves, crépies de frais, étaient ...</td>\n",
              "      <td>C1</td>\n",
              "      <td>B2</td>\n",
              "    </tr>\n",
              "    <tr>\n",
              "      <th>3601</th>\n",
              "      <td>Au-delà de la pression réglementaire, les entr...</td>\n",
              "      <td>B2</td>\n",
              "      <td>C2</td>\n",
              "    </tr>\n",
              "    <tr>\n",
              "      <th>3515</th>\n",
              "      <td>Des start-up développent des solutions sur le ...</td>\n",
              "      <td>C1</td>\n",
              "      <td>C2</td>\n",
              "    </tr>\n",
              "    <tr>\n",
              "      <th>2914</th>\n",
              "      <td>Elle les renvoie à leur cinquantaine, dont ils...</td>\n",
              "      <td>C1</td>\n",
              "      <td>B1</td>\n",
              "    </tr>\n",
              "  </tbody>\n",
              "</table>\n",
              "</div>\n",
              "      <button class=\"colab-df-convert\" onclick=\"convertToInteractive('df-1ab82504-bac5-452a-9307-edad613494c4')\"\n",
              "              title=\"Convert this dataframe to an interactive table.\"\n",
              "              style=\"display:none;\">\n",
              "        \n",
              "  <svg xmlns=\"http://www.w3.org/2000/svg\" height=\"24px\"viewBox=\"0 0 24 24\"\n",
              "       width=\"24px\">\n",
              "    <path d=\"M0 0h24v24H0V0z\" fill=\"none\"/>\n",
              "    <path d=\"M18.56 5.44l.94 2.06.94-2.06 2.06-.94-2.06-.94-.94-2.06-.94 2.06-2.06.94zm-11 1L8.5 8.5l.94-2.06 2.06-.94-2.06-.94L8.5 2.5l-.94 2.06-2.06.94zm10 10l.94 2.06.94-2.06 2.06-.94-2.06-.94-.94-2.06-.94 2.06-2.06.94z\"/><path d=\"M17.41 7.96l-1.37-1.37c-.4-.4-.92-.59-1.43-.59-.52 0-1.04.2-1.43.59L10.3 9.45l-7.72 7.72c-.78.78-.78 2.05 0 2.83L4 21.41c.39.39.9.59 1.41.59.51 0 1.02-.2 1.41-.59l7.78-7.78 2.81-2.81c.8-.78.8-2.07 0-2.86zM5.41 20L4 18.59l7.72-7.72 1.47 1.35L5.41 20z\"/>\n",
              "  </svg>\n",
              "      </button>\n",
              "      \n",
              "  <style>\n",
              "    .colab-df-container {\n",
              "      display:flex;\n",
              "      flex-wrap:wrap;\n",
              "      gap: 12px;\n",
              "    }\n",
              "\n",
              "    .colab-df-convert {\n",
              "      background-color: #E8F0FE;\n",
              "      border: none;\n",
              "      border-radius: 50%;\n",
              "      cursor: pointer;\n",
              "      display: none;\n",
              "      fill: #1967D2;\n",
              "      height: 32px;\n",
              "      padding: 0 0 0 0;\n",
              "      width: 32px;\n",
              "    }\n",
              "\n",
              "    .colab-df-convert:hover {\n",
              "      background-color: #E2EBFA;\n",
              "      box-shadow: 0px 1px 2px rgba(60, 64, 67, 0.3), 0px 1px 3px 1px rgba(60, 64, 67, 0.15);\n",
              "      fill: #174EA6;\n",
              "    }\n",
              "\n",
              "    [theme=dark] .colab-df-convert {\n",
              "      background-color: #3B4455;\n",
              "      fill: #D2E3FC;\n",
              "    }\n",
              "\n",
              "    [theme=dark] .colab-df-convert:hover {\n",
              "      background-color: #434B5C;\n",
              "      box-shadow: 0px 1px 3px 1px rgba(0, 0, 0, 0.15);\n",
              "      filter: drop-shadow(0px 1px 2px rgba(0, 0, 0, 0.3));\n",
              "      fill: #FFFFFF;\n",
              "    }\n",
              "  </style>\n",
              "\n",
              "      <script>\n",
              "        const buttonEl =\n",
              "          document.querySelector('#df-1ab82504-bac5-452a-9307-edad613494c4 button.colab-df-convert');\n",
              "        buttonEl.style.display =\n",
              "          google.colab.kernel.accessAllowed ? 'block' : 'none';\n",
              "\n",
              "        async function convertToInteractive(key) {\n",
              "          const element = document.querySelector('#df-1ab82504-bac5-452a-9307-edad613494c4');\n",
              "          const dataTable =\n",
              "            await google.colab.kernel.invokeFunction('convertToInteractive',\n",
              "                                                     [key], {});\n",
              "          if (!dataTable) return;\n",
              "\n",
              "          const docLinkHtml = 'Like what you see? Visit the ' +\n",
              "            '<a target=\"_blank\" href=https://colab.research.google.com/notebooks/data_table.ipynb>data table notebook</a>'\n",
              "            + ' to learn more about interactive tables.';\n",
              "          element.innerHTML = '';\n",
              "          dataTable['output_type'] = 'display_data';\n",
              "          await google.colab.output.renderOutput(dataTable, element);\n",
              "          const docLink = document.createElement('div');\n",
              "          docLink.innerHTML = docLinkHtml;\n",
              "          element.appendChild(docLink);\n",
              "        }\n",
              "      </script>\n",
              "    </div>\n",
              "  </div>\n",
              "  "
            ],
            "text/plain": [
              "                                               sentence actual predicted\n",
              "id                                                                      \n",
              "2003  Il est également connu pour ses publicités tél...     C1        B2\n",
              "2585  Edgar, étincelant de furie, dominait tous les ...     C1        B2\n",
              "2302                                  Ils sont heureux.     A1        B2\n",
              "2958  Les canons renversèrent d'abord à peu près six...     C1        B2\n",
              "3862  Parce que la philosophie se trouve de plus en ...     C1        C2\n",
              "2429  Le gouvernement veut lutter contre la fraude d...     C2        C1\n",
              "4230  Près de la pagode Sule, dans le centre de Rang...     C1        C2\n",
              "4347  Voilà qui serait en effet de nature à simplifi...     B2        C2\n",
              "3909  Les articulations sont en haut la hanche, au m...     B1        C1\n",
              "1148  Dans le sac, il y a un téléphone, des clés, un...     A1        B1\n",
              "1035  Les rythmes de vie, les coutumes vestimentaire...     C1        B2\n",
              "3266  J'ai postulé le mois dernier mais ma candidatu...     B1        A2\n",
              "2532  On eût dit qu'en faisant remarquer leurs ridic...     C2        B1\n",
              "4384  Pourquoi le gouvernement a-t-il décidé une ext...     B2        A2\n",
              "2300  L'Auberge du Presbytère nous attendait, chambr...     C2        C1\n",
              "2381  Avec l'argent, notre professeur va acheter de ...     A2        C1\n",
              "3156  Les maisons neuves, crépies de frais, étaient ...     C1        B2\n",
              "3601  Au-delà de la pression réglementaire, les entr...     B2        C2\n",
              "3515  Des start-up développent des solutions sur le ...     C1        C2\n",
              "2914  Elle les renvoie à leur cinquantaine, dont ils...     C1        B1"
            ]
          },
          "metadata": {},
          "execution_count": 19
        }
      ]
    },
    {
      "cell_type": "code",
      "source": [
        "#submission_test_lr = pd.DataFrame(y_pred_lr, columns=['difficulty'])\n",
        "#submission_test_lr"
      ],
      "metadata": {
        "id": "nG_lAVrfgCLc"
      },
      "execution_count": 20,
      "outputs": []
    },
    {
      "cell_type": "code",
      "source": [
        "#submission_test_lr.to_csv('submission_21-12-12.csv')"
      ],
      "metadata": {
        "id": "aXqVq5PWgHqd"
      },
      "execution_count": 21,
      "outputs": []
    },
    {
      "cell_type": "markdown",
      "source": [
        "<h2> 2.2 Logistic Regression with hyperparameters tuning"
      ],
      "metadata": {
        "id": "mXbzubYRpAFR"
      }
    },
    {
      "cell_type": "markdown",
      "source": [
        "In this section we searched for the best hyperparameters to improve our classifiers."
      ],
      "metadata": {
        "id": "Hheo85zWbAEE"
      }
    },
    {
      "cell_type": "code",
      "source": [
        "# Define parameters to test\n",
        "\n",
        "#grid_lr = {\n",
        "#    'C': [1e-5, 1e-4, 1e-3, 1e-2, 1e-1, 1, 10, 100],\n",
        "#    'penalty': ['none', 'l1', 'l2', 'elasticnet'],\n",
        "#    #'max_iter': list(range(100,800,100)),\n",
        "#    'solver': ['newton-cg', 'lbfgs', 'liblinear', 'sag', 'saga']\n",
        "#}\n",
        "\n",
        "# Define and fit model\n",
        "\n",
        "#lreg = LogisticRegression()\n",
        "#lreg_cv = GridSearchCV(lreg, grid_lr, cv=10)\n",
        "#pipe = Pipeline([('vectorizer', tfidf_vector),\n",
        " #                ('classifier', lreg_cv)])\n",
        "\n",
        "#pipe.fit(X_train_lr, y_train_lr)\n",
        "\n",
        "# Print results\n",
        "\n",
        "#print(\"Hyperparameters:\", lreg_cv.best_params_)\n",
        "#y_pred_lr = pipe.predict(X_test_lr)\n",
        "#evaluate(y_test_lr, y_pred_lr)"
      ],
      "metadata": {
        "id": "weEZ4nUcAb2E"
      },
      "execution_count": 22,
      "outputs": []
    },
    {
      "cell_type": "markdown",
      "source": [
        "We saved the hyperparameters and use them for the following predictions."
      ],
      "metadata": {
        "id": "3vvShqFYbGvN"
      }
    },
    {
      "cell_type": "code",
      "source": [
        "#safe best parameters\n",
        "#Hyperparameters= {'C': 10, 'penalty': 'l2', 'solver': 'liblinear'}"
      ],
      "metadata": {
        "id": "n5qjNnn_OJYT"
      },
      "execution_count": 23,
      "outputs": []
    },
    {
      "cell_type": "markdown",
      "source": [
        "<h2> 2.3 Logistic Regression with further methods "
      ],
      "metadata": {
        "id": "h5W6Q_50pLnr"
      }
    },
    {
      "cell_type": "markdown",
      "source": [
        "<h3> 2.3.1 Preprocessing"
      ],
      "metadata": {
        "id": "F6Pcp8IkfdPg"
      }
    },
    {
      "cell_type": "markdown",
      "source": [
        "In this section we extended the TF-IDF Vectorizer with the tokenizer we set at the beginning. By commenting some lines of the tokenizer we could try different settings and in the end keep the best combination."
      ],
      "metadata": {
        "id": "soqoTxPIcN3J"
      }
    },
    {
      "cell_type": "code",
      "source": [
        "tfidf_vec_lr = TfidfVectorizer(tokenizer=spacy_tokenizer)"
      ],
      "metadata": {
        "id": "nN32JGDmNeOj"
      },
      "execution_count": 24,
      "outputs": []
    },
    {
      "cell_type": "code",
      "source": [
        "# Define classifier with best hyperparameters\n",
        "lreg = LogisticRegression(C=10, penalty = 'l2', solver = 'liblinear')"
      ],
      "metadata": {
        "id": "-1Daf_BsYVlM"
      },
      "execution_count": 25,
      "outputs": []
    },
    {
      "cell_type": "code",
      "source": [
        "# Create pipeline\n",
        "pipe = Pipeline([('vectorizer', tfidf_vec_lr),\n",
        "                 ('classifier', lreg)])\n",
        "\n",
        "# Fit model on training set\n",
        "pipe.fit(X_train_lr, y_train_lr)"
      ],
      "metadata": {
        "id": "dU4aRGsfNkMx",
        "colab": {
          "base_uri": "https://localhost:8080/"
        },
        "outputId": "38dbf263-dece-4ea4-af18-3173af913c13"
      },
      "execution_count": 26,
      "outputs": [
        {
          "output_type": "execute_result",
          "data": {
            "text/plain": [
              "Pipeline(steps=[('vectorizer',\n",
              "                 TfidfVectorizer(tokenizer=<function spacy_tokenizer at 0x7f372ff47050>)),\n",
              "                ('classifier', LogisticRegression(C=10, solver='liblinear'))])"
            ]
          },
          "metadata": {},
          "execution_count": 26
        }
      ]
    },
    {
      "cell_type": "code",
      "source": [
        "# Predictions\n",
        "y_pred_lr = pipe.predict(X_test_lr)\n",
        "\n",
        "#accuracy_score(y_test_lr,y_pred_lr)\n",
        "evaluate(y_test_lr, y_pred_lr)\n"
      ],
      "metadata": {
        "id": "Ccjxp0RgNn4t",
        "colab": {
          "base_uri": "https://localhost:8080/"
        },
        "outputId": "47eb8c06-01cc-4dd6-95ce-0c02df325475"
      },
      "execution_count": 27,
      "outputs": [
        {
          "output_type": "stream",
          "name": "stdout",
          "text": [
            "ACCURACY SCORE:\n",
            "0.4938\n",
            "CLASSIFICATION REPORT:\n",
            "\tPrecision: 0.4899\n",
            "\tRecall: 0.4927\n",
            "\tF1_Score: 0.4899\n"
          ]
        }
      ]
    },
    {
      "cell_type": "code",
      "source": [
        "accuracy_conf_mat(y_test_lr, y_pred_lr)"
      ],
      "metadata": {
        "id": "aiS1yOJtrwoW",
        "colab": {
          "base_uri": "https://localhost:8080/",
          "height": 639
        },
        "outputId": "3d05c3e7-abc3-4d36-de3e-f6586786bbd6"
      },
      "execution_count": 28,
      "outputs": [
        {
          "output_type": "stream",
          "name": "stdout",
          "text": [
            "0.4938\n"
          ]
        },
        {
          "output_type": "display_data",
          "data": {
            "image/png": "[encoded data removed]",
            "text/plain": [
              "<Figure size 720x720 with 2 Axes>"
            ]
          },
          "metadata": {
            "needs_background": "light"
          }
        }
      ]
    },
    {
      "cell_type": "markdown",
      "source": [
        "To make the best predictions for the kaggle data set, we take the parameters and settings from our best model and apply fit the model on the whole dataset."
      ],
      "metadata": {
        "id": "NR0416aXky8q"
      }
    },
    {
      "cell_type": "code",
      "source": [
        "# Create pipeline\n",
        "pipe = Pipeline([('vectorizer', tfidf_vec_lr),\n",
        "                 ('classifier', lreg)])\n",
        "\n",
        "# Fit model on whole data set\n",
        "pipe.fit(X_lr, ylabels_lr)"
      ],
      "metadata": {
        "id": "xmlZ2E40N9b1",
        "colab": {
          "base_uri": "https://localhost:8080/"
        },
        "outputId": "e13d5b6d-3f31-48cd-ee39-473c82988b9d"
      },
      "execution_count": 29,
      "outputs": [
        {
          "output_type": "execute_result",
          "data": {
            "text/plain": [
              "Pipeline(steps=[('vectorizer',\n",
              "                 TfidfVectorizer(tokenizer=<function spacy_tokenizer at 0x7f372ff47050>)),\n",
              "                ('classifier', LogisticRegression(C=10, solver='liblinear'))])"
            ]
          },
          "metadata": {},
          "execution_count": 29
        }
      ]
    },
    {
      "cell_type": "code",
      "source": [
        "y_pred_test=pipe.predict(lr_test_df['sentence'])"
      ],
      "metadata": {
        "id": "w3HeE12oOo1z"
      },
      "execution_count": 30,
      "outputs": []
    },
    {
      "cell_type": "markdown",
      "source": [
        "In order to submit the predictions we save the predictions and create a csv file.\n",
        "\n",
        "If you run this notebook without making any changes (e.g. in the spacy tokenizer) you should get a file that leads to our best Kaggle result."
      ],
      "metadata": {
        "id": "JWP5FzcXlFaq"
      }
    },
    {
      "cell_type": "code",
      "source": [
        "#submission_test = pd.DataFrame(y_pred_test, columns=['difficulty'])\n",
        "#submission_test"
      ],
      "metadata": {
        "id": "DPzps3KgOUnC"
      },
      "execution_count": 31,
      "outputs": []
    },
    {
      "cell_type": "code",
      "source": [
        "#submission_test.to_csv('submission_21-12-17_final.csv')"
      ],
      "metadata": {
        "id": "_kbWTxmAOXrr"
      },
      "execution_count": 32,
      "outputs": []
    },
    {
      "cell_type": "markdown",
      "source": [
        "<h3> 2.3.2 Word Embeddings"
      ],
      "metadata": {
        "id": "7RlGv4wtfbFB"
      }
    },
    {
      "cell_type": "markdown",
      "source": [
        "In this part, we use Word Embeddings instead of Tokenization. The code is modeled after the Kaggle course we saw in class. "
      ],
      "metadata": {
        "id": "UsODN9aockRv"
      }
    },
    {
      "cell_type": "code",
      "metadata": {
        "id": "qpc29nO2YLbt",
        "colab": {
          "base_uri": "https://localhost:8080/"
        },
        "outputId": "bdfbad03-e62b-4d08-ac59-1c49942d03bc"
      },
      "source": [
        "#Vectorizing - Word Embeddings\n",
        "\n",
        "with nlp.disable_pipes():\n",
        "    doc_vectors = np.array([nlp(sentence).vector for sentence in lr_data.sentence])\n",
        "    \n",
        "doc_vectors.shape\n",
        "\n"
      ],
      "execution_count": 33,
      "outputs": [
        {
          "output_type": "execute_result",
          "data": {
            "text/plain": [
              "(4800, 96)"
            ]
          },
          "metadata": {},
          "execution_count": 33
        }
      ]
    },
    {
      "cell_type": "code",
      "source": [
        "from sklearn.model_selection import train_test_split\n",
        "\n",
        "X_train_lr, X_test_lr, y_train_lr, y_test_lr = train_test_split(doc_vectors, lr_data.difficulty,\n",
        "                                                    test_size=0.2, random_state=0)\n",
        "\n"
      ],
      "metadata": {
        "id": "74FgTRZfYLbv"
      },
      "execution_count": 34,
      "outputs": []
    },
    {
      "cell_type": "code",
      "source": [
        "# Fit model on training set\n",
        "lreg.fit(X_train_lr, y_train_lr)"
      ],
      "metadata": {
        "id": "s3q9HgldYLbw",
        "colab": {
          "base_uri": "https://localhost:8080/"
        },
        "outputId": "bd62679d-1a91-4586-c63c-b300bbe42cdb"
      },
      "execution_count": 35,
      "outputs": [
        {
          "output_type": "execute_result",
          "data": {
            "text/plain": [
              "LogisticRegression(C=10, solver='liblinear')"
            ]
          },
          "metadata": {},
          "execution_count": 35
        }
      ]
    },
    {
      "cell_type": "code",
      "source": [
        "y_pred_lr = lreg.predict(X_test_lr)\n",
        "\n",
        "evaluate(y_test_lr, y_pred_lr)"
      ],
      "metadata": {
        "id": "FLhgqt1qYLby",
        "colab": {
          "base_uri": "https://localhost:8080/"
        },
        "outputId": "302c421d-27ab-40be-8599-47a1b66ea282"
      },
      "execution_count": 36,
      "outputs": [
        {
          "output_type": "stream",
          "name": "stdout",
          "text": [
            "ACCURACY SCORE:\n",
            "0.3927\n",
            "CLASSIFICATION REPORT:\n",
            "\tPrecision: 0.3890\n",
            "\tRecall: 0.3938\n",
            "\tF1_Score: 0.3889\n"
          ]
        }
      ]
    },
    {
      "cell_type": "markdown",
      "source": [
        "<h3> 2.3.3 Dimensionality Reduction"
      ],
      "metadata": {
        "id": "hFKj5PD_fVXM"
      }
    },
    {
      "cell_type": "markdown",
      "source": [
        "In this section, we apply standardization and dimensionality reduction and the combination of both."
      ],
      "metadata": {
        "id": "ANWgSzNnjFif"
      }
    },
    {
      "cell_type": "code",
      "source": [
        "pca = PCA(n_components=2800) #n_components can be varied to try out different models"
      ],
      "metadata": {
        "id": "q8dWBab9fZO3"
      },
      "execution_count": 37,
      "outputs": []
    },
    {
      "cell_type": "code",
      "metadata": {
        "id": "QhHZ3Oe4d6Ju"
      },
      "source": [
        "X_lr = lr_data['sentence']\n",
        "ylabels_lr = lr_data['difficulty']\n",
        "\n",
        "X_train_lr, X_test_lr, y_train_lr, y_test_lr = train_test_split(X_lr, ylabels_lr, test_size=0.2, random_state=0, stratify=ylabels_lr)"
      ],
      "execution_count": 38,
      "outputs": []
    },
    {
      "cell_type": "markdown",
      "source": [
        "Fit & transform data without preprocessing ..."
      ],
      "metadata": {
        "id": "g_dFIjgPkF7X"
      }
    },
    {
      "cell_type": "code",
      "source": [
        "#X_train_vec_lr = tfidf_vector.fit_transform(X_train_lr).toarray()\n",
        "#X_test_vec_lr = tfidf_vector.transform(X_test_lr).toarray()\n",
        "#print(X_train_vec_lr.shape)"
      ],
      "metadata": {
        "id": "ATuNK3q1fwGX"
      },
      "execution_count": 39,
      "outputs": []
    },
    {
      "cell_type": "markdown",
      "source": [
        "...or fit & transform data with preprocessing (choose one for further classification)"
      ],
      "metadata": {
        "id": "OEPtVdMPkDdA"
      }
    },
    {
      "cell_type": "code",
      "source": [
        "X_train_vec_lr = tfidf_vec_lr.fit_transform(X_train_lr).toarray()\n",
        "X_test_vec_lr = tfidf_vec_lr.transform(X_test_lr).toarray()\n",
        "print(X_train_vec_lr.shape)"
      ],
      "metadata": {
        "id": "MIDzYfWKizwz",
        "colab": {
          "base_uri": "https://localhost:8080/"
        },
        "outputId": "60a1e153-31d9-4e76-8b02-7dc6145b7ad3"
      },
      "execution_count": 40,
      "outputs": [
        {
          "output_type": "stream",
          "name": "stdout",
          "text": [
            "(3840, 9602)\n"
          ]
        }
      ]
    },
    {
      "cell_type": "code",
      "source": [
        "#build pipe without Scaler & PCA\n",
        "scaler = StandardScaler()\n",
        "pipe = Pipeline([\n",
        "                 ('lreg', lreg),\n",
        "                 ])\n",
        "\n",
        "# Fit model\n",
        "pipe.fit(X_train_vec_lr, y_train_lr)\n",
        "print('Train Accuracy: ', round(pipe.score(X_train_vec_lr, y_train_lr), 4))\n",
        "print('Test Accuracy: ', round(pipe.score(X_test_vec_lr, y_test_lr), 4))"
      ],
      "metadata": {
        "id": "PeNEE4iIf6s-",
        "colab": {
          "base_uri": "https://localhost:8080/"
        },
        "outputId": "cdeff748-115d-47e6-dee4-496b39428e42"
      },
      "execution_count": 41,
      "outputs": [
        {
          "output_type": "stream",
          "name": "stdout",
          "text": [
            "Train Accuracy:  0.9732\n",
            "Test Accuracy:  0.4938\n"
          ]
        }
      ]
    },
    {
      "cell_type": "code",
      "source": [
        "#build pipe with  StandardScaler\n",
        "scaler = StandardScaler()\n",
        "pipe = Pipeline([\n",
        "                 ('scaler', scaler),\n",
        "                 ('lreg', lreg),\n",
        "                 ])\n",
        "\n",
        "# Fit model\n",
        "pipe.fit(X_train_vec_lr, y_train_lr)\n",
        "print('Train Accuracy: ', round(pipe.score(X_train_vec_lr, y_train_lr), 4))\n",
        "print('Test Accuracy: ', round(pipe.score(X_test_vec_lr, y_test_lr), 4))"
      ],
      "metadata": {
        "id": "Z6KEJ87CgMnE",
        "colab": {
          "base_uri": "https://localhost:8080/"
        },
        "outputId": "802650c0-8fcc-4176-c2a6-ef1db8755d90"
      },
      "execution_count": 42,
      "outputs": [
        {
          "output_type": "stream",
          "name": "stdout",
          "text": [
            "Train Accuracy:  0.999\n",
            "Test Accuracy:  0.3969\n"
          ]
        }
      ]
    },
    {
      "cell_type": "code",
      "source": [
        "#build pipe with PCA \n",
        "pipe = Pipeline([\n",
        "                 ('pca', pca),\n",
        "                 ('lreg', lreg),\n",
        "                 ])\n",
        "\n",
        "# Fit model\n",
        "\n",
        "pipe.fit(X_train_vec_lr, y_train_lr)\n",
        "print('Train Accuracy: ', round(pipe.score(X_train_vec_lr, y_train_lr), 4))\n",
        "print('Test Accuracy: ', round(pipe.score(X_test_vec_lr, y_test_lr), 4))"
      ],
      "metadata": {
        "id": "RmSXgfaogbvC",
        "colab": {
          "base_uri": "https://localhost:8080/"
        },
        "outputId": "1024ff21-9638-4d62-e7f5-9bd004e9bed8"
      },
      "execution_count": 43,
      "outputs": [
        {
          "output_type": "stream",
          "name": "stdout",
          "text": [
            "Train Accuracy:  0.9594\n",
            "Test Accuracy:  0.4906\n"
          ]
        }
      ]
    },
    {
      "cell_type": "code",
      "source": [
        "#build pipe with PCA & StandardScaler\n",
        "\n",
        "pipe = Pipeline([\n",
        "                 ('scaler', scaler),\n",
        "                 ('pca', pca),\n",
        "                 ('lreg', lreg),\n",
        "                 ])\n",
        "\n",
        "# Fit model\n",
        "\n",
        "pipe.fit(X_train_vec_lr, y_train_lr)\n",
        "print('Train Accuracy: ', round(pipe.score(X_train_vec_lr, y_train_lr), 4))\n",
        "print('Test Accuracy: ', round(pipe.score(X_test_vec_lr, y_test_lr), 4))"
      ],
      "metadata": {
        "id": "HE_xoFmFgn7J",
        "colab": {
          "base_uri": "https://localhost:8080/"
        },
        "outputId": "a81a04af-a2ba-48b9-d9c8-9804dbfd3749"
      },
      "execution_count": 44,
      "outputs": [
        {
          "output_type": "stream",
          "name": "stdout",
          "text": [
            "Train Accuracy:  0.999\n",
            "Test Accuracy:  0.4156\n"
          ]
        }
      ]
    },
    {
      "cell_type": "markdown",
      "source": [
        "The following parts are structured the same way but the classifier changes. The given explanation for the code is therefore more or less still valid for the following sections."
      ],
      "metadata": {
        "id": "t_D1CBQajNQY"
      }
    },
    {
      "cell_type": "markdown",
      "metadata": {
        "id": "cJp_X2jV6lP4"
      },
      "source": [
        "# 3. kNN\n",
        "<h2> 3.1 kNN without any data cleaning or tuning\n",
        " "
      ]
    },
    {
      "cell_type": "code",
      "metadata": {
        "id": "KmCSWQGs68Eq"
      },
      "source": [
        "knn_data=pd.read_csv('https://raw.githubusercontent.com/chadi-aebi/DMML2021_Rolex/main/data/training_data.csv', index_col='id')\n",
        "knn_test_df = pd.read_csv('https://raw.githubusercontent.com/chadi-aebi/DMML2021_Rolex/main/data/unlabelled_test_data.csv', index_col='id')"
      ],
      "execution_count": 45,
      "outputs": []
    },
    {
      "cell_type": "code",
      "metadata": {
        "id": "HPjANU9g7LiI"
      },
      "source": [
        "X_knn = knn_data['sentence']\n",
        "ylabels_knn = knn_data['difficulty']\n",
        "\n",
        "X_train_knn, X_test_knn, y_train_knn, y_test_knn = train_test_split(X_knn, ylabels_knn, test_size=0.2, random_state=0, stratify=ylabels_knn)"
      ],
      "execution_count": 46,
      "outputs": []
    },
    {
      "cell_type": "code",
      "source": [
        "# Define classifier\n",
        "knn = KNeighborsClassifier()\n"
      ],
      "metadata": {
        "id": "X65tlM6cl1UP"
      },
      "execution_count": 47,
      "outputs": []
    },
    {
      "cell_type": "code",
      "metadata": {
        "id": "Ys-DfQ9Qg358",
        "colab": {
          "base_uri": "https://localhost:8080/"
        },
        "outputId": "3685806a-8d9c-4676-b391-53ad0dfcec2d"
      },
      "source": [
        "# Create pipeline\n",
        "pipe = Pipeline([('vectorizer', tfidf_vector),\n",
        "                 ('classifier', knn)])\n",
        "\n",
        "# Fit model on training set\n",
        "pipe.fit(X_train_knn, y_train_knn)"
      ],
      "execution_count": 48,
      "outputs": [
        {
          "output_type": "execute_result",
          "data": {
            "text/plain": [
              "Pipeline(steps=[('vectorizer', TfidfVectorizer()),\n",
              "                ('classifier', KNeighborsClassifier())])"
            ]
          },
          "metadata": {},
          "execution_count": 48
        }
      ]
    },
    {
      "cell_type": "code",
      "metadata": {
        "id": "MPglJHd8gsVc",
        "colab": {
          "base_uri": "https://localhost:8080/"
        },
        "outputId": "e37f09eb-891c-418a-e5d2-0b81fa0be92f"
      },
      "source": [
        "y_pred_knn = pipe.predict(X_test_knn)\n",
        "\n",
        "acc_knn_0 = accuracy_score(y_test_knn,y_pred_knn)\n",
        "evaluate(y_test_knn, y_pred_knn)"
      ],
      "execution_count": 49,
      "outputs": [
        {
          "output_type": "stream",
          "name": "stdout",
          "text": [
            "ACCURACY SCORE:\n",
            "0.3156\n",
            "CLASSIFICATION REPORT:\n",
            "\tPrecision: 0.3823\n",
            "\tRecall: 0.3137\n",
            "\tF1_Score: 0.2913\n"
          ]
        }
      ]
    },
    {
      "cell_type": "code",
      "source": [
        "accuracy_conf_mat(y_test_knn, y_pred_knn)"
      ],
      "metadata": {
        "id": "n7QVM1URhoyP",
        "colab": {
          "base_uri": "https://localhost:8080/",
          "height": 639
        },
        "outputId": "97deb47c-14c2-4a2f-de1d-de7f93563678"
      },
      "execution_count": 50,
      "outputs": [
        {
          "output_type": "stream",
          "name": "stdout",
          "text": [
            "0.3156\n"
          ]
        },
        {
          "output_type": "display_data",
          "data": {
            "image/png": "[encoded data removed]",
            "text/plain": [
              "<Figure size 720x720 with 2 Axes>"
            ]
          },
          "metadata": {
            "needs_background": "light"
          }
        }
      ]
    },
    {
      "cell_type": "markdown",
      "source": [
        "<h2> 3.2 kNN with hyperparameter tuning\n"
      ],
      "metadata": {
        "id": "E9TvPasnpxAF"
      }
    },
    {
      "cell_type": "code",
      "source": [
        "# Define parameters to test\n",
        "\n",
        "#grid_knn = {'n_neighbors':np.arange(1,100),\n",
        " #       'p':np.arange(1,3),\n",
        " #       'weights':['uniform','distance']\n",
        " #      }\n",
        "\n",
        "# Define and fit model\n",
        "\n",
        "#knn = KNeighborsClassifier()\n",
        "#knn_cv = GridSearchCV(knn, grid, cv=10)\n",
        "#pipe = Pipeline([('vectorizer', tfidf_vector),\n",
        " #                ('classifier', knn_cv)])\n",
        "\n",
        "#pipe.fit(X_train_knn, y_train_knn)\n",
        "\n",
        "# Print results\n",
        "\n",
        "#print(\"Hyperparameters:\", knn_cv.best_params_)\n",
        "#y_pred_knn = pipe.predict(X_test_knn)\n",
        "#evaluate(y_test_knn, y_pred_knn)"
      ],
      "metadata": {
        "id": "4XN_daqtn_36"
      },
      "execution_count": 51,
      "outputs": []
    },
    {
      "cell_type": "code",
      "source": [
        "#bestparams_knn = {'n_neighbors': 82, 'p': 2, 'weights': 'distance'}"
      ],
      "metadata": {
        "id": "VqiIDe_tuXZV"
      },
      "execution_count": 52,
      "outputs": []
    },
    {
      "cell_type": "markdown",
      "source": [
        "<h2> 3.3 kNN with further methods"
      ],
      "metadata": {
        "id": "iMRoTJgxp2vZ"
      }
    },
    {
      "cell_type": "markdown",
      "source": [
        "<h3> 3.3.1 Preprocessing"
      ],
      "metadata": {
        "id": "Lwa2zJYUli44"
      }
    },
    {
      "cell_type": "code",
      "source": [
        "#Define classifier with best parameters\n",
        "knn = KNeighborsClassifier(n_neighbors= 82, weights= 'distance')"
      ],
      "metadata": {
        "id": "dncB-Z4vXl7c"
      },
      "execution_count": 53,
      "outputs": []
    },
    {
      "cell_type": "code",
      "source": [
        "tfidf_vec_knn = TfidfVectorizer(tokenizer=spacy_tokenizer)"
      ],
      "metadata": {
        "id": "nR0awg_kKBDB"
      },
      "execution_count": 54,
      "outputs": []
    },
    {
      "cell_type": "code",
      "source": [
        "# Create pipeline\n",
        "pipe = Pipeline([('vectorizer', tfidf_vec_knn),\n",
        "                 ('classifier', knn)])\n",
        "\n",
        "# Fit model on training set\n",
        "pipe.fit(X_train_knn, y_train_knn)"
      ],
      "metadata": {
        "id": "dHTpmohvKBDD",
        "colab": {
          "base_uri": "https://localhost:8080/"
        },
        "outputId": "0852cf1b-a1c3-4fff-8705-e25cae511061"
      },
      "execution_count": 55,
      "outputs": [
        {
          "output_type": "execute_result",
          "data": {
            "text/plain": [
              "Pipeline(steps=[('vectorizer',\n",
              "                 TfidfVectorizer(tokenizer=<function spacy_tokenizer at 0x7f372ff47050>)),\n",
              "                ('classifier',\n",
              "                 KNeighborsClassifier(n_neighbors=82, weights='distance'))])"
            ]
          },
          "metadata": {},
          "execution_count": 55
        }
      ]
    },
    {
      "cell_type": "code",
      "source": [
        "# Predictions\n",
        "y_pred_knn = pipe.predict(X_test_knn)\n",
        "\n",
        "evaluate(y_test_knn, y_pred_knn)"
      ],
      "metadata": {
        "id": "CPahV5I_KBDE",
        "colab": {
          "base_uri": "https://localhost:8080/"
        },
        "outputId": "91e3af00-1279-4ec8-d624-afc8e8ebab0c"
      },
      "execution_count": 56,
      "outputs": [
        {
          "output_type": "stream",
          "name": "stdout",
          "text": [
            "ACCURACY SCORE:\n",
            "0.3594\n",
            "CLASSIFICATION REPORT:\n",
            "\tPrecision: 0.4144\n",
            "\tRecall: 0.3577\n",
            "\tF1_Score: 0.3053\n"
          ]
        }
      ]
    },
    {
      "cell_type": "code",
      "source": [
        "accuracy_conf_mat(y_test_knn, y_pred_knn)"
      ],
      "metadata": {
        "id": "ooz6snFEr5jt",
        "colab": {
          "base_uri": "https://localhost:8080/",
          "height": 639
        },
        "outputId": "7a04bc8d-3cfb-4489-99a0-bf99a9b027e4"
      },
      "execution_count": 57,
      "outputs": [
        {
          "output_type": "stream",
          "name": "stdout",
          "text": [
            "0.3594\n"
          ]
        },
        {
          "output_type": "display_data",
          "data": {
            "image/png": "[encoded data removed]",
            "text/plain": [
              "<Figure size 720x720 with 2 Axes>"
            ]
          },
          "metadata": {
            "needs_background": "light"
          }
        }
      ]
    },
    {
      "cell_type": "markdown",
      "source": [
        "<h3> 3.3.2 Word Embeddings"
      ],
      "metadata": {
        "id": "e07_-cDOlrUq"
      }
    },
    {
      "cell_type": "code",
      "metadata": {
        "id": "soVJLmmEXX81",
        "colab": {
          "base_uri": "https://localhost:8080/"
        },
        "outputId": "22f83290-159b-47c2-cfa5-6f75617e6742"
      },
      "source": [
        "#Vectorizing - Word Embeddings\n",
        "\n",
        "with nlp.disable_pipes():\n",
        "    doc_vectors = np.array([nlp(sentence).vector for sentence in knn_data.sentence])\n",
        "    \n",
        "doc_vectors.shape\n",
        "\n"
      ],
      "execution_count": 58,
      "outputs": [
        {
          "output_type": "execute_result",
          "data": {
            "text/plain": [
              "(4800, 96)"
            ]
          },
          "metadata": {},
          "execution_count": 58
        }
      ]
    },
    {
      "cell_type": "code",
      "source": [
        "from sklearn.model_selection import train_test_split\n",
        "\n",
        "X_train_knn, X_test_knn, y_train_knn, y_test_knn = train_test_split(doc_vectors, knn_data.difficulty,\n",
        "                                                    test_size=0.2, random_state=0)\n",
        "\n"
      ],
      "metadata": {
        "id": "8tU4aFhxXX85"
      },
      "execution_count": 59,
      "outputs": []
    },
    {
      "cell_type": "code",
      "source": [
        "# Fit model on training set\n",
        "knn.fit(X_train_knn, y_train_knn)"
      ],
      "metadata": {
        "id": "MlQtb4MhXX87",
        "colab": {
          "base_uri": "https://localhost:8080/"
        },
        "outputId": "f9511e73-90d3-4599-9ed1-72c4a33f3f83"
      },
      "execution_count": 60,
      "outputs": [
        {
          "output_type": "execute_result",
          "data": {
            "text/plain": [
              "KNeighborsClassifier(n_neighbors=82, weights='distance')"
            ]
          },
          "metadata": {},
          "execution_count": 60
        }
      ]
    },
    {
      "cell_type": "code",
      "source": [
        "y_pred_knn = knn.predict(X_test_knn)\n",
        "\n",
        "evaluate(y_test_knn, y_pred_knn)"
      ],
      "metadata": {
        "id": "pKJNKWXGXX89",
        "colab": {
          "base_uri": "https://localhost:8080/"
        },
        "outputId": "32b31404-2fe1-4a4a-d585-ca59cd162e44"
      },
      "execution_count": 61,
      "outputs": [
        {
          "output_type": "stream",
          "name": "stdout",
          "text": [
            "ACCURACY SCORE:\n",
            "0.2615\n",
            "CLASSIFICATION REPORT:\n",
            "\tPrecision: 0.3307\n",
            "\tRecall: 0.2588\n",
            "\tF1_Score: 0.2252\n"
          ]
        }
      ]
    },
    {
      "cell_type": "markdown",
      "source": [
        "<h3> 3.3.3 Dimensionality Reduction"
      ],
      "metadata": {
        "id": "JC2JGEHNlum0"
      }
    },
    {
      "cell_type": "code",
      "source": [
        "pca = PCA(n_components=200) #n_components can be varied to try out different models"
      ],
      "metadata": {
        "id": "yKiXFBeAmF7F"
      },
      "execution_count": 62,
      "outputs": []
    },
    {
      "cell_type": "code",
      "metadata": {
        "id": "DiAb3k01d_JM"
      },
      "source": [
        "X_knn = knn_data['sentence']\n",
        "ylabels_knn = knn_data['difficulty']\n",
        "\n",
        "X_train_knn, X_test_knn, y_train_knn, y_test_knn = train_test_split(X_knn, ylabels_knn, test_size=0.2, random_state=0, stratify=ylabels_knn)"
      ],
      "execution_count": 63,
      "outputs": []
    },
    {
      "cell_type": "code",
      "source": [
        "X_train_vec_knn = tfidf_vector.fit_transform(X_train_knn).toarray()\n",
        "X_test_vec_knn = tfidf_vector.transform(X_test_knn).toarray()\n",
        "print(X_train_vec_knn.shape)"
      ],
      "metadata": {
        "id": "LbN0__1kmF7G",
        "colab": {
          "base_uri": "https://localhost:8080/"
        },
        "outputId": "ebcf52c2-5eed-4a9f-9206-30b768a6bea4"
      },
      "execution_count": 64,
      "outputs": [
        {
          "output_type": "stream",
          "name": "stdout",
          "text": [
            "(3840, 12903)\n"
          ]
        }
      ]
    },
    {
      "cell_type": "code",
      "source": [
        "#build pipe without Scaler & PCA\n",
        "scaler = StandardScaler()\n",
        "pipe = Pipeline([\n",
        "                 ('knn', knn),\n",
        "                 ])\n",
        "\n",
        "# Fit model\n",
        "pipe.fit(X_train_vec_knn, y_train_knn)\n",
        "print('Train Accuracy: ', round(pipe.score(X_train_vec_knn, y_train_knn), 4))\n",
        "print('Test Accuracy: ', round(pipe.score(X_test_vec_knn, y_test_knn), 4))"
      ],
      "metadata": {
        "id": "g4Z_UnJTlyQm",
        "colab": {
          "base_uri": "https://localhost:8080/"
        },
        "outputId": "fc6c9e14-12ea-44f6-fd8b-bc2fd813694d"
      },
      "execution_count": 65,
      "outputs": [
        {
          "output_type": "stream",
          "name": "stdout",
          "text": [
            "Train Accuracy:  0.9992\n",
            "Test Accuracy:  0.3354\n"
          ]
        }
      ]
    },
    {
      "cell_type": "code",
      "source": [
        "#build pipe with  StandardScaler\n",
        "scaler = StandardScaler()\n",
        "pipe = Pipeline([\n",
        "                 ('scaler', scaler),\n",
        "                 ('knn', knn),\n",
        "                 ])\n",
        "\n",
        "# Fit model\n",
        "pipe.fit(X_train_vec_knn, y_train_knn)\n",
        "print('Train Accuracy: ', round(pipe.score(X_train_vec_knn, y_train_knn), 4))\n",
        "print('Test Accuracy: ', round(pipe.score(X_test_vec_knn, y_test_knn), 4))"
      ],
      "metadata": {
        "id": "1bwqJb6jlyQo",
        "colab": {
          "base_uri": "https://localhost:8080/"
        },
        "outputId": "759ea5e8-f5a2-446e-99ed-6588047d280c"
      },
      "execution_count": 66,
      "outputs": [
        {
          "output_type": "stream",
          "name": "stdout",
          "text": [
            "Train Accuracy:  0.9992\n",
            "Test Accuracy:  0.1719\n"
          ]
        }
      ]
    },
    {
      "cell_type": "code",
      "source": [
        "#build pipe with PCA \n",
        "pipe = Pipeline([\n",
        "                 ('pca', pca),\n",
        "                 ('knn', knn),\n",
        "                 ])\n",
        "\n",
        "\n",
        "# Fit model\n",
        "pipe.fit(X_train_vec_knn, y_train_knn)\n",
        "print('Train Accuracy: ', round(pipe.score(X_train_vec_knn, y_train_knn), 4))\n",
        "print('Test Accuracy: ', round(pipe.score(X_test_vec_knn, y_test_knn), 4))"
      ],
      "metadata": {
        "id": "L1CW1RzxlyQq",
        "colab": {
          "base_uri": "https://localhost:8080/"
        },
        "outputId": "f106307f-5d22-4edd-cca6-db8d6d32ca75"
      },
      "execution_count": 67,
      "outputs": [
        {
          "output_type": "stream",
          "name": "stdout",
          "text": [
            "Train Accuracy:  0.999\n",
            "Test Accuracy:  0.2406\n"
          ]
        }
      ]
    },
    {
      "cell_type": "code",
      "source": [
        "#build pipe with PCA & StandardScaler\n",
        "\n",
        "pipe = Pipeline([\n",
        "                 ('scaler', scaler),\n",
        "                 ('pca', pca),\n",
        "                 ('knn', knn),\n",
        "                 ])\n",
        "\n",
        "# Fit model\n",
        "pipe.fit(X_train_vec_knn, y_train_knn)\n",
        "print('Train Accuracy: ', round(pipe.score(X_train_vec_knn, y_train_knn), 4))\n",
        "print('Test Accuracy: ', round(pipe.score(X_test_vec_knn, y_test_knn), 4))"
      ],
      "metadata": {
        "id": "bKQ4lwWqlyQs",
        "colab": {
          "base_uri": "https://localhost:8080/"
        },
        "outputId": "7dedf3e4-a8ad-4b54-ebad-2db2805bf0b8"
      },
      "execution_count": 68,
      "outputs": [
        {
          "output_type": "stream",
          "name": "stdout",
          "text": [
            "Train Accuracy:  0.9992\n",
            "Test Accuracy:  0.1896\n"
          ]
        }
      ]
    },
    {
      "cell_type": "markdown",
      "metadata": {
        "id": "VYol3GFa6wzs"
      },
      "source": [
        "# 4. Decision Tree\n",
        "<h2> 4.1 Decision Tree without any data cleaning"
      ]
    },
    {
      "cell_type": "code",
      "metadata": {
        "id": "7VcEoDF-6_rZ"
      },
      "source": [
        "tree_data=pd.read_csv('https://raw.githubusercontent.com/chadi-aebi/DMML2021_Rolex/main/data/training_data.csv', index_col='id')\n",
        "tree_test_df = pd.read_csv('https://raw.githubusercontent.com/chadi-aebi/DMML2021_Rolex/main/data/unlabelled_test_data.csv', index_col='id')"
      ],
      "execution_count": 69,
      "outputs": []
    },
    {
      "cell_type": "code",
      "metadata": {
        "id": "oSPymGOk7PfG"
      },
      "source": [
        "X_tree = tree_data['sentence']\n",
        "ylabels_tree = tree_data['difficulty']\n",
        "\n",
        "X_train_tree, X_test_tree, y_train_tree, y_test_tree = train_test_split(X_tree, ylabels_tree, test_size=0.2, random_state=0, stratify=ylabels_tree)"
      ],
      "execution_count": 70,
      "outputs": []
    },
    {
      "cell_type": "code",
      "source": [
        "# Define classifier\n",
        "tree = DecisionTreeClassifier()"
      ],
      "metadata": {
        "id": "zWfElWrvm15t"
      },
      "execution_count": 71,
      "outputs": []
    },
    {
      "cell_type": "code",
      "metadata": {
        "id": "8sFIl3VHjWZk",
        "colab": {
          "base_uri": "https://localhost:8080/"
        },
        "outputId": "626a6379-70b2-4613-9faf-b67b7cc7b39b"
      },
      "source": [
        "\n",
        "# Create pipeline\n",
        "pipe = Pipeline([('vectorizer', tfidf_vector),\n",
        "                 ('classifier', tree)])\n",
        "\n",
        "# Fit model on training set\n",
        "pipe.fit(X_train_tree, y_train_tree)"
      ],
      "execution_count": 72,
      "outputs": [
        {
          "output_type": "execute_result",
          "data": {
            "text/plain": [
              "Pipeline(steps=[('vectorizer', TfidfVectorizer()),\n",
              "                ('classifier', DecisionTreeClassifier())])"
            ]
          },
          "metadata": {},
          "execution_count": 72
        }
      ]
    },
    {
      "cell_type": "code",
      "metadata": {
        "id": "RGPV-iKDifr_",
        "colab": {
          "base_uri": "https://localhost:8080/"
        },
        "outputId": "3c5fe684-0d6a-422d-ec69-a10090ef9882"
      },
      "source": [
        "y_pred_tree = pipe.predict(X_test_tree)\n",
        "\n",
        "acc_tree_0 = accuracy_score(y_test_tree,y_pred_tree)\n",
        "evaluate(y_test_tree, y_pred_tree)"
      ],
      "execution_count": 73,
      "outputs": [
        {
          "output_type": "stream",
          "name": "stdout",
          "text": [
            "ACCURACY SCORE:\n",
            "0.3031\n",
            "CLASSIFICATION REPORT:\n",
            "\tPrecision: 0.3005\n",
            "\tRecall: 0.3023\n",
            "\tF1_Score: 0.3000\n"
          ]
        }
      ]
    },
    {
      "cell_type": "code",
      "source": [
        "accuracy_conf_mat(y_test_tree, y_pred_tree)"
      ],
      "metadata": {
        "id": "5e8OdI3lht-A",
        "colab": {
          "base_uri": "https://localhost:8080/",
          "height": 639
        },
        "outputId": "cb8a6dd4-c6a3-477d-8ef5-0053bbda4416"
      },
      "execution_count": 74,
      "outputs": [
        {
          "output_type": "stream",
          "name": "stdout",
          "text": [
            "0.3031\n"
          ]
        },
        {
          "output_type": "display_data",
          "data": {
            "image/png": "[encoded data removed]",
            "text/plain": [
              "<Figure size 720x720 with 2 Axes>"
            ]
          },
          "metadata": {
            "needs_background": "light"
          }
        }
      ]
    },
    {
      "cell_type": "markdown",
      "source": [
        "<h2> 4.2 Decision Tree with hyperparameter tuning"
      ],
      "metadata": {
        "id": "B53JCf7GqIHD"
      }
    },
    {
      "cell_type": "code",
      "source": [
        "# Grid Search - hyperparameter tuning\n",
        "\n",
        "\n",
        "# Define parameters to test\n",
        "#grid_tree ={\"criterion\" : [\"gini\", \"entropy\"],\n",
        "#            \"splitter\":[\"best\",\"random\"],\n",
        "#            \"max_depth\" : [1,5,20,50,100, None],\n",
        "#           \"min_samples_leaf\":[1,5,20,50,100, None],\n",
        "#           \"max_features\":[\"auto\",\"log2\",\"sqrt\",None],\n",
        "#           \"max_leaf_nodes\":[None,10,50,100] }\n",
        "\n",
        "# Define and fit model\n",
        "#tree = tree = DecisionTreeClassifier()\n",
        "#tree_cv = GridSearchCV(tree, grid_tree, cv=10)\n",
        "#pipe = Pipeline([('vectorizer', tfidf_vector),\n",
        "#                 ('classifier', tree_cv)])\n",
        "\n",
        "#pipe.fit(X_train_tree, y_train_tree)\n",
        "\n",
        "# Print results\n",
        "#print(\"Hyperparameters:\", tree_cv.best_params_)\n",
        "#y_pred_tree = pipe.predict(X_test_tree)\n",
        "#evaluate(y_test_tree, y_pred_tree)"
      ],
      "metadata": {
        "id": "vWKVW9MsqCOB"
      },
      "execution_count": 75,
      "outputs": []
    },
    {
      "cell_type": "markdown",
      "source": [
        "We save the best parameters from the GridSearch to use it for further models:"
      ],
      "metadata": {
        "id": "_f2kKxaNx83u"
      }
    },
    {
      "cell_type": "code",
      "source": [
        "#bestparams_tree = {'criterion': 'gini', 'max_depth': 20, 'max_features': None, 'max_leaf_nodes': 100, 'min_samples_leaf': 1, 'splitter': 'best'}"
      ],
      "metadata": {
        "id": "37yCmPd-wVhf"
      },
      "execution_count": 76,
      "outputs": []
    },
    {
      "cell_type": "markdown",
      "source": [
        "<h2> 4.3 Decision Tree with further methods"
      ],
      "metadata": {
        "id": "Z4cvQtWaqMgs"
      }
    },
    {
      "cell_type": "markdown",
      "source": [
        "<h3> 4.3.1 Preprocessing\n"
      ],
      "metadata": {
        "id": "w5BmhwQTme4g"
      }
    },
    {
      "cell_type": "code",
      "source": [
        "tfidf_vec_tree = TfidfVectorizer(tokenizer=spacy_tokenizer)"
      ],
      "metadata": {
        "id": "szhY96mrxGea"
      },
      "execution_count": 77,
      "outputs": []
    },
    {
      "cell_type": "code",
      "source": [
        "# Define classifier with best params\n",
        "tree = DecisionTreeClassifier(criterion = 'gini', max_depth = 20, max_features = None, max_leaf_nodes= 100, min_samples_leaf = 1, splitter = 'best')\n"
      ],
      "metadata": {
        "id": "E32C0uiowi8X"
      },
      "execution_count": 78,
      "outputs": []
    },
    {
      "cell_type": "code",
      "source": [
        "# Create pipeline\n",
        "pipe = Pipeline([('vectorizer', tfidf_vec_tree),\n",
        "                 ('classifier', tree)])\n",
        "\n",
        "# Fit model on training set\n",
        "pipe.fit(X_train_tree, y_train_tree)"
      ],
      "metadata": {
        "id": "lOh9FXOHXGv7",
        "colab": {
          "base_uri": "https://localhost:8080/"
        },
        "outputId": "b3adf334-aac5-4606-ae3c-de422760ad6d"
      },
      "execution_count": 79,
      "outputs": [
        {
          "output_type": "execute_result",
          "data": {
            "text/plain": [
              "Pipeline(steps=[('vectorizer',\n",
              "                 TfidfVectorizer(tokenizer=<function spacy_tokenizer at 0x7f372ff47050>)),\n",
              "                ('classifier',\n",
              "                 DecisionTreeClassifier(max_depth=20, max_leaf_nodes=100))])"
            ]
          },
          "metadata": {},
          "execution_count": 79
        }
      ]
    },
    {
      "cell_type": "code",
      "source": [
        "# Predictions\n",
        "y_pred_tree = pipe.predict(X_test_tree)\n",
        "\n",
        "evaluate(y_test_tree, y_pred_tree)"
      ],
      "metadata": {
        "id": "WqJwKV1Hxv8t",
        "colab": {
          "base_uri": "https://localhost:8080/"
        },
        "outputId": "43558e50-064a-4974-a59a-2a821acadbf6"
      },
      "execution_count": 80,
      "outputs": [
        {
          "output_type": "stream",
          "name": "stdout",
          "text": [
            "ACCURACY SCORE:\n",
            "0.3281\n",
            "CLASSIFICATION REPORT:\n",
            "\tPrecision: 0.3392\n",
            "\tRecall: 0.3273\n",
            "\tF1_Score: 0.3224\n"
          ]
        }
      ]
    },
    {
      "cell_type": "code",
      "source": [
        "accuracy_conf_mat(y_test_tree, y_pred_tree)"
      ],
      "metadata": {
        "id": "dXfYWWOssLkx",
        "colab": {
          "base_uri": "https://localhost:8080/",
          "height": 639
        },
        "outputId": "b4493956-cb40-4f36-e7b9-3edb82256ff0"
      },
      "execution_count": 81,
      "outputs": [
        {
          "output_type": "stream",
          "name": "stdout",
          "text": [
            "0.3281\n"
          ]
        },
        {
          "output_type": "display_data",
          "data": {
            "image/png": "[encoded data removed]",
            "text/plain": [
              "<Figure size 720x720 with 2 Axes>"
            ]
          },
          "metadata": {
            "needs_background": "light"
          }
        }
      ]
    },
    {
      "cell_type": "markdown",
      "source": [
        "<h3> 4.3.2 Word embedding\n"
      ],
      "metadata": {
        "id": "eT2DTFqDmjH1"
      }
    },
    {
      "cell_type": "code",
      "metadata": {
        "id": "csRdtKxtW74V",
        "colab": {
          "base_uri": "https://localhost:8080/"
        },
        "outputId": "7c86688b-919e-4a2f-f5e9-c76ba0359d0f"
      },
      "source": [
        "#Vectorizing - Word Embeddings\n",
        "\n",
        "with nlp.disable_pipes():\n",
        "    doc_vectors = np.array([nlp(sentence).vector for sentence in tree_data.sentence])\n",
        "    \n",
        "doc_vectors.shape\n",
        "\n"
      ],
      "execution_count": 82,
      "outputs": [
        {
          "output_type": "execute_result",
          "data": {
            "text/plain": [
              "(4800, 96)"
            ]
          },
          "metadata": {},
          "execution_count": 82
        }
      ]
    },
    {
      "cell_type": "code",
      "source": [
        "from sklearn.model_selection import train_test_split\n",
        "\n",
        "X_train_tree, X_test_tree, y_train_tree, y_test_tree = train_test_split(doc_vectors, tree_data.difficulty,\n",
        "                                                    test_size=0.2, random_state=0)\n",
        "\n"
      ],
      "metadata": {
        "id": "m6YwUAs6W74X"
      },
      "execution_count": 83,
      "outputs": []
    },
    {
      "cell_type": "code",
      "source": [
        "# Fit model on training set\n",
        "tree.fit(X_train_tree, y_train_tree)"
      ],
      "metadata": {
        "id": "DJm5OuCpW74Y",
        "colab": {
          "base_uri": "https://localhost:8080/"
        },
        "outputId": "43babf30-9571-4971-d64f-b0740e9cb25a"
      },
      "execution_count": 84,
      "outputs": [
        {
          "output_type": "execute_result",
          "data": {
            "text/plain": [
              "DecisionTreeClassifier(max_depth=20, max_leaf_nodes=100)"
            ]
          },
          "metadata": {},
          "execution_count": 84
        }
      ]
    },
    {
      "cell_type": "code",
      "source": [
        "y_pred_tree = tree.predict(X_test_tree)\n",
        "\n",
        "evaluate(y_test_tree, y_pred_tree)"
      ],
      "metadata": {
        "id": "Odfi-C-EW74a",
        "colab": {
          "base_uri": "https://localhost:8080/"
        },
        "outputId": "cc87eb7c-7022-4f88-c0b3-26f811c1c5a0"
      },
      "execution_count": 85,
      "outputs": [
        {
          "output_type": "stream",
          "name": "stdout",
          "text": [
            "ACCURACY SCORE:\n",
            "0.3115\n",
            "CLASSIFICATION REPORT:\n",
            "\tPrecision: 0.3129\n",
            "\tRecall: 0.3108\n",
            "\tF1_Score: 0.3090\n"
          ]
        }
      ]
    },
    {
      "cell_type": "markdown",
      "source": [
        "<h3> 4.3.3 Dimensionality Reduction"
      ],
      "metadata": {
        "id": "fqXWyJ4Dmp7q"
      }
    },
    {
      "cell_type": "code",
      "source": [
        "pca = PCA(n_components=200) #n_components can be varied to try out different models"
      ],
      "metadata": {
        "id": "SI6deZ4ImzJD"
      },
      "execution_count": 86,
      "outputs": []
    },
    {
      "cell_type": "code",
      "metadata": {
        "id": "8lvLlLvYeDUF"
      },
      "source": [
        "X_tree = tree_data['sentence']\n",
        "ylabels_tree = tree_data['difficulty']\n",
        "\n",
        "X_train_tree, X_test_tree, y_train_tree, y_test_tree = train_test_split(X_tree, ylabels_tree, test_size=0.2, random_state=0, stratify=ylabels_tree)"
      ],
      "execution_count": 87,
      "outputs": []
    },
    {
      "cell_type": "code",
      "source": [
        "X_train_vec_tree = tfidf_vector.fit_transform(X_train_tree).toarray()\n",
        "X_test_vec_tree = tfidf_vector.transform(X_test_tree).toarray()\n",
        "print(X_train_vec_tree.shape)"
      ],
      "metadata": {
        "id": "xzXxgI0gmzJG",
        "colab": {
          "base_uri": "https://localhost:8080/"
        },
        "outputId": "0816422d-b4a1-41d8-c00c-13d399e4eb57"
      },
      "execution_count": 88,
      "outputs": [
        {
          "output_type": "stream",
          "name": "stdout",
          "text": [
            "(3840, 12903)\n"
          ]
        }
      ]
    },
    {
      "cell_type": "code",
      "source": [
        "#build pipe without Scaler & PCA\n",
        "scaler = StandardScaler()\n",
        "pipe = Pipeline([\n",
        "                 ('tree', tree),\n",
        "                 ])\n",
        "\n",
        "# Fit model\n",
        "pipe.fit(X_train_vec_tree, y_train_tree)\n",
        "print('Train Accuracy: ', round(pipe.score(X_train_vec_tree, y_train_tree), 4))\n",
        "print('Test Accuracy: ', round(pipe.score(X_test_vec_tree, y_test_tree), 4))"
      ],
      "metadata": {
        "id": "FQWNeBZtmzJI",
        "colab": {
          "base_uri": "https://localhost:8080/"
        },
        "outputId": "911876b8-5030-4534-906e-5e884803cd7c"
      },
      "execution_count": 89,
      "outputs": [
        {
          "output_type": "stream",
          "name": "stdout",
          "text": [
            "Train Accuracy:  0.4617\n",
            "Test Accuracy:  0.3229\n"
          ]
        }
      ]
    },
    {
      "cell_type": "code",
      "source": [
        "#build pipe with  StandardScaler\n",
        "scaler = StandardScaler()\n",
        "pipe = Pipeline([\n",
        "                 ('scaler', scaler),\n",
        "                 ('tree', tree),\n",
        "                 ])\n",
        "# Fit model\n",
        "pipe.fit(X_train_vec_tree, y_train_tree)\n",
        "print('Train Accuracy: ', round(pipe.score(X_train_vec_tree, y_train_tree), 4))\n",
        "print('Test Accuracy: ', round(pipe.score(X_test_vec_tree, y_test_tree), 4))"
      ],
      "metadata": {
        "id": "63lmb9XGmzJK",
        "colab": {
          "base_uri": "https://localhost:8080/"
        },
        "outputId": "3e414bb8-5dc2-4fcc-a462-01046fefdb07"
      },
      "execution_count": 90,
      "outputs": [
        {
          "output_type": "stream",
          "name": "stdout",
          "text": [
            "Train Accuracy:  0.4617\n",
            "Test Accuracy:  0.3229\n"
          ]
        }
      ]
    },
    {
      "cell_type": "code",
      "source": [
        "#build pipe with PCA \n",
        "pipe = Pipeline([\n",
        "                 ('pca', pca),\n",
        "                 ('tree', tree),\n",
        "                 ])\n",
        "\n",
        "\n",
        "# Fit model\n",
        "pipe.fit(X_train_vec_tree, y_train_tree)\n",
        "print('Train Accuracy: ', round(pipe.score(X_train_vec_tree, y_train_tree), 4))\n",
        "print('Test Accuracy: ', round(pipe.score(X_test_vec_tree, y_test_tree), 4))"
      ],
      "metadata": {
        "id": "xlx1jX9kmzJK",
        "colab": {
          "base_uri": "https://localhost:8080/"
        },
        "outputId": "6813864a-c8e2-46fe-f15f-02ad2943d3c4"
      },
      "execution_count": 91,
      "outputs": [
        {
          "output_type": "stream",
          "name": "stdout",
          "text": [
            "Train Accuracy:  0.5125\n",
            "Test Accuracy:  0.3094\n"
          ]
        }
      ]
    },
    {
      "cell_type": "code",
      "source": [
        "#build pipe with PCA & StandardScaler\n",
        "\n",
        "pipe = Pipeline([\n",
        "                 ('scaler', scaler),\n",
        "                 ('pca', pca),\n",
        "                 ('tree', tree),\n",
        "                 ])\n",
        "\n",
        "# Fit model\n",
        "pipe.fit(X_train_vec_tree, y_train_tree)\n",
        "print('Train Accuracy: ', round(pipe.score(X_train_vec_tree, y_train_tree), 4))\n",
        "print('Test Accuracy: ', round(pipe.score(X_test_vec_tree, y_test_tree), 4))"
      ],
      "metadata": {
        "id": "XX8dynk5mzJL",
        "colab": {
          "base_uri": "https://localhost:8080/"
        },
        "outputId": "3413d447-5ac6-4c17-a278-7f48794d9e16"
      },
      "execution_count": 92,
      "outputs": [
        {
          "output_type": "stream",
          "name": "stdout",
          "text": [
            "Train Accuracy:  0.5531\n",
            "Test Accuracy:  0.3\n"
          ]
        }
      ]
    },
    {
      "cell_type": "markdown",
      "metadata": {
        "id": "zg-NDltT62B0"
      },
      "source": [
        "# 5. Random Forest\n",
        "<h2> 5.1 Random Forest without any data cleaning\n"
      ]
    },
    {
      "cell_type": "code",
      "metadata": {
        "id": "m_IMuTls7C1j"
      },
      "source": [
        "rf_data=pd.read_csv('https://raw.githubusercontent.com/chadi-aebi/DMML2021_Rolex/main/data/training_data.csv', index_col='id')\n",
        "rf_test_df = pd.read_csv('https://raw.githubusercontent.com/chadi-aebi/DMML2021_Rolex/main/data/unlabelled_test_data.csv', index_col='id')\n",
        "#rf_test_df.head()"
      ],
      "execution_count": 93,
      "outputs": []
    },
    {
      "cell_type": "code",
      "metadata": {
        "id": "QkFia3ER7Ygu"
      },
      "source": [
        "X_rf = rf_data['sentence']\n",
        "ylabels_rf = rf_data['difficulty']\n",
        "\n",
        "X_train_rf, X_test_rf, y_train_rf, y_test_rf = train_test_split(X_rf, ylabels_rf, test_size=0.2, random_state=0, stratify=ylabels_rf)"
      ],
      "execution_count": 94,
      "outputs": []
    },
    {
      "cell_type": "code",
      "source": [
        "X_train_rf_df = pd.DataFrame(X_train_rf)"
      ],
      "metadata": {
        "id": "dka8IrRm6dar"
      },
      "execution_count": 95,
      "outputs": []
    },
    {
      "cell_type": "code",
      "metadata": {
        "id": "x0MTWwJkhh5p"
      },
      "source": [
        "# Define classifier\n",
        "rfc = RandomForestClassifier()"
      ],
      "execution_count": 96,
      "outputs": []
    },
    {
      "cell_type": "code",
      "metadata": {
        "id": "6c3bxy72SC3d",
        "colab": {
          "base_uri": "https://localhost:8080/"
        },
        "outputId": "46910d08-7b13-43a0-e01f-e260182243fb"
      },
      "source": [
        "# Create pipeline with tfidf\n",
        "pipe = Pipeline([('vectorizer', tfidf_vector),\n",
        "                 ('classifier', rfc)])\n",
        "\n",
        "# Fit model on training set\n",
        "pipe.fit(X_train_rf, y_train_rf)"
      ],
      "execution_count": 97,
      "outputs": [
        {
          "output_type": "execute_result",
          "data": {
            "text/plain": [
              "Pipeline(steps=[('vectorizer', TfidfVectorizer()),\n",
              "                ('classifier', RandomForestClassifier())])"
            ]
          },
          "metadata": {},
          "execution_count": 97
        }
      ]
    },
    {
      "cell_type": "code",
      "source": [
        "y_pred_rf = pipe.predict(X_test_rf)\n",
        "\n",
        "acc_rf_0 = accuracy_score(y_test_rf,y_pred_rf)\n",
        "evaluate(y_test_rf, y_pred_rf)"
      ],
      "metadata": {
        "id": "6J2i2Fppq4L-",
        "colab": {
          "base_uri": "https://localhost:8080/"
        },
        "outputId": "92239c1d-a2dd-444b-d4df-49bebf5a13df"
      },
      "execution_count": 98,
      "outputs": [
        {
          "output_type": "stream",
          "name": "stdout",
          "text": [
            "ACCURACY SCORE:\n",
            "0.3948\n",
            "CLASSIFICATION REPORT:\n",
            "\tPrecision: 0.3911\n",
            "\tRecall: 0.3932\n",
            "\tF1_Score: 0.3798\n"
          ]
        }
      ]
    },
    {
      "cell_type": "code",
      "source": [
        "accuracy_conf_mat(y_test_rf, y_pred_rf)"
      ],
      "metadata": {
        "id": "DoB6r2kWhz5-",
        "colab": {
          "base_uri": "https://localhost:8080/",
          "height": 639
        },
        "outputId": "31b8771c-44c9-4db1-b867-fd520b42fbeb"
      },
      "execution_count": 99,
      "outputs": [
        {
          "output_type": "stream",
          "name": "stdout",
          "text": [
            "0.3948\n"
          ]
        },
        {
          "output_type": "display_data",
          "data": {
            "image/png": "[encoded data removed]",
            "text/plain": [
              "<Figure size 720x720 with 2 Axes>"
            ]
          },
          "metadata": {
            "needs_background": "light"
          }
        }
      ]
    },
    {
      "cell_type": "markdown",
      "source": [
        "<h2> 5.2 Random Forest with Hyperparameter Tuning"
      ],
      "metadata": {
        "id": "S8l4EDfrqcez"
      }
    },
    {
      "cell_type": "markdown",
      "source": [
        "In contrast to the other classifiers, we also tried RandomizedSearchCV for the Hyperparameter Tuning in this case. "
      ],
      "metadata": {
        "id": "ixe8BPL2b9hN"
      }
    },
    {
      "cell_type": "code",
      "metadata": {
        "id": "uG3X64vahNoI"
      },
      "source": [
        "#Tuning Hyperparameters with RandomizedSearchCV\n",
        "\n",
        "# Number of trees in random forest\n",
        "#n_estimators = [int(x) for x in np.linspace(start = 500, stop = 2000, num = 10)]\n",
        "\n",
        "# Number of features to consider at every split\n",
        "#max_features = ['auto', 'sqrt']\n",
        "\n",
        "# Maximum number of levels in tree\n",
        "#max_depth = [int(x) for x in np.linspace(10, 110, num = 11)]\n",
        "#max_depth.append(None)\n",
        "\n",
        "# Minimum number of samples required to split a node\n",
        "#min_samples_split = [2, 5, 10]\n",
        "\n",
        "# Minimum number of samples required at each leaf node\n",
        "#min_samples_leaf = [1, 2, 4]\n",
        "\n",
        "# Method of selecting samples for training each tree\n",
        "#bootstrap = [True, False]\n",
        "\n",
        "# Create the grid\n",
        "#grid_rf = {'n_estimators': n_estimators,\n",
        "#               'max_features': max_features,\n",
        "#               'max_depth': max_depth,\n",
        "#               'min_samples_split': min_samples_split,\n",
        "#               'min_samples_leaf': min_samples_leaf,\n",
        "#               'bootstrap': bootstrap}\n",
        "\n",
        "#print(random_grid)"
      ],
      "execution_count": 100,
      "outputs": []
    },
    {
      "cell_type": "code",
      "metadata": {
        "id": "UmbrlJcrhU8Y"
      },
      "source": [
        "#Crossvalidation with RandomizedSearchCV\n",
        "#rf_random = RandomizedSearchCV(estimator = rfc, param_distributions = random_grid_rf, n_iter = 10, cv = 5, verbose=2, random_state=0, n_jobs = -1)\n",
        "\n",
        "# Create pipeline with tfidf\n",
        "#pipe = Pipeline([('vectorizer', tfidf_vector),\n",
        " #                ('classifier', rf_random)])\n",
        "\n",
        "# Fit model on training set\n",
        "#pipe.fit(X_train_rf, y_train_rf)"
      ],
      "execution_count": 101,
      "outputs": []
    },
    {
      "cell_type": "code",
      "metadata": {
        "id": "Kipbly2yiLDe"
      },
      "source": [
        "#Save and display best parameters\n",
        "#best_param_1 = (bootstrap=False,\n",
        "# max_depth= 70,\n",
        "# max_features= 'auto',\n",
        "# min_samples_leaf= 1,\n",
        "# min_samples_split= 10,\n",
        "# n_estimators= 1166)"
      ],
      "execution_count": 102,
      "outputs": []
    },
    {
      "cell_type": "markdown",
      "source": [
        "<h2> 5.3 Random Forest with further methods"
      ],
      "metadata": {
        "id": "D_e5qIOAqq9b"
      }
    },
    {
      "cell_type": "markdown",
      "source": [
        "<h3> 5.3.1 Preprocessing"
      ],
      "metadata": {
        "id": "kmVABUvzrOyX"
      }
    },
    {
      "cell_type": "code",
      "metadata": {
        "id": "gwkMbWKPlyiY"
      },
      "source": [
        "tfidf_vec_rf = TfidfVectorizer(tokenizer=spacy_tokenizer)"
      ],
      "execution_count": 103,
      "outputs": []
    },
    {
      "cell_type": "code",
      "source": [
        "# Define classifier with best params - 07.12.2021 #2\n",
        "rfc = RandomForestClassifier(bootstrap=False,\n",
        " max_depth= 70,\n",
        " max_features= 'auto',\n",
        " min_samples_leaf= 1,\n",
        " min_samples_split= 10,\n",
        " n_estimators= 1166)"
      ],
      "metadata": {
        "id": "pP08OpFIOIoX"
      },
      "execution_count": 104,
      "outputs": []
    },
    {
      "cell_type": "code",
      "source": [
        "# Create pipeline with tfidf\n",
        "pipe = Pipeline([('vectorizer', tfidf_vec_rf),\n",
        "                 ('classifier', rfc)])\n",
        "\n",
        "# Fit model on training set\n",
        "pipe.fit(X_train_rf, y_train_rf)"
      ],
      "metadata": {
        "id": "zQPTFI9lzjwr",
        "colab": {
          "base_uri": "https://localhost:8080/"
        },
        "outputId": "1c57609e-31f0-48a9-b9c4-8d4529d66ffe"
      },
      "execution_count": 105,
      "outputs": [
        {
          "output_type": "execute_result",
          "data": {
            "text/plain": [
              "Pipeline(steps=[('vectorizer',\n",
              "                 TfidfVectorizer(tokenizer=<function spacy_tokenizer at 0x7f372ff47050>)),\n",
              "                ('classifier',\n",
              "                 RandomForestClassifier(bootstrap=False, max_depth=70,\n",
              "                                        min_samples_split=10,\n",
              "                                        n_estimators=1166))])"
            ]
          },
          "metadata": {},
          "execution_count": 105
        }
      ]
    },
    {
      "cell_type": "code",
      "metadata": {
        "id": "I1tDTARLjbnd",
        "colab": {
          "base_uri": "https://localhost:8080/"
        },
        "outputId": "0ed31a83-c635-4043-e5d4-ab5338db6774"
      },
      "source": [
        "y_pred_rf = pipe.predict(X_test_rf)\n",
        "\n",
        "evaluate(y_test_rf, y_pred_rf)"
      ],
      "execution_count": 106,
      "outputs": [
        {
          "output_type": "stream",
          "name": "stdout",
          "text": [
            "ACCURACY SCORE:\n",
            "0.4604\n",
            "CLASSIFICATION REPORT:\n",
            "\tPrecision: 0.4498\n",
            "\tRecall: 0.4591\n",
            "\tF1_Score: 0.4494\n"
          ]
        }
      ]
    },
    {
      "cell_type": "code",
      "source": [
        "accuracy_conf_mat(y_test_rf, y_pred_rf)"
      ],
      "metadata": {
        "id": "OkdprXoesdht",
        "colab": {
          "base_uri": "https://localhost:8080/",
          "height": 639
        },
        "outputId": "ff62e564-15dc-479b-83ba-b58378964a09"
      },
      "execution_count": 107,
      "outputs": [
        {
          "output_type": "stream",
          "name": "stdout",
          "text": [
            "0.4604\n"
          ]
        },
        {
          "output_type": "display_data",
          "data": {
            "image/png": "[encoded data removed]",
            "text/plain": [
              "<Figure size 720x720 with 2 Axes>"
            ]
          },
          "metadata": {
            "needs_background": "light"
          }
        }
      ]
    },
    {
      "cell_type": "markdown",
      "source": [
        "<h3> 5.3.2 Word Embeddings"
      ],
      "metadata": {
        "id": "6VQWY5NrrHFI"
      }
    },
    {
      "cell_type": "code",
      "metadata": {
        "id": "bIrshLbcI1mk",
        "colab": {
          "base_uri": "https://localhost:8080/"
        },
        "outputId": "c83339a2-41c8-4383-b627-8b17b0c88032"
      },
      "source": [
        "#Vectorizing - Word Embeddings\n",
        "\n",
        "with nlp.disable_pipes():\n",
        "    doc_vectors = np.array([nlp(sentence).vector for sentence in rf_data.sentence])\n",
        "    \n",
        "doc_vectors.shape\n",
        "\n"
      ],
      "execution_count": 108,
      "outputs": [
        {
          "output_type": "execute_result",
          "data": {
            "text/plain": [
              "(4800, 96)"
            ]
          },
          "metadata": {},
          "execution_count": 108
        }
      ]
    },
    {
      "cell_type": "code",
      "source": [
        "from sklearn.model_selection import train_test_split\n",
        "\n",
        "X_train_rf, X_test_rf, y_train_rf, y_test_rf = train_test_split(doc_vectors, rf_data.difficulty,\n",
        "                                                    test_size=0.2, random_state=0)\n",
        "\n"
      ],
      "metadata": {
        "id": "qhDT6-RJT0rP"
      },
      "execution_count": 109,
      "outputs": []
    },
    {
      "cell_type": "code",
      "source": [
        "# Fit model on training set\n",
        "rfc.fit(X_train_rf, y_train_rf)"
      ],
      "metadata": {
        "id": "Z2f31HiaVNq3",
        "colab": {
          "base_uri": "https://localhost:8080/"
        },
        "outputId": "19cea6c2-a7bd-4618-e28e-327ed6bea232"
      },
      "execution_count": 110,
      "outputs": [
        {
          "output_type": "execute_result",
          "data": {
            "text/plain": [
              "RandomForestClassifier(bootstrap=False, max_depth=70, min_samples_split=10,\n",
              "                       n_estimators=1166)"
            ]
          },
          "metadata": {},
          "execution_count": 110
        }
      ]
    },
    {
      "cell_type": "code",
      "source": [
        "y_pred_rf = rfc.predict(X_test_rf)\n",
        "\n",
        "evaluate(y_test_rf, y_pred_rf)"
      ],
      "metadata": {
        "id": "4klckEeUVR1Q",
        "colab": {
          "base_uri": "https://localhost:8080/"
        },
        "outputId": "a3535d70-9f98-4719-be98-3925397b7d01"
      },
      "execution_count": 111,
      "outputs": [
        {
          "output_type": "stream",
          "name": "stdout",
          "text": [
            "ACCURACY SCORE:\n",
            "0.3896\n",
            "CLASSIFICATION REPORT:\n",
            "\tPrecision: 0.3902\n",
            "\tRecall: 0.3903\n",
            "\tF1_Score: 0.3869\n"
          ]
        }
      ]
    },
    {
      "cell_type": "markdown",
      "source": [
        "<h3> 5.3.3 Dimensionality Reduction"
      ],
      "metadata": {
        "id": "xEVmT3aGsvkS"
      }
    },
    {
      "cell_type": "code",
      "metadata": {
        "id": "ZFsQtcUMIpim"
      },
      "source": [
        "pca = PCA(n_components=200) #n_components can be varied to try out different models"
      ],
      "execution_count": 112,
      "outputs": []
    },
    {
      "cell_type": "code",
      "metadata": {
        "id": "evMidJmPeMJ7"
      },
      "source": [
        "X_rf = rf_data['sentence']\n",
        "ylabels_rf = rf_data['difficulty']\n",
        "\n",
        "X_train_rf, X_test_rf, y_train_rf, y_test_rf = train_test_split(X_rf, ylabels_rf, test_size=0.2, random_state=0, stratify=ylabels_rf)"
      ],
      "execution_count": 113,
      "outputs": []
    },
    {
      "cell_type": "code",
      "source": [
        "X_train_vec_rf = tfidf_vector.fit_transform(X_train_rf).toarray()\n",
        "X_test_vec_rf = tfidf_vector.transform(X_test_rf).toarray()\n",
        "print(X_train_vec_rf.shape)"
      ],
      "metadata": {
        "id": "Cp6Tg7tzs1fC",
        "colab": {
          "base_uri": "https://localhost:8080/"
        },
        "outputId": "6d4e25bf-601a-45f0-c9aa-6c0b5e6ae2cf"
      },
      "execution_count": 114,
      "outputs": [
        {
          "output_type": "stream",
          "name": "stdout",
          "text": [
            "(3840, 12903)\n"
          ]
        }
      ]
    },
    {
      "cell_type": "code",
      "source": [
        "#build pipe without Scaler & PCA\n",
        "scaler = StandardScaler()\n",
        "pipe = Pipeline([\n",
        "                 ('rfc', rfc),\n",
        "                 ])\n",
        "\n",
        "# Fit model\n",
        "start = time.time()\n",
        "pipe.fit(X_train_vec_rf, y_train_rf)\n",
        "end = time.time()\n",
        "print('Time: ', round(end-start, 4))\n",
        "print('Train Accuracy: ', round(pipe.score(X_train_vec_rf, y_train_rf), 4))\n",
        "print('Test Accuracy: ', round(pipe.score(X_test_vec_rf, y_test_rf), 4))"
      ],
      "metadata": {
        "id": "prCEfZefzFaf",
        "colab": {
          "base_uri": "https://localhost:8080/"
        },
        "outputId": "cff7d750-df65-4a74-aac7-ca328bd959d5"
      },
      "execution_count": 115,
      "outputs": [
        {
          "output_type": "stream",
          "name": "stdout",
          "text": [
            "Time:  362.3685\n",
            "Train Accuracy:  0.9885\n",
            "Test Accuracy:  0.4177\n"
          ]
        }
      ]
    },
    {
      "cell_type": "code",
      "source": [
        "#build pipe with  StandardScaler\n",
        "scaler = StandardScaler()\n",
        "pipe = Pipeline([\n",
        "                 ('scaler', scaler),\n",
        "                 ('rfc', rfc),\n",
        "                 ])\n",
        "\n",
        "# Fit model\n",
        "start = time.time()\n",
        "pipe.fit(X_train_vec_rf, y_train_rf)\n",
        "end = time.time()\n",
        "print('Time: ', round(end-start, 4))\n",
        "print('Train Accuracy: ', round(pipe.score(X_train_vec_rf, y_train_rf), 4))\n",
        "print('Test Accuracy: ', round(pipe.score(X_test_vec_rf, y_test_rf), 4))"
      ],
      "metadata": {
        "id": "BfARcuclvVQx",
        "colab": {
          "base_uri": "https://localhost:8080/"
        },
        "outputId": "2604e80c-d60d-43b4-f244-7dd3228bbb32"
      },
      "execution_count": 116,
      "outputs": [
        {
          "output_type": "stream",
          "name": "stdout",
          "text": [
            "Time:  364.6552\n",
            "Train Accuracy:  0.9885\n",
            "Test Accuracy:  0.4188\n"
          ]
        }
      ]
    },
    {
      "cell_type": "code",
      "source": [
        "#build pipe with PCA \n",
        "pipe = Pipeline([\n",
        "                 ('pca', pca),\n",
        "                 ('rfc', rfc),\n",
        "                 ])\n",
        "\n",
        "# Fit model\n",
        "start = time.time()\n",
        "pipe.fit(X_train_vec_rf, y_train_rf)\n",
        "end = time.time()\n",
        "print('Time: ', round(end-start, 4))\n",
        "print('Train Accuracy: ', round(pipe.score(X_train_vec_rf, y_train_rf), 4))\n",
        "print('Test Accuracy: ', round(pipe.score(X_test_vec_rf, y_test_rf), 4))"
      ],
      "metadata": {
        "id": "RTI2CafMtD9x",
        "colab": {
          "base_uri": "https://localhost:8080/"
        },
        "outputId": "1e1eb942-31aa-4f5b-e76d-31d3bae65a9b"
      },
      "execution_count": 117,
      "outputs": [
        {
          "output_type": "stream",
          "name": "stdout",
          "text": [
            "Time:  121.9355\n",
            "Train Accuracy:  0.9984\n",
            "Test Accuracy:  0.4021\n"
          ]
        }
      ]
    },
    {
      "cell_type": "code",
      "source": [
        "#build pipe with PCA & StandardScaler\n",
        "\n",
        "pipe = Pipeline([\n",
        "                 ('scaler', scaler),\n",
        "                 ('pca', pca),\n",
        "                 ('rfc', rfc),\n",
        "                 ])\n",
        "\n",
        "# Fit model\n",
        "start = time.time()\n",
        "pipe.fit(X_train_vec_rf, y_train_rf)\n",
        "end = time.time()\n",
        "print('Time: ', round(end-start, 4))\n",
        "print('Train Accuracy: ', round(pipe.score(X_train_vec_rf, y_train_rf), 4))\n",
        "print('Test Accuracy: ', round(pipe.score(X_test_vec_rf, y_test_rf), 4))"
      ],
      "metadata": {
        "id": "WInkSWaAuI5X",
        "colab": {
          "base_uri": "https://localhost:8080/"
        },
        "outputId": "25cdf79a-93db-4ccc-8268-c98b795b36c9"
      },
      "execution_count": 118,
      "outputs": [
        {
          "output_type": "stream",
          "name": "stdout",
          "text": [
            "Time:  110.914\n",
            "Train Accuracy:  0.9982\n",
            "Test Accuracy:  0.399\n"
          ]
        }
      ]
    },
    {
      "cell_type": "markdown",
      "source": [
        "# 6. Linear Support Vector Classification\n",
        "<h2> 6.1 LinearSVC without any data cleaning"
      ],
      "metadata": {
        "id": "rkwceP7z6AwD"
      }
    },
    {
      "cell_type": "code",
      "metadata": {
        "id": "iKbIfED5-rGf"
      },
      "source": [
        "svc_data=pd.read_csv('https://raw.githubusercontent.com/chadi-aebi/DMML2021_Rolex/main/data/training_data.csv', index_col='id')\n",
        "svc_test_df = pd.read_csv('https://raw.githubusercontent.com/chadi-aebi/DMML2021_Rolex/main/data/unlabelled_test_data.csv', index_col='id')\n"
      ],
      "execution_count": 119,
      "outputs": []
    },
    {
      "cell_type": "code",
      "metadata": {
        "id": "z2uCUzcV-rGi"
      },
      "source": [
        "X_svc = svc_data['sentence']\n",
        "ylabels_svc = svc_data['difficulty']\n",
        "\n",
        "X_train_svc, X_test_svc, y_train_svc, y_test_svc = train_test_split(X_svc, ylabels_svc, test_size=0.2, random_state=0, stratify=ylabels_svc)"
      ],
      "execution_count": 120,
      "outputs": []
    },
    {
      "cell_type": "code",
      "source": [
        "X_train_svc_df = pd.DataFrame(X_train_svc)"
      ],
      "metadata": {
        "id": "RnKyzFO7-rGi"
      },
      "execution_count": 121,
      "outputs": []
    },
    {
      "cell_type": "code",
      "metadata": {
        "id": "G60yfcj1-rGj"
      },
      "source": [
        "# Define classifier\n",
        "svc = LinearSVC()\n",
        "# svc = LinearSVC(random_state=1, dual=False, max_iter=10000)"
      ],
      "execution_count": 122,
      "outputs": []
    },
    {
      "cell_type": "code",
      "metadata": {
        "id": "VE9V5CFB-rGk",
        "colab": {
          "base_uri": "https://localhost:8080/"
        },
        "outputId": "101f145c-6cae-47eb-98a0-d9ae7b5da5a2"
      },
      "source": [
        "# Create pipeline with tfidf\n",
        "pipe = Pipeline([('vectorizer', tfidf_vector),\n",
        "                 ('classifier', svc)])\n",
        "\n",
        "# Fit model on training set\n",
        "pipe.fit(X_train_svc, y_train_svc)"
      ],
      "execution_count": 123,
      "outputs": [
        {
          "output_type": "execute_result",
          "data": {
            "text/plain": [
              "Pipeline(steps=[('vectorizer', TfidfVectorizer()), ('classifier', LinearSVC())])"
            ]
          },
          "metadata": {},
          "execution_count": 123
        }
      ]
    },
    {
      "cell_type": "code",
      "source": [
        "y_pred_svc = pipe.predict(X_test_svc)\n",
        "\n",
        "acc_svc_0 = accuracy_score(y_test_svc,y_pred_svc)\n",
        "evaluate(y_test_svc, y_pred_svc)"
      ],
      "metadata": {
        "id": "U7zNG1eG-rGl",
        "colab": {
          "base_uri": "https://localhost:8080/"
        },
        "outputId": "0873bd17-1a84-4c4e-b4e0-f5acef831ace"
      },
      "execution_count": 124,
      "outputs": [
        {
          "output_type": "stream",
          "name": "stdout",
          "text": [
            "ACCURACY SCORE:\n",
            "0.4615\n",
            "CLASSIFICATION REPORT:\n",
            "\tPrecision: 0.4565\n",
            "\tRecall: 0.4604\n",
            "\tF1_Score: 0.4557\n"
          ]
        }
      ]
    },
    {
      "cell_type": "code",
      "source": [
        "accuracy_conf_mat(y_test_svc, y_pred_svc)"
      ],
      "metadata": {
        "id": "Hes9HPfbh3o-",
        "colab": {
          "base_uri": "https://localhost:8080/",
          "height": 639
        },
        "outputId": "4548329f-c8ec-4483-ec20-464853fed231"
      },
      "execution_count": 125,
      "outputs": [
        {
          "output_type": "stream",
          "name": "stdout",
          "text": [
            "0.4615\n"
          ]
        },
        {
          "output_type": "display_data",
          "data": {
            "image/png": "[encoded data removed]",
            "text/plain": [
              "<Figure size 720x720 with 2 Axes>"
            ]
          },
          "metadata": {
            "needs_background": "light"
          }
        }
      ]
    },
    {
      "cell_type": "markdown",
      "source": [
        "<h2> LinearSVC with Hyperparameter Tuning"
      ],
      "metadata": {
        "id": "5t24-OMJAVNk"
      }
    },
    {
      "cell_type": "code",
      "source": [
        "# Define parameters to test\n",
        "\n",
        "\n",
        "#grid_svc = [ {'C': [1, 10, 100, 1000], \n",
        "#              'penalty': ['l1', 'l2'], \n",
        "#              'loss': ['hinge','squared_hinge'], \n",
        "#             # 'dual' : ['false', 'true'], \n",
        "#              'max_iter' : [100, 1000, 10000]}]\n",
        "\n",
        "#second round\n",
        "#grid_svc = [ {\n",
        "            #'C': [1, 10, 100, 1000], \n",
        "            #  'penalty': ['l1', 'l2'], \n",
        "            #  'loss': ['hinge','squared_hinge'], \n",
        "             # 'dual' : ['false', 'true'], \n",
        "#              'max_iter' : [1, 100, 300, 500, 700, 900]}]\n",
        "\n",
        "# Define and fit model\n",
        "\n",
        "#svc = LogisticSVC()\n",
        "#svc_cv = GridSearchCV(svc, grid_svc, cv=10)\n",
        "#pipe = Pipeline([('vectorizer', tfidf_vector),\n",
        " #                ('classifier', svc_cv)])\n",
        "\n",
        "#pipe.fit(X_train_svc, y_train_svc)\n",
        "\n",
        "# Print results\n",
        "\n",
        "#print(\"Hyperparameters:\", svc_cv.best_params_)\n",
        "#y_pred_svc = pipe.predict(X_test_svc)\n",
        "#evaluate(y_test_svc, y_pred_svc)"
      ],
      "metadata": {
        "id": "bvv8kt1CA4WW"
      },
      "execution_count": 126,
      "outputs": []
    },
    {
      "cell_type": "code",
      "source": [
        "#safe best parameters\n",
        "#Hyperparameters= {'C': 1, 'loss': 'squared_hinge', 'max_iter': 100, 'penalty': 'l2'}"
      ],
      "metadata": {
        "id": "jJQr3-9-A4Wa"
      },
      "execution_count": 127,
      "outputs": []
    },
    {
      "cell_type": "markdown",
      "source": [
        "<h2> 6.3 LinearSVC with further methods\n",
        "<h3> 6.3.1 Preprocessing"
      ],
      "metadata": {
        "id": "dflHJzozBX0b"
      }
    },
    {
      "cell_type": "code",
      "metadata": {
        "id": "_0s1QMvaBmZZ"
      },
      "source": [
        "tfidf_vec_svc = TfidfVectorizer(tokenizer=spacy_tokenizer)"
      ],
      "execution_count": 128,
      "outputs": []
    },
    {
      "cell_type": "code",
      "source": [
        "# Define classifier with best params - \n",
        "svc = LinearSVC(C = 1, loss = 'squared_hinge', max_iter= 100)"
      ],
      "metadata": {
        "id": "MuuLGLCzBmZa"
      },
      "execution_count": 129,
      "outputs": []
    },
    {
      "cell_type": "code",
      "source": [
        "# Create pipeline with tfidf \n",
        "pipe = Pipeline([('vectorizer', tfidf_vec_svc),\n",
        "                 ('classifier', svc)])\n",
        "\n",
        "# Fit model on training set\n",
        "pipe.fit(X_train_svc, y_train_svc)"
      ],
      "metadata": {
        "id": "9g14eTUeBmZc",
        "colab": {
          "base_uri": "https://localhost:8080/"
        },
        "outputId": "93f889b4-f351-4dda-f554-8ffd43558684"
      },
      "execution_count": 130,
      "outputs": [
        {
          "output_type": "execute_result",
          "data": {
            "text/plain": [
              "Pipeline(steps=[('vectorizer',\n",
              "                 TfidfVectorizer(tokenizer=<function spacy_tokenizer at 0x7f372ff47050>)),\n",
              "                ('classifier', LinearSVC(C=1, max_iter=100))])"
            ]
          },
          "metadata": {},
          "execution_count": 130
        }
      ]
    },
    {
      "cell_type": "code",
      "metadata": {
        "id": "UFtTLoTPBmZe",
        "colab": {
          "base_uri": "https://localhost:8080/"
        },
        "outputId": "fa2f41b1-93c6-41c1-b250-08d5ba205e47"
      },
      "source": [
        "y_pred_svc = pipe.predict(X_test_svc)\n",
        "\n",
        "evaluate(y_test_svc, y_pred_svc)"
      ],
      "execution_count": 131,
      "outputs": [
        {
          "output_type": "stream",
          "name": "stdout",
          "text": [
            "ACCURACY SCORE:\n",
            "0.4833\n",
            "CLASSIFICATION REPORT:\n",
            "\tPrecision: 0.4783\n",
            "\tRecall: 0.4822\n",
            "\tF1_Score: 0.4787\n"
          ]
        }
      ]
    },
    {
      "cell_type": "code",
      "source": [
        "accuracy_conf_mat(y_test_svc, y_pred_svc)"
      ],
      "metadata": {
        "id": "WgdfIr2VsmSc",
        "colab": {
          "base_uri": "https://localhost:8080/",
          "height": 639
        },
        "outputId": "a65b240a-ca85-48e0-949c-a3113ca752b8"
      },
      "execution_count": 132,
      "outputs": [
        {
          "output_type": "stream",
          "name": "stdout",
          "text": [
            "0.4833\n"
          ]
        },
        {
          "output_type": "display_data",
          "data": {
            "image/png": "[encoded data removed]",
            "text/plain": [
              "<Figure size 720x720 with 2 Axes>"
            ]
          },
          "metadata": {
            "needs_background": "light"
          }
        }
      ]
    },
    {
      "cell_type": "markdown",
      "source": [
        "<h3> 6.3.2 Word Embedding"
      ],
      "metadata": {
        "id": "m8t3ls46GObg"
      }
    },
    {
      "cell_type": "code",
      "metadata": {
        "id": "uvNhL0a5GRoy",
        "colab": {
          "base_uri": "https://localhost:8080/"
        },
        "outputId": "d8b9dee6-ceb9-4f2f-ee91-61356bc4be0d"
      },
      "source": [
        "#Vectorizing - Word Embeddings\n",
        "\n",
        "with nlp.disable_pipes():\n",
        "    doc_vectors = np.array([nlp(sentence).vector for sentence in svc_data.sentence])\n",
        "    \n",
        "doc_vectors.shape\n",
        "\n"
      ],
      "execution_count": 133,
      "outputs": [
        {
          "output_type": "execute_result",
          "data": {
            "text/plain": [
              "(4800, 96)"
            ]
          },
          "metadata": {},
          "execution_count": 133
        }
      ]
    },
    {
      "cell_type": "code",
      "source": [
        "from sklearn.model_selection import train_test_split\n",
        "\n",
        "X_train_svc, X_test_svc, y_train_svc, y_test_svc = train_test_split(doc_vectors, svc_data.difficulty,\n",
        "                                                    test_size=0.2, random_state=0)\n",
        "\n"
      ],
      "metadata": {
        "id": "0q8Q_zRnGRo1"
      },
      "execution_count": 134,
      "outputs": []
    },
    {
      "cell_type": "code",
      "source": [
        "# Fit model on training set\n",
        "svc.fit(X_train_svc, y_train_svc)"
      ],
      "metadata": {
        "id": "7AiX-wt2GRo2",
        "colab": {
          "base_uri": "https://localhost:8080/"
        },
        "outputId": "47079bde-cf0f-489b-dd0b-e1d3f90f723c"
      },
      "execution_count": 135,
      "outputs": [
        {
          "output_type": "stream",
          "name": "stderr",
          "text": [
            "/usr/local/lib/python3.7/dist-packages/sklearn/svm/_base.py:1208: ConvergenceWarning: Liblinear failed to converge, increase the number of iterations.\n",
            "  ConvergenceWarning,\n"
          ]
        },
        {
          "output_type": "execute_result",
          "data": {
            "text/plain": [
              "LinearSVC(C=1, max_iter=100)"
            ]
          },
          "metadata": {},
          "execution_count": 135
        }
      ]
    },
    {
      "cell_type": "code",
      "source": [
        "y_pred_svc = svc.predict(X_test_svc)\n",
        "\n",
        "evaluate(y_test_svc, y_pred_svc)"
      ],
      "metadata": {
        "id": "forpiHjLGRo3",
        "colab": {
          "base_uri": "https://localhost:8080/"
        },
        "outputId": "b3f60800-1484-4b4a-efed-4f4e0f98ec89"
      },
      "execution_count": 136,
      "outputs": [
        {
          "output_type": "stream",
          "name": "stdout",
          "text": [
            "ACCURACY SCORE:\n",
            "0.3406\n",
            "CLASSIFICATION REPORT:\n",
            "\tPrecision: 0.3698\n",
            "\tRecall: 0.3494\n",
            "\tF1_Score: 0.3218\n"
          ]
        }
      ]
    },
    {
      "cell_type": "markdown",
      "source": [
        "<h3> 6.3.3 Dimensionality Reduction"
      ],
      "metadata": {
        "id": "mj9kEEmcGoxb"
      }
    },
    {
      "cell_type": "code",
      "metadata": {
        "id": "8or-lex0HJOX"
      },
      "source": [
        "pca = PCA(n_components=3000) #n_components can be varied to try out different models"
      ],
      "execution_count": 137,
      "outputs": []
    },
    {
      "cell_type": "code",
      "metadata": {
        "id": "VuUd5qYsHJOZ"
      },
      "source": [
        "X_svc = svc_data['sentence']\n",
        "ylabels_svc = svc_data['difficulty']\n",
        "\n",
        "X_train_svc, X_test_svc, y_train_svc, y_test_svc = train_test_split(X_svc, ylabels_svc, test_size=0.2, random_state=0, stratify=ylabels_svc)"
      ],
      "execution_count": 138,
      "outputs": []
    },
    {
      "cell_type": "code",
      "source": [
        "#X_train_vec_svc = tfidf_vector.fit_transform(X_train_svc).toarray()\n",
        "#X_test_vec_svc = tfidf_vector.transform(X_test_svc).toarray()\n",
        "#print(X_train_vec_svc.shape)"
      ],
      "metadata": {
        "id": "t2nZfLsFHJOc"
      },
      "execution_count": 139,
      "outputs": []
    },
    {
      "cell_type": "code",
      "source": [
        "X_train_vec_svc = tfidf_vec_svc.fit_transform(X_train_svc).toarray()\n",
        "X_test_vec_svc = tfidf_vec_svc.transform(X_test_svc).toarray()\n",
        "print(X_train_vec_svc.shape)"
      ],
      "metadata": {
        "id": "qODPbm1ZKsM5",
        "colab": {
          "base_uri": "https://localhost:8080/"
        },
        "outputId": "bef8a6ca-70e6-449f-af31-6360b63f341c"
      },
      "execution_count": 140,
      "outputs": [
        {
          "output_type": "stream",
          "name": "stdout",
          "text": [
            "(3840, 9602)\n"
          ]
        }
      ]
    },
    {
      "cell_type": "code",
      "source": [
        "#build pipe without Scaler & PCA\n",
        "scaler = StandardScaler()\n",
        "pipe = Pipeline([\n",
        "                 ('svc', svc),\n",
        "                 ])\n",
        "\n",
        "# Fit model\n",
        "pipe.fit(X_train_vec_svc, y_train_svc)\n",
        "print('Train Accuracy: ', round(pipe.score(X_train_vec_svc, y_train_svc), 4))\n",
        "print('Test Accuracy: ', round(pipe.score(X_test_vec_svc, y_test_svc), 4))"
      ],
      "metadata": {
        "id": "7pq_8TVSHJOd",
        "colab": {
          "base_uri": "https://localhost:8080/"
        },
        "outputId": "039ae39f-3266-4ef0-c26a-d863dc36acdc"
      },
      "execution_count": 141,
      "outputs": [
        {
          "output_type": "stream",
          "name": "stdout",
          "text": [
            "Train Accuracy:  0.9747\n",
            "Test Accuracy:  0.4833\n"
          ]
        }
      ]
    },
    {
      "cell_type": "code",
      "source": [
        "#build pipe with  StandardScaler\n",
        "scaler = StandardScaler()\n",
        "pipe = Pipeline([\n",
        "                 ('scaler', scaler),\n",
        "                 ('svc', svc),\n",
        "                 ])\n",
        "\n",
        "# Fit model\n",
        "pipe.fit(X_train_vec_svc, y_train_svc)\n",
        "print('Train Accuracy: ', round(pipe.score(X_train_vec_svc, y_train_svc), 4))\n",
        "print('Test Accuracy: ', round(pipe.score(X_test_vec_svc, y_test_svc), 4))"
      ],
      "metadata": {
        "id": "oHyVCXM9HJOe",
        "colab": {
          "base_uri": "https://localhost:8080/"
        },
        "outputId": "8239d0fa-fdde-4ac6-877b-83fcaef54acd"
      },
      "execution_count": 142,
      "outputs": [
        {
          "output_type": "stream",
          "name": "stderr",
          "text": [
            "/usr/local/lib/python3.7/dist-packages/sklearn/svm/_base.py:1208: ConvergenceWarning: Liblinear failed to converge, increase the number of iterations.\n",
            "  ConvergenceWarning,\n"
          ]
        },
        {
          "output_type": "stream",
          "name": "stdout",
          "text": [
            "Train Accuracy:  0.9977\n",
            "Test Accuracy:  0.3625\n"
          ]
        }
      ]
    },
    {
      "cell_type": "code",
      "source": [
        "#build pipe with PCA \n",
        "pipe = Pipeline([\n",
        "                 ('pca', pca),\n",
        "                 ('svc', svc),\n",
        "                 ])\n",
        "\n",
        "# Fit model\n",
        "pipe.fit(X_train_vec_svc, y_train_svc)\n",
        "print('Train Accuracy: ', round(pipe.score(X_train_vec_svc, y_train_svc), 4))\n",
        "print('Test Accuracy: ', round(pipe.score(X_test_vec_svc, y_test_svc), 4))"
      ],
      "metadata": {
        "id": "qlC7K1ESHJOf",
        "colab": {
          "base_uri": "https://localhost:8080/"
        },
        "outputId": "f3011003-697e-455d-dfe4-30fdfe82772a"
      },
      "execution_count": 143,
      "outputs": [
        {
          "output_type": "stream",
          "name": "stdout",
          "text": [
            "Train Accuracy:  0.9656\n",
            "Test Accuracy:  0.4906\n"
          ]
        }
      ]
    },
    {
      "cell_type": "code",
      "source": [
        "#build pipe with PCA & StandardScaler\n",
        "\n",
        "pipe = Pipeline([\n",
        "                 ('scaler', scaler),\n",
        "                 ('pca', pca),\n",
        "                 ('svc', svc),\n",
        "                 ])\n",
        "\n",
        "# Fit model\n",
        "pipe.fit(X_train_vec_svc, y_train_svc)\n",
        "print('Train Accuracy: ', round(pipe.score(X_train_vec_svc, y_train_svc), 4))\n",
        "print('Test Accuracy: ', round(pipe.score(X_test_vec_svc, y_test_svc), 4))"
      ],
      "metadata": {
        "id": "L70WxPxmHJOg",
        "colab": {
          "base_uri": "https://localhost:8080/"
        },
        "outputId": "7cf339c0-c329-431a-be27-fd40d5d29aa8"
      },
      "execution_count": 144,
      "outputs": [
        {
          "output_type": "stream",
          "name": "stderr",
          "text": [
            "/usr/local/lib/python3.7/dist-packages/sklearn/svm/_base.py:1208: ConvergenceWarning: Liblinear failed to converge, increase the number of iterations.\n",
            "  ConvergenceWarning,\n"
          ]
        },
        {
          "output_type": "stream",
          "name": "stdout",
          "text": [
            "Train Accuracy:  0.9898\n",
            "Test Accuracy:  0.3792\n"
          ]
        }
      ]
    },
    {
      "cell_type": "markdown",
      "source": [
        "# 7. Summary"
      ],
      "metadata": {
        "id": "qBytgS5tbu2-"
      }
    },
    {
      "cell_type": "markdown",
      "source": [
        "So let's have a look at how the different classifiers worked without any data cleaning:\n"
      ],
      "metadata": {
        "id": "xz-LpBOdb2ZC"
      }
    },
    {
      "cell_type": "code",
      "source": [
        "#Plotting accuracies\n",
        "accuracies = pd.DataFrame({\"Accuracy\":[acc_lr_0, acc_knn_0, acc_tree_0, acc_rf_0,acc_svc_0 ]})\n",
        "accuracies.index = [\"Log Reg\",\"KNN\",\"Decision Tree\",\"Random Forest\",\"LinSVC\"]\n",
        "\n",
        "accuracies.plot.bar(rot=5, title=\"Accuracy of different models\",figsize=(12,8),color=(0.7,0.7,.7,1))\n",
        "plt.axhline(baseline, color=\"red\",ls=\"--\",label=\"Base\")\n",
        "plt.annotate(f\"Base rate\\n{baseline:.3f}\",(4.5,baseline))\n",
        "#plt.axhline(1, color=\"green\",ls=\"-\",label=\"Base\")\n",
        "\n"
      ],
      "metadata": {
        "colab": {
          "base_uri": "https://localhost:8080/",
          "height": 523
        },
        "id": "0Onl94dNgRqe",
        "outputId": "37211188-50de-4bc1-ac80-a31099fe7c23"
      },
      "execution_count": 147,
      "outputs": [
        {
          "output_type": "execute_result",
          "data": {
            "text/plain": [
              "Text(4.5, 0.169375, 'Base rate\\n0.169')"
            ]
          },
          "metadata": {},
          "execution_count": 147
        },
        {
          "output_type": "display_data",
          "data": {
            "image/png": "[encoded data removed]",
            "text/plain": [
              "<Figure size 864x576 with 1 Axes>"
            ]
          },
          "metadata": {
            "needs_background": "light"
          }
        }
      ]
    },
    {
      "cell_type": "markdown",
      "source": [
        "Our best prediction with the unlabelled data was when we used Logistic Regression with the Hyperparameters (C=10, penalty = 'l2', solver = 'liblinear'). Furthermore, we used tokenization, lemmatization and removed anonymous people and dates. With our train-test methods we got even better accuracy scores with other combinations of methods, however this only shows that sometimes the model overfits and that a higher accuracy score on the test data does not mean that it works equally well on data that you haven't used before. "
      ],
      "metadata": {
        "id": "v3e7Zdu1b_Is"
      }
    },
    {
      "cell_type": "markdown",
      "source": [
        "To get a little bit of explanation for our notebook, have a look at our video:"
      ],
      "metadata": {
        "id": "8ppL4kwKgVvJ"
      }
    },
    {
      "cell_type": "code",
      "source": [
        "%%HTML\n",
        "<iframe width=\"560\" height=\"340\" src=\"https://www.youtube.com/embed/aIEJij_x8Hc\"></iframe>"
      ],
      "metadata": {
        "colab": {
          "base_uri": "https://localhost:8080/",
          "height": 366
        },
        "id": "LHas6IXxfYe9",
        "outputId": "91e20228-ae2a-442f-a7e4-7ab197a34fde"
      },
      "execution_count": 146,
      "outputs": [
        {
          "output_type": "display_data",
          "data": {
            "text/html": [
              "<iframe width=\"560\" height=\"340\" src=\"https://www.youtube.com/embed/aIEJij_x8Hc\"></iframe>"
            ],
            "text/plain": [
              "<IPython.core.display.HTML object>"
            ]
          },
          "metadata": {}
        }
      ]
    },
    {
      "cell_type": "markdown",
      "source": [
        "<h1> Thank you!"
      ],
      "metadata": {
        "id": "IEIHWKwJhAE9"
      }
    }
  ]
}